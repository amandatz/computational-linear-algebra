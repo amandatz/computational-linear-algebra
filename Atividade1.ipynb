{
  "nbformat": 4,
  "nbformat_minor": 0,
  "metadata": {
    "colab": {
      "provenance": [],
      "authorship_tag": "ABX9TyOJPP6LG4GEpH+y5Ram/fZk",
      "include_colab_link": true
    },
    "kernelspec": {
      "name": "julia",
      "display_name": "Julia"
    },
    "language_info": {
      "name": "julia"
    }
  },
  "cells": [
    {
      "cell_type": "markdown",
      "metadata": {
        "id": "view-in-github",
        "colab_type": "text"
      },
      "source": [
        "<a href=\"https://colab.research.google.com/github/amandatz/computational-linear-algebra/blob/main/Atividade1.ipynb\" target=\"_parent\"><img src=\"https://colab.research.google.com/assets/colab-badge.svg\" alt=\"Open In Colab\"/></a>"
      ]
    },
    {
      "cell_type": "markdown",
      "source": [
        "# Atividade Computacional 1"
      ],
      "metadata": {
        "id": "fkGVnRe9CPdx"
      }
    },
    {
      "cell_type": "code",
      "source": [
        "using LinearAlgebra"
      ],
      "metadata": {
        "id": "HWjqEDuVIgTF"
      },
      "execution_count": 9,
      "outputs": []
    },
    {
      "cell_type": "markdown",
      "source": [
        "## Questão 1"
      ],
      "metadata": {
        "id": "iC9tSXZLCTw9"
      }
    },
    {
      "cell_type": "code",
      "execution_count": null,
      "metadata": {
        "id": "5deARnyg_0u3"
      },
      "outputs": [],
      "source": []
    },
    {
      "cell_type": "markdown",
      "source": [
        "## Questão 2"
      ],
      "metadata": {
        "id": "lnekAseLCVy8"
      }
    },
    {
      "cell_type": "code",
      "source": [],
      "metadata": {
        "id": "6GTtIWE7CXsg"
      },
      "execution_count": null,
      "outputs": []
    },
    {
      "cell_type": "markdown",
      "source": [
        "## Questão 3"
      ],
      "metadata": {
        "id": "kzBgumq1CYA2"
      }
    },
    {
      "cell_type": "code",
      "source": [
        "A = [1 1; 1 1.0001]\n",
        "b = [2 2]"
      ],
      "metadata": {
        "colab": {
          "base_uri": "https://localhost:8080/"
        },
        "id": "NMzqhLIWCffq",
        "outputId": "9daad97e-7b79-42f1-a953-c94d10a0c976"
      },
      "execution_count": 2,
      "outputs": [
        {
          "output_type": "execute_result",
          "data": {
            "text/plain": [
              "1×2 Matrix{Int64}:\n",
              " 2  2"
            ]
          },
          "metadata": {},
          "execution_count": 2
        }
      ]
    },
    {
      "cell_type": "markdown",
      "source": [
        "## Questão 4"
      ],
      "metadata": {
        "id": "aWRYqR-0CgBW"
      }
    },
    {
      "cell_type": "code",
      "source": [],
      "metadata": {
        "id": "KDxUc5S8CjMP"
      },
      "execution_count": null,
      "outputs": []
    },
    {
      "cell_type": "markdown",
      "source": [
        "## Questão 5\n"
      ],
      "metadata": {
        "id": "3iULEpo3Cjd6"
      }
    },
    {
      "cell_type": "code",
      "source": [],
      "metadata": {
        "id": "63JNujjVCk-p"
      },
      "execution_count": null,
      "outputs": []
    }
  ]
}