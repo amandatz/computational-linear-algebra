{
  "nbformat": 4,
  "nbformat_minor": 0,
  "metadata": {
    "colab": {
      "provenance": [],
      "authorship_tag": "ABX9TyNxwoDblgt+ZRykSMtg684j",
      "include_colab_link": true
    },
    "kernelspec": {
      "name": "julia",
      "display_name": "Julia"
    },
    "language_info": {
      "name": "julia"
    }
  },
  "cells": [
    {
      "cell_type": "markdown",
      "metadata": {
        "id": "view-in-github",
        "colab_type": "text"
      },
      "source": [
        "<a href=\"https://colab.research.google.com/github/amandatz/computational-linear-algebra/blob/main/Atividade1.ipynb\" target=\"_parent\"><img src=\"https://colab.research.google.com/assets/colab-badge.svg\" alt=\"Open In Colab\"/></a>"
      ]
    },
    {
      "cell_type": "markdown",
      "source": [
        "# Atividade Computacional 1"
      ],
      "metadata": {
        "id": "fkGVnRe9CPdx"
      }
    },
    {
      "cell_type": "code",
      "source": [
        "using LinearAlgebra"
      ],
      "metadata": {
        "id": "HWjqEDuVIgTF"
      },
      "execution_count": 2,
      "outputs": []
    },
    {
      "cell_type": "markdown",
      "source": [
        "## Questão 1"
      ],
      "metadata": {
        "id": "iC9tSXZLCTw9"
      }
    },
    {
      "cell_type": "code",
      "execution_count": 3,
      "metadata": {
        "colab": {
          "base_uri": "https://localhost:8080/"
        },
        "id": "5deARnyg_0u3",
        "outputId": "6e990e28-3ceb-4b6b-e8cb-948c43b73555"
      },
      "outputs": [
        {
          "output_type": "execute_result",
          "data": {
            "text/plain": [
              "hilbert (generic function with 1 method)"
            ]
          },
          "metadata": {},
          "execution_count": 3
        }
      ],
      "source": [
        "function hilbert(n)\n",
        "    return [1/(i + j - 1) for i in 1:n, j in 1:n]\n",
        "end"
      ]
    },
    {
      "cell_type": "code",
      "source": [
        "n_arr = [10, 100, 1000]\n",
        "println(\"Número de condição para\")\n",
        "foreach(x -> println(\"n = $x : $(cond(hilbert(x)))\"), n_arr)"
      ],
      "metadata": {
        "colab": {
          "base_uri": "https://localhost:8080/"
        },
        "id": "hLmMNwCJVngG",
        "outputId": "b48e6e4a-fcb5-41e6-8bfb-8ff7bdd5a418"
      },
      "execution_count": 4,
      "outputs": [
        {
          "output_type": "stream",
          "name": "stdout",
          "text": [
            "Número de condição para\n",
            "n = 10 : 1.602441698742836e13\n",
            "n = 100 : 3.0310502811585376e19\n",
            "n = 1000 : 3.956047868337803e21\n"
          ]
        }
      ]
    },
    {
      "cell_type": "markdown",
      "source": [
        "## Questão 2"
      ],
      "metadata": {
        "id": "lnekAseLCVy8"
      }
    },
    {
      "cell_type": "code",
      "source": [
        "function solve_hilbert(n)\n",
        "    A = hilbert(n)\n",
        "    b = A[:, end]\n",
        "\n",
        "    x = A \\ b\n",
        "\n",
        "    x_expected = zeros(n)\n",
        "    x_expected[end] = 1\n",
        "\n",
        "    error = norm(x - x_expected)\n",
        "\n",
        "    println(\"Ordem n = $n\")\n",
        "    println(\"Erro ||x - x*|| = $error\")\n",
        "    println(\"Solução obtida x:\\n\", x, \"\\n\")\n",
        "end"
      ],
      "metadata": {
        "id": "ANyg18NytbGP",
        "outputId": "a9a218e5-e6fb-492c-b530-664a8344542d",
        "colab": {
          "base_uri": "https://localhost:8080/"
        }
      },
      "execution_count": 15,
      "outputs": [
        {
          "output_type": "execute_result",
          "data": {
            "text/plain": [
              "solve_hilbert (generic function with 1 method)"
            ]
          },
          "metadata": {},
          "execution_count": 15
        }
      ]
    },
    {
      "cell_type": "code",
      "source": [
        "n_arr = [10, 20, 40]\n",
        "foreach(x -> solve_hilbert(x), n_arr)"
      ],
      "metadata": {
        "id": "6GTtIWE7CXsg",
        "outputId": "6d2384b2-35d3-4d52-a077-5b27b3d2cf29",
        "colab": {
          "base_uri": "https://localhost:8080/"
        }
      },
      "execution_count": 16,
      "outputs": [
        {
          "output_type": "stream",
          "name": "stdout",
          "text": [
            "Ordem n = 10\n",
            "Erro ||x - x*|| = 8.82004958406119e-5\n",
            "Solução obtida x:\n",
            "[-1.4651366774146415e-10, 1.2775109034977263e-8, -2.7392949560830654e-7, 2.5030341548541955e-6, -1.1986975802570154e-5, 3.3058644240837314e-5, -5.4382884775336115e-5, 5.2670828788366856e-5, -2.7703346960148717e-5, 1.000006102109757]\n",
            "\n",
            "Ordem n = 20\n",
            "Erro ||x - x*|| = 17.479329722835804\n",
            "Solução obtida x:\n",
            "[6.354276716598471e-8, -1.1449407480753177e-5, 0.0005093624149355328, -0.00977814143573574, 0.10054654476794901, -0.615089576184316, 2.348349289209795, -5.600259111702343, 7.717335674775905, -3.9170834315471064, -4.588814509859795, 7.760472579842202, -1.133742642284071, -5.793760161860332, 5.946403306775728, -4.129904279845813, 3.8785846966303903, -2.9179764987116616, 1.1078592552977995, 0.8463590846746345]\n",
            "\n",
            "Ordem n = 40\n",
            "Erro ||x - x*|| = 18.75699831471733\n",
            "Solução obtida x:\n",
            "[-1.3113221114908623e-8, 2.7856066329896784e-6, -0.0001463101888717198, 0.0032971930296137567, -0.039325646913285425, 0.2737780116513607, -1.1549794926323271, 2.8929730262732063, -3.7125605586529793, 0.4510794583234307, 4.918000374561169, -5.460434124861434, 3.778357844621792, -6.7232395133206175, 4.236172560309764, 5.702841977577638, -3.976253737757353, -1.5385033329300777, -3.7716092788939775, 3.959031831544937, -1.665607135975862, 3.641802166752871, 2.0940592899292425, -4.327823377765418, -0.6577735579486236, 0.9622113750966478, -0.5387359926547015, 1.721029177506387, -1.8096852010531261, -3.417981292622604, 5.8447216729776486, -0.6595477639700403, 2.0568467335728045, -2.108586708577185, -3.2807835304243396, 0.931915903882113, 1.2866508468735853, 0.7175496691471231, -0.456833407725811, 0.8280880404142024]\n",
            "\n"
          ]
        }
      ]
    },
    {
      "cell_type": "markdown",
      "source": [
        "## Questão 3"
      ],
      "metadata": {
        "id": "kzBgumq1CYA2"
      }
    },
    {
      "cell_type": "code",
      "source": [
        "A = [1.0 1.0; 1.0 1.0001]\n",
        "b = [2.0, 2.0]\n",
        "b_perturbed = [2.0, 2.0001]\n",
        "\n",
        "kappa_A = cond(A, 2)\n",
        "\n",
        "x = A \\ b\n",
        "x_perturbed = A \\ b_perturbed\n",
        "\n",
        "delta_x = x_perturbed - x\n",
        "\n",
        "norm_delta_x = norm(delta_x, 2)\n",
        "norm_x = norm(x, 2)\n",
        "norm_delta_b = norm(b_perturbed - b, 2)\n",
        "norm_b = norm(b, 2)\n",
        "\n",
        "lhs = norm_delta_x / norm_x\n",
        "rhs = kappa_A * (norm_delta_b / norm_b)\n",
        "\n",
        "println(\"Número de condição κ2(A): \", kappa_A)\n",
        "println(\"Solução x:\\n\", x)\n",
        "println(\"Solução perturbada x_perturbed:\\n\", x_perturbed)\n",
        "println(\"||δx|| / ||x|| = \", lhs)\n",
        "println(\"κ2(A) * (||δb|| / ||b||) = \", rhs)\n",
        "println(\"Desigualdade satisfeita? \", lhs ≤ rhs ? \"Sim\" : \"Não\")\n"
      ],
      "metadata": {
        "colab": {
          "base_uri": "https://localhost:8080/"
        },
        "id": "NMzqhLIWCffq",
        "outputId": "267d5faf-85fe-4a11-d701-2b615eac7450"
      },
      "execution_count": 24,
      "outputs": [
        {
          "output_type": "stream",
          "name": "stdout",
          "text": [
            "Número de condição κ2(A): 40002.00007491187\n",
            "Solução x:\n",
            "[2.0, 0.0]\n",
            "Solução perturbada x_perturbed:\n",
            "[0.9999999999977796, 1.0000000000022204]\n",
            "||δx|| / ||x|| = 0.7071067811881177\n",
            "κ2(A) * (||δb|| / ||b||) = 1.4142842757027327\n",
            "Desigualdade satisfeita? Sim\n"
          ]
        }
      ]
    },
    {
      "cell_type": "markdown",
      "source": [
        "## Questão 4"
      ],
      "metadata": {
        "id": "aWRYqR-0CgBW"
      }
    },
    {
      "cell_type": "code",
      "source": [
        "function back_substitution(U, b)\n",
        "    n = length(b)\n",
        "    x = zeros(n)\n",
        "\n",
        "    for i in n:-1:1\n",
        "        sum_term = sum(U[i, j] * x[j] for j in i+1:n; init=0.0)\n",
        "        x[i] = (b[i] - sum_term) / U[i, i]\n",
        "    end\n",
        "\n",
        "    return x\n",
        "end"
      ],
      "metadata": {
        "id": "KDxUc5S8CjMP",
        "colab": {
          "base_uri": "https://localhost:8080/"
        },
        "outputId": "f4bb5670-67ad-45eb-d571-db3424381ccb"
      },
      "execution_count": 19,
      "outputs": [
        {
          "output_type": "execute_result",
          "data": {
            "text/plain": [
              "back_substitution (generic function with 1 method)"
            ]
          },
          "metadata": {},
          "execution_count": 19
        }
      ]
    },
    {
      "cell_type": "code",
      "source": [
        "U = [2.0 -1.0 3.0; 0.0 1.0 4.0; 0.0 0.0 5.0]\n",
        "b = [5.0, 6.0, 10.0]\n",
        "\n",
        "x = back_substitution(U, b)\n",
        "\n",
        "println(\"Solução x:\\n\", x)"
      ],
      "metadata": {
        "id": "5yC3XTnYtgVe",
        "outputId": "12794905-5d67-4ca3-d5cd-1d11589d12f0",
        "colab": {
          "base_uri": "https://localhost:8080/"
        }
      },
      "execution_count": 22,
      "outputs": [
        {
          "output_type": "stream",
          "name": "stdout",
          "text": [
            "Solução x:\n",
            "[-1.5, -2.0, 2.0]\n"
          ]
        }
      ]
    },
    {
      "cell_type": "markdown",
      "source": [
        "## Questão 5\n"
      ],
      "metadata": {
        "id": "3iULEpo3Cjd6"
      }
    },
    {
      "cell_type": "code",
      "source": [
        "n = 5\n",
        "\n",
        "B = rand(n, n)\n",
        "A = triu(B)\n",
        "\n",
        "b = A * ones(n)\n",
        "\n",
        "x = back_substitution(A, b)\n",
        "\n",
        "println(\"Matriz A:\\n\", A)\n",
        "println(\"Vetor b:\\n\", b)\n",
        "println(\"Solução computada x:\\n\", x)\n",
        "println(\"Solução esperada:\\n\", ones(n))"
      ],
      "metadata": {
        "id": "63JNujjVCk-p",
        "colab": {
          "base_uri": "https://localhost:8080/"
        },
        "outputId": "e374fa43-f521-40db-e380-7825274ab001"
      },
      "execution_count": 21,
      "outputs": [
        {
          "output_type": "stream",
          "name": "stdout",
          "text": [
            "Upper Triangular Matrix A:\n",
            "[0.990778557128111 0.7647778614282531 0.5515725844226582 0.5982794250111214 0.9579980886393303; 0.0 0.22677070697785928 0.5261071851277868 0.4716949119450471 0.22091450886165498; 0.0 0.0 0.4598640521803524 0.6780010475825324 0.8727331170315085; 0.0 0.0 0.0 0.6938501646444132 0.9869377564188013; 0.0 0.0 0.0 0.0 0.7562924092848542]\n",
            "Right-hand side vector b:\n",
            "[3.863406516629474, 1.445487312912348, 2.010598216794393, 1.6807879210632146, 0.7562924092848542]\n",
            "Computed solution x:\n",
            "[0.9999999999999994, 1.0000000000000009, 0.9999999999999992, 1.0000000000000002, 1.0]\n",
            "Expected solution (should be all ones):\n",
            "[1.0, 1.0, 1.0, 1.0, 1.0]\n"
          ]
        }
      ]
    }
  ]
}