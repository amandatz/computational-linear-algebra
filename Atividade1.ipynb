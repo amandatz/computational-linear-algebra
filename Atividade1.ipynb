{
  "nbformat": 4,
  "nbformat_minor": 0,
  "metadata": {
    "colab": {
      "provenance": [],
      "authorship_tag": "ABX9TyMfOkYOLVCGL/qZ8eDkp3x/",
      "include_colab_link": true
    },
    "kernelspec": {
      "name": "julia",
      "display_name": "Julia"
    },
    "language_info": {
      "name": "julia"
    }
  },
  "cells": [
    {
      "cell_type": "markdown",
      "metadata": {
        "id": "view-in-github",
        "colab_type": "text"
      },
      "source": [
        "<a href=\"https://colab.research.google.com/github/amandatz/computational-linear-algebra/blob/main/Atividade1.ipynb\" target=\"_parent\"><img src=\"https://colab.research.google.com/assets/colab-badge.svg\" alt=\"Open In Colab\"/></a>"
      ]
    },
    {
      "cell_type": "markdown",
      "source": [
        "# Atividade Computacional 1"
      ],
      "metadata": {
        "id": "fkGVnRe9CPdx"
      }
    },
    {
      "cell_type": "code",
      "source": [
        "using LinearAlgebra"
      ],
      "metadata": {
        "id": "HWjqEDuVIgTF"
      },
      "execution_count": 11,
      "outputs": []
    },
    {
      "cell_type": "markdown",
      "source": [
        "## Questão 1"
      ],
      "metadata": {
        "id": "iC9tSXZLCTw9"
      }
    },
    {
      "cell_type": "code",
      "execution_count": 12,
      "metadata": {
        "colab": {
          "base_uri": "https://localhost:8080/"
        },
        "id": "5deARnyg_0u3",
        "outputId": "e70b0c5b-1453-476e-9c57-b1f76e45dfbf"
      },
      "outputs": [
        {
          "output_type": "execute_result",
          "data": {
            "text/plain": [
              "hilbert (generic function with 1 method)"
            ]
          },
          "metadata": {},
          "execution_count": 12
        }
      ],
      "source": [
        "function hilbert(n)\n",
        "    return [1/(i + j - 1) for i in 1:n, j in 1:n]\n",
        "end"
      ]
    },
    {
      "cell_type": "code",
      "source": [
        "n_arr = [10, 100, 1000]\n",
        "println(\"Número de condição para\")\n",
        "foreach(x -> println(\"n = $x : $(cond(hilbert(x)))\"), n_arr)"
      ],
      "metadata": {
        "colab": {
          "base_uri": "https://localhost:8080/"
        },
        "id": "hLmMNwCJVngG",
        "outputId": "481a3b5d-fa7d-4353-9888-82a4751e047c"
      },
      "execution_count": 19,
      "outputs": [
        {
          "output_type": "stream",
          "name": "stdout",
          "text": [
            "Número de condição para\n",
            "n = 10 : 1.602441698742836e13\n",
            "n = 100 : 3.0310502811585376e19\n",
            "n = 1000 : 3.956047868337803e21\n"
          ]
        }
      ]
    },
    {
      "cell_type": "markdown",
      "source": [
        "## Questão 2"
      ],
      "metadata": {
        "id": "lnekAseLCVy8"
      }
    },
    {
      "cell_type": "code",
      "source": [
        "n_arr = [10, 20, 40]\n",
        "A_arr = [hilbert(n) for n in n_arr]"
      ],
      "metadata": {
        "id": "6GTtIWE7CXsg",
        "outputId": "0bb4c073-3330-4314-90c1-dcfd1a9594a5",
        "colab": {
          "base_uri": "https://localhost:8080/"
        }
      },
      "execution_count": 14,
      "outputs": [
        {
          "output_type": "execute_result",
          "data": {
            "text/plain": [
              "3-element Vector{Matrix{Float64}}:\n",
              " [1.0 0.5 … 0.1111111111111111 0.1; 0.5 0.3333333333333333 … 0.1 0.09090909090909091; … ; 0.1111111111111111 0.1 … 0.058823529411764705 0.05555555555555555; 0.1 0.09090909090909091 … 0.05555555555555555 0.05263157894736842]\n",
              " [1.0 0.5 … 0.05263157894736842 0.05; 0.5 0.3333333333333333 … 0.05 0.047619047619047616; … ; 0.05263157894736842 0.05 … 0.02702702702702703 0.02631578947368421; 0.05 0.047619047619047616 … 0.02631578947368421 0.02564102564102564]\n",
              " [1.0 0.5 … 0.02564102564102564 0.025; 0.5 0.3333333333333333 … 0.025 0.024390243902439025; … ; 0.02564102564102564 0.025 … 0.012987012987012988 0.01282051282051282; 0.025 0.024390243902439025 … 0.01282051282051282 0.012658227848101266]"
            ]
          },
          "metadata": {},
          "execution_count": 14
        }
      ]
    },
    {
      "cell_type": "markdown",
      "source": [
        "## Questão 3"
      ],
      "metadata": {
        "id": "kzBgumq1CYA2"
      }
    },
    {
      "cell_type": "code",
      "source": [
        "A = [1 1; 1 1.0001]\n",
        "b = [2 2]"
      ],
      "metadata": {
        "colab": {
          "base_uri": "https://localhost:8080/"
        },
        "id": "NMzqhLIWCffq",
        "outputId": "da55b9e0-718e-4232-b9ca-6d90ebf40ca7"
      },
      "execution_count": 15,
      "outputs": [
        {
          "output_type": "execute_result",
          "data": {
            "text/plain": [
              "1×2 Matrix{Int64}:\n",
              " 2  2"
            ]
          },
          "metadata": {},
          "execution_count": 15
        }
      ]
    },
    {
      "cell_type": "markdown",
      "source": [
        "## Questão 4"
      ],
      "metadata": {
        "id": "aWRYqR-0CgBW"
      }
    },
    {
      "cell_type": "code",
      "source": [],
      "metadata": {
        "id": "KDxUc5S8CjMP"
      },
      "execution_count": 16,
      "outputs": []
    },
    {
      "cell_type": "markdown",
      "source": [
        "## Questão 5\n"
      ],
      "metadata": {
        "id": "3iULEpo3Cjd6"
      }
    },
    {
      "cell_type": "code",
      "source": [],
      "metadata": {
        "id": "63JNujjVCk-p"
      },
      "execution_count": 17,
      "outputs": []
    }
  ]
}