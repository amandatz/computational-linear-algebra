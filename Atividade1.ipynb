{
  "nbformat": 4,
  "nbformat_minor": 0,
  "metadata": {
    "colab": {
      "provenance": [],
      "authorship_tag": "ABX9TyPMFRyJpZi2F3K4QEWutqSG",
      "include_colab_link": true
    },
    "kernelspec": {
      "name": "julia",
      "display_name": "Julia"
    },
    "language_info": {
      "name": "julia"
    }
  },
  "cells": [
    {
      "cell_type": "markdown",
      "metadata": {
        "id": "view-in-github",
        "colab_type": "text"
      },
      "source": [
        "<a href=\"https://colab.research.google.com/github/amandatz/computational-linear-algebra/blob/main/Atividade1.ipynb\" target=\"_parent\"><img src=\"https://colab.research.google.com/assets/colab-badge.svg\" alt=\"Open In Colab\"/></a>"
      ]
    },
    {
      "cell_type": "markdown",
      "source": [
        "# Atividade 1\n",
        "\n"
      ],
      "metadata": {
        "id": "fkGVnRe9CPdx"
      }
    },
    {
      "cell_type": "markdown",
      "source": [
        "Amanda Topanotti Zanette (22100776)"
      ],
      "metadata": {
        "id": "thdM6TiJWo3c"
      }
    },
    {
      "cell_type": "markdown",
      "source": [
        "**Importações e funções auxiliares**"
      ],
      "metadata": {
        "id": "wRXSFVsDWq4e"
      }
    },
    {
      "cell_type": "code",
      "source": [
        "using LinearAlgebra\n",
        "using Printf\n",
        "\n",
        "function print_matrix(M)\n",
        "    for i in 1:size(M, 1)\n",
        "        for j in 1:size(M, 2)\n",
        "            @printf(\"%10.4f \", M[i, j])\n",
        "        end\n",
        "        println()\n",
        "    end\n",
        "end"
      ],
      "metadata": {
        "id": "HWjqEDuVIgTF",
        "outputId": "13630d48-99bc-4eac-ea0c-0d615845ef54",
        "colab": {
          "base_uri": "https://localhost:8080/"
        }
      },
      "execution_count": 2,
      "outputs": [
        {
          "output_type": "execute_result",
          "data": {
            "text/plain": [
              "print_matrix (generic function with 1 method)"
            ]
          },
          "metadata": {},
          "execution_count": 2
        }
      ]
    },
    {
      "cell_type": "markdown",
      "source": [
        "## Questão 1"
      ],
      "metadata": {
        "id": "iC9tSXZLCTw9"
      }
    },
    {
      "cell_type": "code",
      "execution_count": 3,
      "metadata": {
        "colab": {
          "base_uri": "https://localhost:8080/"
        },
        "id": "5deARnyg_0u3",
        "outputId": "2cfd9b6b-8e11-4535-cd75-5cba0ac65314"
      },
      "outputs": [
        {
          "output_type": "execute_result",
          "data": {
            "text/plain": [
              "hilbert (generic function with 1 method)"
            ]
          },
          "metadata": {},
          "execution_count": 3
        }
      ],
      "source": [
        "function hilbert(n)\n",
        "  return [1/(i + j - 1) for i in 1:n, j in 1:n]\n",
        "end"
      ]
    },
    {
      "cell_type": "code",
      "source": [
        "n_arr = [10, 100, 1000]\n",
        "println(\"Número de condição para\")\n",
        "foreach(x -> println(\"n = $x : $(cond(hilbert(x)))\"), n_arr)"
      ],
      "metadata": {
        "colab": {
          "base_uri": "https://localhost:8080/"
        },
        "id": "hLmMNwCJVngG",
        "outputId": "7b4a7d2e-d4df-49f8-cb9b-1fdb723a02fd"
      },
      "execution_count": 4,
      "outputs": [
        {
          "output_type": "stream",
          "name": "stdout",
          "text": [
            "Número de condição para\n",
            "n = 10 : 1.602441698742836e13\n",
            "n = 100 : 3.0310502811585376e19\n",
            "n = 1000 : 3.956047868337803e21\n"
          ]
        }
      ]
    },
    {
      "cell_type": "markdown",
      "source": [
        "## Questão 2"
      ],
      "metadata": {
        "id": "lnekAseLCVy8"
      }
    },
    {
      "cell_type": "code",
      "source": [
        "function solve_hilbert(n)\n",
        "  A = hilbert(n)\n",
        "  b = A[:, end]\n",
        "\n",
        "  x = A \\ b\n",
        "\n",
        "  x_expected = zeros(n)\n",
        "  x_expected[end] = 1\n",
        "\n",
        "  error = norm(x - x_expected)\n",
        "\n",
        "  println(\"Ordem n = $n\")\n",
        "  println(\"Erro ||x - x*|| = $error\")\n",
        "  println(\"Solução obtida x:\\n\", x, \"\\n\")\n",
        "end"
      ],
      "metadata": {
        "colab": {
          "base_uri": "https://localhost:8080/"
        },
        "id": "ANyg18NytbGP",
        "outputId": "538736fe-c384-43ad-a702-caba099dbd03"
      },
      "execution_count": 1,
      "outputs": [
        {
          "output_type": "execute_result",
          "data": {
            "text/plain": [
              "solve_hilbert (generic function with 1 method)"
            ]
          },
          "metadata": {},
          "execution_count": 1
        }
      ]
    },
    {
      "cell_type": "code",
      "source": [
        "n_arr = [10, 20, 40]\n",
        "foreach(x -> solve_hilbert(x), n_arr)"
      ],
      "metadata": {
        "id": "6GTtIWE7CXsg",
        "outputId": "97343322-ed63-4849-c523-f4bb57d3f358",
        "colab": {
          "base_uri": "https://localhost:8080/"
        }
      },
      "execution_count": 5,
      "outputs": [
        {
          "output_type": "stream",
          "name": "stdout",
          "text": [
            "Ordem n = 10\n",
            "Erro ||x - x*|| = 8.82004958406119e-5\n",
            "Solução obtida x:\n",
            "[-1.4651366774146415e-10, 1.2775109034977263e-8, -2.7392949560830654e-7, 2.5030341548541955e-6, -1.1986975802570154e-5, 3.3058644240837314e-5, -5.4382884775336115e-5, 5.2670828788366856e-5, -2.7703346960148717e-5, 1.000006102109757]\n",
            "\n",
            "Ordem n = 20\n",
            "Erro ||x - x*|| = 17.479329722835804\n",
            "Solução obtida x:\n",
            "[6.354276716598471e-8, -1.1449407480753177e-5, 0.0005093624149355328, -0.00977814143573574, 0.10054654476794901, -0.615089576184316, 2.348349289209795, -5.600259111702343, 7.717335674775905, -3.9170834315471064, -4.588814509859795, 7.760472579842202, -1.133742642284071, -5.793760161860332, 5.946403306775728, -4.129904279845813, 3.8785846966303903, -2.9179764987116616, 1.1078592552977995, 0.8463590846746345]\n",
            "\n",
            "Ordem n = 40\n",
            "Erro ||x - x*|| = 18.75699831471733\n",
            "Solução obtida x:\n",
            "[-1.3113221114908623e-8, 2.7856066329896784e-6, -0.0001463101888717198, 0.0032971930296137567, -0.039325646913285425, 0.2737780116513607, -1.1549794926323271, 2.8929730262732063, -3.7125605586529793, 0.4510794583234307, 4.918000374561169, -5.460434124861434, 3.778357844621792, -6.7232395133206175, 4.236172560309764, 5.702841977577638, -3.976253737757353, -1.5385033329300777, -3.7716092788939775, 3.959031831544937, -1.665607135975862, 3.641802166752871, 2.0940592899292425, -4.327823377765418, -0.6577735579486236, 0.9622113750966478, -0.5387359926547015, 1.721029177506387, -1.8096852010531261, -3.417981292622604, 5.8447216729776486, -0.6595477639700403, 2.0568467335728045, -2.108586708577185, -3.2807835304243396, 0.931915903882113, 1.2866508468735853, 0.7175496691471231, -0.456833407725811, 0.8280880404142024]\n",
            "\n"
          ]
        }
      ]
    },
    {
      "cell_type": "markdown",
      "source": [
        "## Questão 3"
      ],
      "metadata": {
        "id": "kzBgumq1CYA2"
      }
    },
    {
      "cell_type": "code",
      "source": [
        "A = [1.0 1.0; 1.0 1.0001]\n",
        "b = [2.0, 2.0]\n",
        "b_perturbed = [2.0, 2.0001]\n",
        "\n",
        "kappa_A = cond(A, 2)\n",
        "\n",
        "x = A \\ b\n",
        "x_perturbed = A \\ b_perturbed\n",
        "\n",
        "delta_x = x_perturbed - x\n",
        "\n",
        "norm_delta_x = norm(delta_x, 2)\n",
        "norm_x = norm(x, 2)\n",
        "norm_delta_b = norm(b_perturbed - b, 2)\n",
        "norm_b = norm(b, 2)\n",
        "\n",
        "lhs = norm_delta_x / norm_x\n",
        "rhs = kappa_A * (norm_delta_b / norm_b)\n",
        "\n",
        "println(\"Número de condição κ2(A): \", kappa_A)\n",
        "println(\"Solução x:\\n\", x)\n",
        "println(\"Solução perturbada x_perturbed:\\n\", x_perturbed)\n",
        "println(\"||δx|| / ||x|| = \", lhs)\n",
        "println(\"κ2(A) * (||δb|| / ||b||) = \", rhs)\n",
        "println(\"Desigualdade satisfeita? \", lhs ≤ rhs ? \"Sim\" : \"Não\")\n"
      ],
      "metadata": {
        "colab": {
          "base_uri": "https://localhost:8080/"
        },
        "id": "NMzqhLIWCffq",
        "outputId": "2d47769d-8e59-479d-b93a-3eb0736b6caf"
      },
      "execution_count": 6,
      "outputs": [
        {
          "output_type": "stream",
          "name": "stdout",
          "text": [
            "Número de condição κ2(A): 40002.00007491187\n",
            "Solução x:\n",
            "[2.0, 0.0]\n",
            "Solução perturbada x_perturbed:\n",
            "[0.9999999999977796, 1.0000000000022204]\n",
            "||δx|| / ||x|| = 0.7071067811881177\n",
            "κ2(A) * (||δb|| / ||b||) = 1.4142842757027327\n",
            "Desigualdade satisfeita? Sim\n"
          ]
        }
      ]
    },
    {
      "cell_type": "markdown",
      "source": [
        "## Questão 4"
      ],
      "metadata": {
        "id": "aWRYqR-0CgBW"
      }
    },
    {
      "cell_type": "code",
      "source": [
        "function back_substitution(U, b)\n",
        "  n = length(b)\n",
        "  x = zeros(n)\n",
        "\n",
        "  for i = n:-1:1\n",
        "    x[i] = b[i]\n",
        "    for j = i+1:n\n",
        "      x[i] = x[i] - U[i,j] * x[j]\n",
        "    end\n",
        "    x[i] = x[i] / U[i,i]\n",
        "  end\n",
        "\n",
        "  return x\n",
        "end"
      ],
      "metadata": {
        "id": "KDxUc5S8CjMP",
        "colab": {
          "base_uri": "https://localhost:8080/"
        },
        "outputId": "bc7f8c08-7e03-482f-909e-84e0359a955d"
      },
      "execution_count": 15,
      "outputs": [
        {
          "output_type": "execute_result",
          "data": {
            "text/plain": [
              "back_substitution (generic function with 1 method)"
            ]
          },
          "metadata": {},
          "execution_count": 15
        }
      ]
    },
    {
      "cell_type": "code",
      "source": [
        "U = [2.0 -1.0 3.0; 0.0 1.0 4.0; 0.0 0.0 5.0]\n",
        "b = [5.0 6.0 10.0]\n",
        "\n",
        "x = back_substitution(U, b)\n",
        "\n",
        "println(\"Solução x:\\n\", x)"
      ],
      "metadata": {
        "colab": {
          "base_uri": "https://localhost:8080/"
        },
        "id": "5yC3XTnYtgVe",
        "outputId": "a5d18f39-7973-446a-9188-3f3ac11b4fec"
      },
      "execution_count": 17,
      "outputs": [
        {
          "output_type": "stream",
          "name": "stdout",
          "text": [
            "Solução x:\n",
            "[-1.5, -2.0, 2.0]\n"
          ]
        }
      ]
    },
    {
      "cell_type": "markdown",
      "source": [
        "## Questão 5\n"
      ],
      "metadata": {
        "id": "3iULEpo3Cjd6"
      }
    },
    {
      "cell_type": "code",
      "source": [
        "function solve_system(n)\n",
        "  B = rand(n, n)\n",
        "  A = triu(B)\n",
        "\n",
        "  b = A * ones(n)\n",
        "\n",
        "  x = back_substitution(A, b)\n",
        "\n",
        "  println(\"n = $n\")\n",
        "  println(\"A = \")\n",
        "  print_matrix(A)\n",
        "  println(\"b = \")\n",
        "  print_matrix(b)\n",
        "  println(\"x = \")\n",
        "  print_matrix(x)\n",
        "  println(\"================\\n\")\n",
        "end\n"
      ],
      "metadata": {
        "id": "gKBgMwmarbJD",
        "outputId": "8d5cfdfe-4cd6-4503-e138-de8a5531ac89",
        "colab": {
          "base_uri": "https://localhost:8080/"
        }
      },
      "execution_count": 9,
      "outputs": [
        {
          "output_type": "execute_result",
          "data": {
            "text/plain": [
              "solve_system (generic function with 1 method)"
            ]
          },
          "metadata": {},
          "execution_count": 9
        }
      ]
    },
    {
      "cell_type": "code",
      "source": [
        "n_arr = [2, 5, 10]\n",
        "foreach(n -> solve_system(n), n_arr)"
      ],
      "metadata": {
        "id": "63JNujjVCk-p",
        "colab": {
          "base_uri": "https://localhost:8080/"
        },
        "outputId": "6648caf7-9425-4b1c-f49d-667fe5a970cc"
      },
      "execution_count": 10,
      "outputs": [
        {
          "output_type": "stream",
          "name": "stdout",
          "text": [
            "n = 2\n",
            "A = \n",
            "    0.4471     0.8858 \n",
            "    0.0000     0.7238 \n",
            "b = \n",
            "    1.3329 \n",
            "    0.7238 \n",
            "x = \n",
            "    1.0000 \n",
            "    1.0000 \n",
            "================\n",
            "\n",
            "n = 5\n",
            "A = \n",
            "    0.1123     0.9008     0.9358     0.3259     0.7205 \n",
            "    0.0000     0.0655     0.6141     0.6174     0.6718 \n",
            "    0.0000     0.0000     0.6898     0.6313     0.9403 \n",
            "    0.0000     0.0000     0.0000     0.4436     0.1939 \n",
            "    0.0000     0.0000     0.0000     0.0000     0.6452 \n",
            "b = \n",
            "    2.9953 \n",
            "    1.9689 \n",
            "    2.2614 \n",
            "    0.6375 \n",
            "    0.6452 \n",
            "x = \n",
            "    1.0000 \n",
            "    1.0000 \n",
            "    1.0000 \n",
            "    1.0000 \n",
            "    1.0000 \n",
            "================\n",
            "\n",
            "n = 10\n",
            "A = \n",
            "    0.4255     0.2695     0.1564     0.5279     0.9029     0.6193     0.4204     0.5911     0.1195     0.9995 \n",
            "    0.0000     0.7625     0.9120     0.9848     0.4209     0.8581     0.3179     0.3989     0.6830     0.3686 \n",
            "    0.0000     0.0000     0.5192     0.9673     0.8348     0.2814     0.0906     0.9875     0.4057     0.9066 \n",
            "    0.0000     0.0000     0.0000     0.1327     0.4336     0.4436     0.2786     0.1454     0.9430     0.4225 \n",
            "    0.0000     0.0000     0.0000     0.0000     0.5717     0.1751     0.6087     0.5434     0.7209     0.9543 \n",
            "    0.0000     0.0000     0.0000     0.0000     0.0000     0.5861     0.9873     0.3218     0.5128     0.3038 \n",
            "    0.0000     0.0000     0.0000     0.0000     0.0000     0.0000     0.3404     0.3269     0.8248     0.5336 \n",
            "    0.0000     0.0000     0.0000     0.0000     0.0000     0.0000     0.0000     0.5692     0.1378     0.3657 \n",
            "    0.0000     0.0000     0.0000     0.0000     0.0000     0.0000     0.0000     0.0000     0.3076     0.8524 \n",
            "    0.0000     0.0000     0.0000     0.0000     0.0000     0.0000     0.0000     0.0000     0.0000     0.6705 \n",
            "b = \n",
            "    5.0320 \n",
            "    5.7066 \n",
            "    4.9930 \n",
            "    2.7994 \n",
            "    3.5742 \n",
            "    2.7118 \n",
            "    2.0257 \n",
            "    1.0727 \n",
            "    1.1600 \n",
            "    0.6705 \n",
            "x = \n",
            "    1.0000 \n",
            "    1.0000 \n",
            "    1.0000 \n",
            "    1.0000 \n",
            "    1.0000 \n",
            "    1.0000 \n",
            "    1.0000 \n",
            "    1.0000 \n",
            "    1.0000 \n",
            "    1.0000 \n",
            "================\n",
            "\n"
          ]
        }
      ]
    }
  ]
}