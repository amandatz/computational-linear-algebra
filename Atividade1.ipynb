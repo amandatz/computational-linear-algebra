{
  "nbformat": 4,
  "nbformat_minor": 0,
  "metadata": {
    "colab": {
      "provenance": [],
      "authorship_tag": "ABX9TyOASBT1YOq+doUm8plJc+dm",
      "include_colab_link": true
    },
    "kernelspec": {
      "name": "julia",
      "display_name": "Julia"
    },
    "language_info": {
      "name": "julia"
    }
  },
  "cells": [
    {
      "cell_type": "markdown",
      "metadata": {
        "id": "view-in-github",
        "colab_type": "text"
      },
      "source": [
        "<a href=\"https://colab.research.google.com/github/amandatz/computational-linear-algebra/blob/main/Atividade1.ipynb\" target=\"_parent\"><img src=\"https://colab.research.google.com/assets/colab-badge.svg\" alt=\"Open In Colab\"/></a>"
      ]
    },
    {
      "cell_type": "markdown",
      "source": [
        "# Atividade Computacional 1"
      ],
      "metadata": {
        "id": "fkGVnRe9CPdx"
      }
    },
    {
      "cell_type": "code",
      "source": [
        "using LinearAlgebra"
      ],
      "metadata": {
        "id": "HWjqEDuVIgTF"
      },
      "execution_count": 9,
      "outputs": []
    },
    {
      "cell_type": "markdown",
      "source": [
        "## Questão 1"
      ],
      "metadata": {
        "id": "iC9tSXZLCTw9"
      }
    },
    {
      "cell_type": "code",
      "execution_count": 16,
      "metadata": {
        "colab": {
          "base_uri": "https://localhost:8080/"
        },
        "id": "5deARnyg_0u3",
        "outputId": "8c7bdf79-5cad-4ab6-c28c-202cce3cb123"
      },
      "outputs": [
        {
          "output_type": "execute_result",
          "data": {
            "text/plain": [
              "hibert_matrix (generic function with 1 method)"
            ]
          },
          "metadata": {},
          "execution_count": 16
        }
      ],
      "source": [
        "function hibert_matrix(n)\n",
        "    return [1/(i + j - 1) for i in 1:n, j in 1:n]\n",
        "end"
      ]
    },
    {
      "cell_type": "code",
      "source": [
        "n = [10, 100, 1000]\n",
        "println(\"Número de condição para\")\n",
        "foreach(x -> println(\"n=$x\", cond(hibert_matrix(x))), n)"
      ],
      "metadata": {
        "colab": {
          "base_uri": "https://localhost:8080/"
        },
        "id": "hLmMNwCJVngG",
        "outputId": "4c70f367-5685-4cc7-94f8-94b3a6bc3c4b"
      },
      "execution_count": 18,
      "outputs": [
        {
          "output_type": "stream",
          "name": "stdout",
          "text": [
            "Número de condição para\n",
            "n=101.602441698742836e13\n",
            "n=1003.0310502811585376e19\n",
            "n=10003.956047868337803e21\n"
          ]
        }
      ]
    },
    {
      "cell_type": "markdown",
      "source": [
        "## Questão 2"
      ],
      "metadata": {
        "id": "lnekAseLCVy8"
      }
    },
    {
      "cell_type": "code",
      "source": [],
      "metadata": {
        "id": "6GTtIWE7CXsg"
      },
      "execution_count": null,
      "outputs": []
    },
    {
      "cell_type": "markdown",
      "source": [
        "## Questão 3"
      ],
      "metadata": {
        "id": "kzBgumq1CYA2"
      }
    },
    {
      "cell_type": "code",
      "source": [
        "A = [1 1; 1 1.0001]\n",
        "b = [2 2]"
      ],
      "metadata": {
        "colab": {
          "base_uri": "https://localhost:8080/"
        },
        "id": "NMzqhLIWCffq",
        "outputId": "9daad97e-7b79-42f1-a953-c94d10a0c976"
      },
      "execution_count": 2,
      "outputs": [
        {
          "output_type": "execute_result",
          "data": {
            "text/plain": [
              "1×2 Matrix{Int64}:\n",
              " 2  2"
            ]
          },
          "metadata": {},
          "execution_count": 2
        }
      ]
    },
    {
      "cell_type": "markdown",
      "source": [
        "## Questão 4"
      ],
      "metadata": {
        "id": "aWRYqR-0CgBW"
      }
    },
    {
      "cell_type": "code",
      "source": [],
      "metadata": {
        "id": "KDxUc5S8CjMP"
      },
      "execution_count": null,
      "outputs": []
    },
    {
      "cell_type": "markdown",
      "source": [
        "## Questão 5\n"
      ],
      "metadata": {
        "id": "3iULEpo3Cjd6"
      }
    },
    {
      "cell_type": "code",
      "source": [],
      "metadata": {
        "id": "63JNujjVCk-p"
      },
      "execution_count": null,
      "outputs": []
    }
  ]
}