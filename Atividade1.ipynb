{
  "nbformat": 4,
  "nbformat_minor": 0,
  "metadata": {
    "colab": {
      "provenance": [],
      "authorship_tag": "ABX9TyNiqmXoud3R0hQA8il9Q9GK",
      "include_colab_link": true
    },
    "kernelspec": {
      "name": "julia",
      "display_name": "Julia"
    },
    "language_info": {
      "name": "julia"
    }
  },
  "cells": [
    {
      "cell_type": "markdown",
      "metadata": {
        "id": "view-in-github",
        "colab_type": "text"
      },
      "source": [
        "<a href=\"https://colab.research.google.com/github/amandatz/computational-linear-algebra/blob/main/Atividade1.ipynb\" target=\"_parent\"><img src=\"https://colab.research.google.com/assets/colab-badge.svg\" alt=\"Open In Colab\"/></a>"
      ]
    },
    {
      "cell_type": "markdown",
      "source": [
        "# Atividade Computacional 1"
      ],
      "metadata": {
        "id": "fkGVnRe9CPdx"
      }
    },
    {
      "cell_type": "code",
      "source": [
        "using LinearAlgebra"
      ],
      "metadata": {
        "id": "HWjqEDuVIgTF"
      },
      "execution_count": 21,
      "outputs": []
    },
    {
      "cell_type": "markdown",
      "source": [
        "## Questão 1"
      ],
      "metadata": {
        "id": "iC9tSXZLCTw9"
      }
    },
    {
      "cell_type": "code",
      "execution_count": 22,
      "metadata": {
        "colab": {
          "base_uri": "https://localhost:8080/"
        },
        "id": "5deARnyg_0u3",
        "outputId": "f554c761-9660-47e3-8add-05804d4ab4c3"
      },
      "outputs": [
        {
          "output_type": "execute_result",
          "data": {
            "text/plain": [
              "hibert (generic function with 1 method)"
            ]
          },
          "metadata": {},
          "execution_count": 22
        }
      ],
      "source": [
        "function hibert(n)\n",
        "    return [1/(i + j - 1) for i in 1:n, j in 1:n]\n",
        "end"
      ]
    },
    {
      "cell_type": "code",
      "source": [
        "n_arr = [10, 100, 1000]\n",
        "println(\"Número de condição para\")\n",
        "foreach(x -> println(\"n = $x : $(cond(hibert(x)))\"), n_arr)"
      ],
      "metadata": {
        "colab": {
          "base_uri": "https://localhost:8080/"
        },
        "id": "hLmMNwCJVngG",
        "outputId": "3dfc7398-9812-4d1c-a396-7b4b1a094375"
      },
      "execution_count": 23,
      "outputs": [
        {
          "output_type": "stream",
          "name": "stdout",
          "text": [
            "Número de condição para\n",
            "n = 10 : 1.602441698742836e13\n",
            "n = 100 : 3.0310502811585376e19\n",
            "n = 1000 : 3.956047868337803e21\n"
          ]
        }
      ]
    },
    {
      "cell_type": "markdown",
      "source": [
        "## Questão 2"
      ],
      "metadata": {
        "id": "lnekAseLCVy8"
      }
    },
    {
      "cell_type": "code",
      "source": [],
      "metadata": {
        "id": "6GTtIWE7CXsg"
      },
      "execution_count": 24,
      "outputs": []
    },
    {
      "cell_type": "markdown",
      "source": [
        "## Questão 3"
      ],
      "metadata": {
        "id": "kzBgumq1CYA2"
      }
    },
    {
      "cell_type": "code",
      "source": [
        "A = [1 1; 1 1.0001]\n",
        "b = [2 2]"
      ],
      "metadata": {
        "colab": {
          "base_uri": "https://localhost:8080/"
        },
        "id": "NMzqhLIWCffq",
        "outputId": "d45faf60-4e29-455e-a6ad-3f834c6d046b"
      },
      "execution_count": 25,
      "outputs": [
        {
          "output_type": "execute_result",
          "data": {
            "text/plain": [
              "1×2 Matrix{Int64}:\n",
              " 2  2"
            ]
          },
          "metadata": {},
          "execution_count": 25
        }
      ]
    },
    {
      "cell_type": "markdown",
      "source": [
        "## Questão 4"
      ],
      "metadata": {
        "id": "aWRYqR-0CgBW"
      }
    },
    {
      "cell_type": "code",
      "source": [],
      "metadata": {
        "id": "KDxUc5S8CjMP"
      },
      "execution_count": 26,
      "outputs": []
    },
    {
      "cell_type": "markdown",
      "source": [
        "## Questão 5\n"
      ],
      "metadata": {
        "id": "3iULEpo3Cjd6"
      }
    },
    {
      "cell_type": "code",
      "source": [],
      "metadata": {
        "id": "63JNujjVCk-p"
      },
      "execution_count": 27,
      "outputs": []
    }
  ]
}