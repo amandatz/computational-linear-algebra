{
  "nbformat": 4,
  "nbformat_minor": 0,
  "metadata": {
    "colab": {
      "provenance": [],
      "authorship_tag": "ABX9TyMJWTbGB2r2rCuvOBLhh9Ek",
      "include_colab_link": true
    },
    "kernelspec": {
      "name": "julia",
      "display_name": "Julia"
    },
    "language_info": {
      "name": "julia"
    }
  },
  "cells": [
    {
      "cell_type": "markdown",
      "metadata": {
        "id": "view-in-github",
        "colab_type": "text"
      },
      "source": [
        "<a href=\"https://colab.research.google.com/github/amandatz/computational-linear-algebra/blob/main/Atividade1.ipynb\" target=\"_parent\"><img src=\"https://colab.research.google.com/assets/colab-badge.svg\" alt=\"Open In Colab\"/></a>"
      ]
    },
    {
      "cell_type": "markdown",
      "source": [
        "# Atividade Computacional 1"
      ],
      "metadata": {
        "id": "fkGVnRe9CPdx"
      }
    },
    {
      "cell_type": "code",
      "source": [
        "using LinearAlgebra\n",
        "using Printf\n",
        "\n",
        "function print_matrix(M)\n",
        "    for i in 1:size(M, 1)\n",
        "        for j in 1:size(M, 2)\n",
        "            @printf(\"%10.4f \", M[i, j])\n",
        "        end\n",
        "        println()\n",
        "    end\n",
        "end"
      ],
      "metadata": {
        "id": "HWjqEDuVIgTF",
        "outputId": "48ae4344-9352-476f-eb19-0754029d332b",
        "colab": {
          "base_uri": "https://localhost:8080/"
        }
      },
      "execution_count": 18,
      "outputs": [
        {
          "output_type": "execute_result",
          "data": {
            "text/plain": [
              "print_matrix (generic function with 1 method)"
            ]
          },
          "metadata": {},
          "execution_count": 18
        }
      ]
    },
    {
      "cell_type": "markdown",
      "source": [
        "## Questão 1"
      ],
      "metadata": {
        "id": "iC9tSXZLCTw9"
      }
    },
    {
      "cell_type": "code",
      "execution_count": 2,
      "metadata": {
        "colab": {
          "base_uri": "https://localhost:8080/"
        },
        "id": "5deARnyg_0u3",
        "outputId": "0fe9c9f6-1c2f-46d8-d6bc-81cebc6f7e0b"
      },
      "outputs": [
        {
          "output_type": "execute_result",
          "data": {
            "text/plain": [
              "hilbert (generic function with 1 method)"
            ]
          },
          "metadata": {},
          "execution_count": 2
        }
      ],
      "source": [
        "function hilbert(n)\n",
        "    return [1/(i + j - 1) for i in 1:n, j in 1:n]\n",
        "end"
      ]
    },
    {
      "cell_type": "code",
      "source": [
        "n_arr = [10, 100, 1000]\n",
        "println(\"Número de condição para\")\n",
        "foreach(x -> println(\"n = $x : $(cond(hilbert(x)))\"), n_arr)"
      ],
      "metadata": {
        "colab": {
          "base_uri": "https://localhost:8080/"
        },
        "id": "hLmMNwCJVngG",
        "outputId": "8f44df90-1523-49a2-a46e-ba9c55c95b34"
      },
      "execution_count": 3,
      "outputs": [
        {
          "output_type": "stream",
          "name": "stdout",
          "text": [
            "Número de condição para\n",
            "n = 10 : 1.602441698742836e13\n",
            "n = 100 : 3.0310502811585376e19\n",
            "n = 1000 : 3.956047868337803e21\n"
          ]
        }
      ]
    },
    {
      "cell_type": "markdown",
      "source": [
        "## Questão 2"
      ],
      "metadata": {
        "id": "lnekAseLCVy8"
      }
    },
    {
      "cell_type": "code",
      "source": [
        "function solve_hilbert(n)\n",
        "    A = hilbert(n)\n",
        "    b = A[:, end]\n",
        "\n",
        "    x = A \\ b\n",
        "\n",
        "    x_expected = zeros(n)\n",
        "    x_expected[end] = 1\n",
        "\n",
        "    error = norm(x - x_expected)\n",
        "\n",
        "    println(\"Ordem n = $n\")\n",
        "    println(\"Erro ||x - x*|| = $error\")\n",
        "    println(\"Solução obtida x:\\n\", x, \"\\n\")\n",
        "end"
      ],
      "metadata": {
        "colab": {
          "base_uri": "https://localhost:8080/"
        },
        "id": "ANyg18NytbGP",
        "outputId": "3962ebfb-edeb-406d-97f3-78d23f18d6a1"
      },
      "execution_count": 4,
      "outputs": [
        {
          "output_type": "execute_result",
          "data": {
            "text/plain": [
              "solve_hilbert (generic function with 1 method)"
            ]
          },
          "metadata": {},
          "execution_count": 4
        }
      ]
    },
    {
      "cell_type": "code",
      "source": [
        "n_arr = [10, 20, 40]\n",
        "foreach(x -> solve_hilbert(x), n_arr)"
      ],
      "metadata": {
        "id": "6GTtIWE7CXsg",
        "outputId": "b3b51e5a-ca23-45c8-e29a-aab9a833f9f5",
        "colab": {
          "base_uri": "https://localhost:8080/"
        }
      },
      "execution_count": 5,
      "outputs": [
        {
          "output_type": "stream",
          "name": "stdout",
          "text": [
            "Ordem n = 10\n",
            "Erro ||x - x*|| = 8.82004958406119e-5\n",
            "Solução obtida x:\n",
            "[-1.4651366774146415e-10, 1.2775109034977263e-8, -2.7392949560830654e-7, 2.5030341548541955e-6, -1.1986975802570154e-5, 3.3058644240837314e-5, -5.4382884775336115e-5, 5.2670828788366856e-5, -2.7703346960148717e-5, 1.000006102109757]\n",
            "\n",
            "Ordem n = 20\n",
            "Erro ||x - x*|| = 17.479329722835804\n",
            "Solução obtida x:\n",
            "[6.354276716598471e-8, -1.1449407480753177e-5, 0.0005093624149355328, -0.00977814143573574, 0.10054654476794901, -0.615089576184316, 2.348349289209795, -5.600259111702343, 7.717335674775905, -3.9170834315471064, -4.588814509859795, 7.760472579842202, -1.133742642284071, -5.793760161860332, 5.946403306775728, -4.129904279845813, 3.8785846966303903, -2.9179764987116616, 1.1078592552977995, 0.8463590846746345]\n",
            "\n",
            "Ordem n = 40\n",
            "Erro ||x - x*|| = 18.75699831471733\n",
            "Solução obtida x:\n",
            "[-1.3113221114908623e-8, 2.7856066329896784e-6, -0.0001463101888717198, 0.0032971930296137567, -0.039325646913285425, 0.2737780116513607, -1.1549794926323271, 2.8929730262732063, -3.7125605586529793, 0.4510794583234307, 4.918000374561169, -5.460434124861434, 3.778357844621792, -6.7232395133206175, 4.236172560309764, 5.702841977577638, -3.976253737757353, -1.5385033329300777, -3.7716092788939775, 3.959031831544937, -1.665607135975862, 3.641802166752871, 2.0940592899292425, -4.327823377765418, -0.6577735579486236, 0.9622113750966478, -0.5387359926547015, 1.721029177506387, -1.8096852010531261, -3.417981292622604, 5.8447216729776486, -0.6595477639700403, 2.0568467335728045, -2.108586708577185, -3.2807835304243396, 0.931915903882113, 1.2866508468735853, 0.7175496691471231, -0.456833407725811, 0.8280880404142024]\n",
            "\n"
          ]
        }
      ]
    },
    {
      "cell_type": "markdown",
      "source": [
        "## Questão 3"
      ],
      "metadata": {
        "id": "kzBgumq1CYA2"
      }
    },
    {
      "cell_type": "code",
      "source": [
        "A = [1.0 1.0; 1.0 1.0001]\n",
        "b = [2.0, 2.0]\n",
        "b_perturbed = [2.0, 2.0001]\n",
        "\n",
        "kappa_A = cond(A, 2)\n",
        "\n",
        "x = A \\ b\n",
        "x_perturbed = A \\ b_perturbed\n",
        "\n",
        "delta_x = x_perturbed - x\n",
        "\n",
        "norm_delta_x = norm(delta_x, 2)\n",
        "norm_x = norm(x, 2)\n",
        "norm_delta_b = norm(b_perturbed - b, 2)\n",
        "norm_b = norm(b, 2)\n",
        "\n",
        "lhs = norm_delta_x / norm_x\n",
        "rhs = kappa_A * (norm_delta_b / norm_b)\n",
        "\n",
        "println(\"Número de condição κ2(A): \", kappa_A)\n",
        "println(\"Solução x:\\n\", x)\n",
        "println(\"Solução perturbada x_perturbed:\\n\", x_perturbed)\n",
        "println(\"||δx|| / ||x|| = \", lhs)\n",
        "println(\"κ2(A) * (||δb|| / ||b||) = \", rhs)\n",
        "println(\"Desigualdade satisfeita? \", lhs ≤ rhs ? \"Sim\" : \"Não\")\n"
      ],
      "metadata": {
        "colab": {
          "base_uri": "https://localhost:8080/"
        },
        "id": "NMzqhLIWCffq",
        "outputId": "c80fc0ed-9ad9-4a16-8602-ebd4c791bc5b"
      },
      "execution_count": 6,
      "outputs": [
        {
          "output_type": "stream",
          "name": "stdout",
          "text": [
            "Número de condição κ2(A): 40002.00007491187\n",
            "Solução x:\n",
            "[2.0, 0.0]\n",
            "Solução perturbada x_perturbed:\n",
            "[0.9999999999977796, 1.0000000000022204]\n",
            "||δx|| / ||x|| = 0.7071067811881177\n",
            "κ2(A) * (||δb|| / ||b||) = 1.4142842757027327\n",
            "Desigualdade satisfeita? Sim\n"
          ]
        }
      ]
    },
    {
      "cell_type": "markdown",
      "source": [
        "## Questão 4"
      ],
      "metadata": {
        "id": "aWRYqR-0CgBW"
      }
    },
    {
      "cell_type": "code",
      "source": [
        "function back_substitution(U, b)\n",
        "    n = length(b)\n",
        "    x = zeros(n)\n",
        "\n",
        "    for i in n:-1:1\n",
        "        sum_term = sum(U[i, j] * x[j] for j in i+1:n; init=0.0)\n",
        "        x[i] = (b[i] - sum_term) / U[i, i]\n",
        "    end\n",
        "\n",
        "    return x\n",
        "end"
      ],
      "metadata": {
        "id": "KDxUc5S8CjMP",
        "colab": {
          "base_uri": "https://localhost:8080/"
        },
        "outputId": "16457971-6a68-4712-aeac-add90ef66541"
      },
      "execution_count": 7,
      "outputs": [
        {
          "output_type": "execute_result",
          "data": {
            "text/plain": [
              "back_substitution (generic function with 1 method)"
            ]
          },
          "metadata": {},
          "execution_count": 7
        }
      ]
    },
    {
      "cell_type": "code",
      "source": [
        "U = [2.0 -1.0 3.0; 0.0 1.0 4.0; 0.0 0.0 5.0]\n",
        "b = [5.0, 6.0, 10.0]\n",
        "\n",
        "x = back_substitution(U, b)\n",
        "\n",
        "println(\"Solução x:\\n\", x)"
      ],
      "metadata": {
        "colab": {
          "base_uri": "https://localhost:8080/"
        },
        "id": "5yC3XTnYtgVe",
        "outputId": "cd4849a3-fb27-4b55-ab75-8f6e6b08a2b5"
      },
      "execution_count": 8,
      "outputs": [
        {
          "output_type": "stream",
          "name": "stdout",
          "text": [
            "Solução x:\n",
            "[-1.5, -2.0, 2.0]\n"
          ]
        }
      ]
    },
    {
      "cell_type": "markdown",
      "source": [
        "## Questão 5\n"
      ],
      "metadata": {
        "id": "3iULEpo3Cjd6"
      }
    },
    {
      "cell_type": "code",
      "source": [
        "function solve_system(n)\n",
        "    B = rand(n, n)\n",
        "    A = triu(B)\n",
        "\n",
        "    b = A * ones(n)\n",
        "\n",
        "    x = back_substitution(A, b)\n",
        "\n",
        "    println(\"n = $n\")\n",
        "    println(\"A = \")\n",
        "    print_matrix(A)\n",
        "    println(\"b = \")\n",
        "    print_matrix(b)\n",
        "    println(\"x = \")\n",
        "    print_matrix(x)\n",
        "    println(\"================\\n\")\n",
        "end\n"
      ],
      "metadata": {
        "id": "gKBgMwmarbJD",
        "outputId": "bd4806e3-e581-4906-e265-5da6ee351e04",
        "colab": {
          "base_uri": "https://localhost:8080/"
        }
      },
      "execution_count": 31,
      "outputs": [
        {
          "output_type": "execute_result",
          "data": {
            "text/plain": [
              "solve_system (generic function with 1 method)"
            ]
          },
          "metadata": {},
          "execution_count": 31
        }
      ]
    },
    {
      "cell_type": "code",
      "source": [
        "n_arr = [2, 5, 10]\n",
        "foreach(n -> solve_system(n), n_arr)"
      ],
      "metadata": {
        "id": "63JNujjVCk-p",
        "colab": {
          "base_uri": "https://localhost:8080/"
        },
        "outputId": "4bcf67c7-c555-4493-9842-2dc36334feba"
      },
      "execution_count": 32,
      "outputs": [
        {
          "output_type": "stream",
          "name": "stdout",
          "text": [
            "n = 2\n",
            "A = \n",
            "    0.7107     0.7536 \n",
            "    0.0000     0.5859 \n",
            "b = \n",
            "    1.4642 \n",
            "    0.5859 \n",
            "x = \n",
            "    1.0000 \n",
            "    1.0000 \n",
            "================\n",
            "\n",
            "n = 5\n",
            "A = \n",
            "    0.9828     0.1108     0.1859     0.8171     0.3524 \n",
            "    0.0000     0.4190     0.5216     0.5050     0.2362 \n",
            "    0.0000     0.0000     0.1184     0.8661     0.8693 \n",
            "    0.0000     0.0000     0.0000     0.7525     0.1596 \n",
            "    0.0000     0.0000     0.0000     0.0000     0.1303 \n",
            "b = \n",
            "    2.4490 \n",
            "    1.6818 \n",
            "    1.8538 \n",
            "    0.9120 \n",
            "    0.1303 \n",
            "x = \n",
            "    1.0000 \n",
            "    1.0000 \n",
            "    1.0000 \n",
            "    1.0000 \n",
            "    1.0000 \n",
            "================\n",
            "\n",
            "n = 10\n",
            "A = \n",
            "    0.4505     0.6376     0.9266     0.5148     0.8235     0.4426     0.8057     0.3847     0.2506     0.8588 \n",
            "    0.0000     0.0382     0.4655     0.1928     0.4102     0.5448     0.0328     1.0000     0.1702     0.6541 \n",
            "    0.0000     0.0000     0.5986     0.6462     0.4991     0.4543     0.6924     0.6817     0.5789     0.4419 \n",
            "    0.0000     0.0000     0.0000     0.9187     0.1088     0.1859     0.5138     0.2681     0.7155     0.4216 \n",
            "    0.0000     0.0000     0.0000     0.0000     0.2586     0.4637     0.5451     0.5542     0.1308     0.0658 \n",
            "    0.0000     0.0000     0.0000     0.0000     0.0000     0.7894     0.8017     0.8780     0.5284     0.6086 \n",
            "    0.0000     0.0000     0.0000     0.0000     0.0000     0.0000     0.8668     0.8484     0.3057     0.9548 \n",
            "    0.0000     0.0000     0.0000     0.0000     0.0000     0.0000     0.0000     0.5412     0.5384     0.0059 \n",
            "    0.0000     0.0000     0.0000     0.0000     0.0000     0.0000     0.0000     0.0000     0.7547     0.1995 \n",
            "    0.0000     0.0000     0.0000     0.0000     0.0000     0.0000     0.0000     0.0000     0.0000     0.7814 \n",
            "b = \n",
            "    6.0955 \n",
            "    3.5085 \n",
            "    4.5931 \n",
            "    3.1324 \n",
            "    2.0182 \n",
            "    3.6062 \n",
            "    2.9758 \n",
            "    1.0855 \n",
            "    0.9542 \n",
            "    0.7814 \n",
            "x = \n",
            "    1.0000 \n",
            "    1.0000 \n",
            "    1.0000 \n",
            "    1.0000 \n",
            "    1.0000 \n",
            "    1.0000 \n",
            "    1.0000 \n",
            "    1.0000 \n",
            "    1.0000 \n",
            "    1.0000 \n",
            "================\n",
            "\n"
          ]
        }
      ]
    }
  ]
}