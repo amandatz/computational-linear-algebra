{
  "cells": [
    {
      "cell_type": "markdown",
      "metadata": {
        "id": "view-in-github",
        "colab_type": "text"
      },
      "source": [
        "<a href=\"https://colab.research.google.com/github/amandatz/computational-linear-algebra/blob/main/Atividade6.ipynb\" target=\"_parent\"><img src=\"https://colab.research.google.com/assets/colab-badge.svg\" alt=\"Open In Colab\"/></a>"
      ]
    },
    {
      "cell_type": "markdown",
      "metadata": {
        "id": "blYaG25Sn3Rh"
      },
      "source": [
        "# Atividade 6"
      ]
    },
    {
      "cell_type": "markdown",
      "source": [
        "Amanda Topanotti Zanette (22100776)"
      ],
      "metadata": {
        "id": "PkwBFJBBn_WN"
      }
    },
    {
      "cell_type": "markdown",
      "source": [
        "**Importações e funções auxiliares**"
      ],
      "metadata": {
        "id": "ZVHrqEtXoAwP"
      }
    },
    {
      "cell_type": "code",
      "source": [
        "using LinearAlgebra\n",
        "using Plots"
      ],
      "metadata": {
        "id": "kSDpt86JoC9C"
      },
      "execution_count": 1,
      "outputs": []
    },
    {
      "cell_type": "markdown",
      "source": [
        "Esse trecho de código é usado apenas para garantir a repetibilidade dos números aleatórios gerados."
      ],
      "metadata": {
        "id": "bFte9ic0pshR"
      }
    },
    {
      "cell_type": "code",
      "source": [
        "using Random\n",
        "Random.seed!(123)"
      ],
      "metadata": {
        "id": "KDc8trPepowI",
        "outputId": "5c61607d-922f-4d97-8b10-4a55d2d510ad",
        "colab": {
          "base_uri": "https://localhost:8080/"
        }
      },
      "execution_count": 2,
      "outputs": [
        {
          "output_type": "execute_result",
          "data": {
            "text/plain": [
              "TaskLocalRNG()"
            ]
          },
          "metadata": {},
          "execution_count": 2
        }
      ]
    },
    {
      "cell_type": "markdown",
      "source": [
        "### Questão 1"
      ],
      "metadata": {
        "id": "jJR0etyLoUFs"
      }
    },
    {
      "cell_type": "code",
      "source": [
        "function gauss_seidel(A, b, x0; tol=1e-8, max_iter=1000)\n",
        "  n = length(b)\n",
        "  x = copy(x0)\n",
        "  residual = norm(A * x - b)\n",
        "  residuals = [residual]\n",
        "\n",
        "  for iter in 1:max_iter\n",
        "    for i in 1:n\n",
        "      sum_updated = dot(A[i, 1:i-1], x[1:i-1])\n",
        "      sum_not_updated = dot(A[i, i+1:n], x[i+1:n])\n",
        "\n",
        "      x[i] = (b[i] - sum_updated - sum_not_updated) / A[i, i]\n",
        "    end\n",
        "\n",
        "    residual = norm(A * x - b)\n",
        "    push!(residuals, residual)\n",
        "\n",
        "    if residual < tol\n",
        "      println(\"Convergência alcançada após $iter iterações\")\n",
        "      return x, residuals, iter\n",
        "    end\n",
        "  end\n",
        "\n",
        "  println(\"Máximo de iterações alcançado sem convergência\")\n",
        "  return x, residuals, max_iter\n",
        "end"
      ],
      "metadata": {
        "colab": {
          "base_uri": "https://localhost:8080/"
        },
        "id": "7jke1iv_9IBa",
        "outputId": "e5c9d544-674b-416c-ddb0-c95f980ec695"
      },
      "execution_count": 7,
      "outputs": [
        {
          "output_type": "execute_result",
          "data": {
            "text/plain": [
              "gauss_seidel (generic function with 2 methods)"
            ]
          },
          "metadata": {},
          "execution_count": 7
        }
      ]
    },
    {
      "cell_type": "code",
      "source": [
        "function gradiente_conjugado_otimizado(A, b, x0; tol=1e-8, max_iter=1000, verbose=false)\n",
        "  n = length(b)\n",
        "  x = copy(x0)\n",
        "  r = b - A * x\n",
        "  d = copy(r)\n",
        "  rs_old = dot(r, r)\n",
        "\n",
        "  residuals = [sqrt(rs_old)]\n",
        "\n",
        "  for iter in 1:max_iter\n",
        "    Ad = A * d\n",
        "    alpha = rs_old / dot(d, Ad)\n",
        "\n",
        "    x .+= alpha .* d\n",
        "    r .-= alpha .* Ad\n",
        "\n",
        "    rs_new = dot(r, r)\n",
        "    push!(residuals, sqrt(rs_new))\n",
        "\n",
        "    if verbose\n",
        "      println(\"Iteração $iter: resíduo = $(residuals[end])\")\n",
        "    end\n",
        "\n",
        "    if sqrt(rs_new) < tol\n",
        "      verbose && println(\"Convergência alcançada após $iter iterações\")\n",
        "      return x, residuals, iter\n",
        "    end\n",
        "\n",
        "    beta = rs_new / rs_old\n",
        "    d .= r .+ beta .* d\n",
        "    rs_old = rs_new\n",
        "  end\n",
        "\n",
        "  error(\"\"\"O método não convergiu após $max_iter iterações.\"\"\")\n",
        "end"
      ],
      "metadata": {
        "colab": {
          "base_uri": "https://localhost:8080/"
        },
        "id": "wX5aYiSi9jLh",
        "outputId": "b075e8d3-4fb6-4b60-e119-fd15bc630eee"
      },
      "execution_count": 4,
      "outputs": [
        {
          "output_type": "execute_result",
          "data": {
            "text/plain": [
              "gradientes_conjugados (generic function with 1 method)"
            ]
          },
          "metadata": {},
          "execution_count": 4
        }
      ]
    },
    {
      "cell_type": "markdown",
      "source": [
        "### Questão 2"
      ],
      "metadata": {
        "id": "-FhpJuhcoV0p"
      }
    },
    {
      "cell_type": "markdown",
      "source": [
        "### Questão 3"
      ],
      "metadata": {
        "id": "gtU-A-fGoXzH"
      }
    },
    {
      "cell_type": "markdown",
      "source": [
        "### Questão 4"
      ],
      "metadata": {
        "id": "HOk4ZOnpoYcl"
      }
    }
  ],
  "metadata": {
    "language_info": {
      "name": "julia"
    },
    "colab": {
      "provenance": [],
      "include_colab_link": true
    },
    "kernelspec": {
      "name": "julia",
      "display_name": "Julia"
    }
  },
  "nbformat": 4,
  "nbformat_minor": 0
}