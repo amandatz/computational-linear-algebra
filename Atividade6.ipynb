{
  "cells": [
    {
      "cell_type": "markdown",
      "metadata": {
        "id": "view-in-github",
        "colab_type": "text"
      },
      "source": [
        "<a href=\"https://colab.research.google.com/github/amandatz/computational-linear-algebra/blob/main/Atividade6.ipynb\" target=\"_parent\"><img src=\"https://colab.research.google.com/assets/colab-badge.svg\" alt=\"Open In Colab\"/></a>"
      ]
    },
    {
      "cell_type": "markdown",
      "metadata": {
        "id": "blYaG25Sn3Rh"
      },
      "source": [
        "# Atividade 6"
      ]
    },
    {
      "cell_type": "markdown",
      "source": [
        "Amanda Topanotti Zanette (22100776)"
      ],
      "metadata": {
        "id": "PkwBFJBBn_WN"
      }
    },
    {
      "cell_type": "markdown",
      "source": [
        "**Importações e funções auxiliares**"
      ],
      "metadata": {
        "id": "ZVHrqEtXoAwP"
      }
    },
    {
      "cell_type": "code",
      "source": [
        "using LinearAlgebra\n",
        "using Plots"
      ],
      "metadata": {
        "id": "kSDpt86JoC9C"
      },
      "execution_count": 1,
      "outputs": []
    },
    {
      "cell_type": "markdown",
      "source": [
        "Esse trecho de código é usado apenas para garantir a repetibilidade dos números aleatórios gerados."
      ],
      "metadata": {
        "id": "bFte9ic0pshR"
      }
    },
    {
      "cell_type": "code",
      "source": [
        "using Random\n",
        "Random.seed!(123)"
      ],
      "metadata": {
        "id": "KDc8trPepowI",
        "outputId": "66c0e9ab-5f63-4e7c-bdf4-aeb64bfdfc45",
        "colab": {
          "base_uri": "https://localhost:8080/"
        }
      },
      "execution_count": 2,
      "outputs": [
        {
          "output_type": "execute_result",
          "data": {
            "text/plain": [
              "TaskLocalRNG()"
            ]
          },
          "metadata": {},
          "execution_count": 2
        }
      ]
    },
    {
      "cell_type": "markdown",
      "source": [
        "### Questão 1"
      ],
      "metadata": {
        "id": "jJR0etyLoUFs"
      }
    },
    {
      "cell_type": "code",
      "source": [
        "function gauss_seidel(A, b; max_iter=1000, tol=1e-6)\n",
        "    n = size(A, 1)\n",
        "    x = zeros(n)\n",
        "    x_new = copy(x)\n",
        "\n",
        "    for k in 1:max_iter\n",
        "        for i in 1:n\n",
        "            sum1 = sum(A[i,j] * x_new[j] for j in 1:i-1)\n",
        "            sum2 = sum(A[i,j] * x[j] for j in i+1:n)\n",
        "            x_new[i] = (b[i] - sum1 - sum2) / A[i,i]\n",
        "        end\n",
        "\n",
        "        residual = norm(A * x_new - b)\n",
        "        if residual < tol\n",
        "            println(\"Convergência alcançada após $k iterações\")\n",
        "            return x_new\n",
        "        end\n",
        "\n",
        "        x = copy(x_new)\n",
        "    end\n",
        "\n",
        "    println(\"Máximo de iterações alcançado sem convergência\")\n",
        "    return x\n",
        "end"
      ],
      "metadata": {
        "id": "7jke1iv_9IBa",
        "outputId": "08bdaf5a-ce02-44b3-f1aa-5cc5d40808fb",
        "colab": {
          "base_uri": "https://localhost:8080/"
        }
      },
      "execution_count": 3,
      "outputs": [
        {
          "output_type": "execute_result",
          "data": {
            "text/plain": [
              "gauss_seidel (generic function with 1 method)"
            ]
          },
          "metadata": {},
          "execution_count": 3
        }
      ]
    },
    {
      "cell_type": "code",
      "source": [
        "function gradientes_conjugados(A, b; max_iter=1000, tol=1e-6)\n",
        "    n = size(A, 1)\n",
        "    x = zeros(n)\n",
        "    r = b - A * x\n",
        "    p = copy(r)\n",
        "\n",
        "    for k in 1:max_iter\n",
        "        Ap = A * p\n",
        "        alpha = dot(r, r) / dot(p, Ap)\n",
        "        x = x + alpha * p\n",
        "        r_new = r - alpha * Ap\n",
        "\n",
        "        if norm(r_new) < tol\n",
        "            println(\"Convergência alcançada após $k iterações\")\n",
        "            return x\n",
        "        end\n",
        "\n",
        "        beta = dot(r_new, r_new) / dot(r, r)\n",
        "        p = r_new + beta * p\n",
        "        r = r_new\n",
        "    end\n",
        "\n",
        "    println(\"Máximo de iterações alcançado sem convergência\")\n",
        "    return x\n",
        "end"
      ],
      "metadata": {
        "id": "wX5aYiSi9jLh",
        "outputId": "c56d1ae3-e8c3-414e-a600-24e8441c7c7c",
        "colab": {
          "base_uri": "https://localhost:8080/"
        }
      },
      "execution_count": 4,
      "outputs": [
        {
          "output_type": "execute_result",
          "data": {
            "text/plain": [
              "gradientes_conjugados (generic function with 1 method)"
            ]
          },
          "metadata": {},
          "execution_count": 4
        }
      ]
    },
    {
      "cell_type": "markdown",
      "source": [
        "### Questão 2"
      ],
      "metadata": {
        "id": "-FhpJuhcoV0p"
      }
    },
    {
      "cell_type": "markdown",
      "source": [
        "### Questão 3"
      ],
      "metadata": {
        "id": "gtU-A-fGoXzH"
      }
    },
    {
      "cell_type": "markdown",
      "source": [
        "### Questão 4"
      ],
      "metadata": {
        "id": "HOk4ZOnpoYcl"
      }
    }
  ],
  "metadata": {
    "language_info": {
      "name": "julia"
    },
    "colab": {
      "provenance": [],
      "include_colab_link": true
    },
    "kernelspec": {
      "name": "julia",
      "display_name": "Julia"
    }
  },
  "nbformat": 4,
  "nbformat_minor": 0
}