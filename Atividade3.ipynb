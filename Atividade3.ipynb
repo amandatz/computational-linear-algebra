{
  "cells": [
    {
      "cell_type": "markdown",
      "metadata": {
        "id": "view-in-github",
        "colab_type": "text"
      },
      "source": [
        "<a href=\"https://colab.research.google.com/github/amandatz/computational-linear-algebra/blob/main/Atividade3.ipynb\" target=\"_parent\"><img src=\"https://colab.research.google.com/assets/colab-badge.svg\" alt=\"Open In Colab\"/></a>"
      ]
    },
    {
      "cell_type": "markdown",
      "metadata": {
        "id": "SMHYfR51WZiE"
      },
      "source": [
        "# Atividade 3"
      ]
    },
    {
      "cell_type": "markdown",
      "source": [
        "Amanda Topanotti Zanette (22100776)"
      ],
      "metadata": {
        "id": "UwGD4oehWlgq"
      }
    },
    {
      "cell_type": "markdown",
      "source": [
        "**Importações e funções auxiliares**"
      ],
      "metadata": {
        "id": "3-z_izZMWmgI"
      }
    },
    {
      "cell_type": "code",
      "source": [
        "using LinearAlgebra"
      ],
      "metadata": {
        "id": "DF-oJnMYWbQz"
      },
      "execution_count": 12,
      "outputs": []
    },
    {
      "cell_type": "code",
      "source": [
        "using Printf\n",
        "\n",
        "function print_matrix(M, decimals::Int=4)\n",
        "  for i in 1:size(M, 1)\n",
        "    for j in 1:size(M, 2)\n",
        "      @printf(\"%*.*f \", 10, decimals, M[i, j])\n",
        "    end\n",
        "    println()\n",
        "  end\n",
        "end\n"
      ],
      "metadata": {
        "colab": {
          "base_uri": "https://localhost:8080/"
        },
        "id": "5gMJixlLb_6C",
        "outputId": "40121be0-ee52-4424-f3a7-08b428a9f526"
      },
      "execution_count": 13,
      "outputs": [
        {
          "output_type": "execute_result",
          "data": {
            "text/plain": [
              "print_matrix (generic function with 2 methods)"
            ]
          },
          "metadata": {},
          "execution_count": 13
        }
      ]
    },
    {
      "cell_type": "markdown",
      "source": [
        "## Questão 1"
      ],
      "metadata": {
        "id": "jM_DrvNaWtP-"
      }
    },
    {
      "cell_type": "code",
      "source": [
        "function gram_schmidt(vectors::Vector{Vector{Float64}})\n",
        "  n = length(vectors)\n",
        "  u = Vector{Vector{Float64}}(undef, n)\n",
        "  u[1] = vectors[1]\n",
        "\n",
        "  for i in 2:n\n",
        "    projection = sum((dot(vectors[i], u[k]) / dot(u[k], u[k])) * u[k] for k in 1:i-1)\n",
        "\n",
        "    u[i] = vectors[i] - projection\n",
        "    u[i] /= norm(u[i])\n",
        "  end\n",
        "\n",
        "  return u\n",
        "end"
      ],
      "metadata": {
        "colab": {
          "base_uri": "https://localhost:8080/"
        },
        "id": "gol1RLq9WvTR",
        "outputId": "1e50c8c8-dcdf-4d4b-fc0c-5b4b6fe1a471"
      },
      "execution_count": 14,
      "outputs": [
        {
          "output_type": "execute_result",
          "data": {
            "text/plain": [
              "gram_schmidt (generic function with 1 method)"
            ]
          },
          "metadata": {},
          "execution_count": 14
        }
      ]
    },
    {
      "cell_type": "markdown",
      "source": [
        "## Questão 2"
      ],
      "metadata": {
        "id": "7CVP26tqXQ4-"
      }
    },
    {
      "cell_type": "code",
      "source": [
        "vectors1 = [[1.0, 0.0, 0.0, -1.0], [1.0, 2.0, 0.0, -1.0], [3.0, 1.0, 1.0, -1.0]]\n",
        "vectors_result1 = gram_schmidt(vectors1)\n",
        "\n",
        "for (i, u) in enumerate(vectors_result1)\n",
        "  println(\"u$i:\")\n",
        "  print_matrix(u)\n",
        "end"
      ],
      "metadata": {
        "colab": {
          "base_uri": "https://localhost:8080/"
        },
        "id": "gFu4MCbRXSrL",
        "outputId": "fcc1a194-c4bb-4cbf-e27f-b14572b3d4d0"
      },
      "execution_count": 21,
      "outputs": [
        {
          "output_type": "stream",
          "name": "stdout",
          "text": [
            "u1:\n",
            "    1.0000 \n",
            "    0.0000 \n",
            "    0.0000 \n",
            "   -1.0000 \n",
            "u2:\n",
            "    0.0000 \n",
            "    1.0000 \n",
            "    0.0000 \n",
            "    0.0000 \n",
            "u3:\n",
            "    0.5774 \n",
            "    0.0000 \n",
            "    0.5774 \n",
            "    0.5774 \n"
          ]
        }
      ]
    },
    {
      "cell_type": "markdown",
      "source": [
        "## Questão 3\n",
        "\n",
        "Dois vetores $u_1$ e $u_2$ são ortogonais se $\\langle u_1, u_2 \\rangle = 0$. Veja que, de fato, todos os vetores obtidos no passo anterior são ortogonais entre si."
      ],
      "metadata": {
        "id": "l-mikRo4c1cV"
      }
    },
    {
      "cell_type": "code",
      "source": [
        "n = length(vectors_result1)\n",
        "\n",
        "for i in 1:n\n",
        "  for j in i+1:n\n",
        "    product = dot(vectors_result1[i], vectors_result1[j])\n",
        "    println(\"<u\", i, \", u\", j, \"> = \", product)\n",
        "  end\n",
        "end"
      ],
      "metadata": {
        "colab": {
          "base_uri": "https://localhost:8080/"
        },
        "id": "QLDGAxiGc3Vx",
        "outputId": "6090fe8b-93c8-4b5d-85b9-927897e5aea7"
      },
      "execution_count": 16,
      "outputs": [
        {
          "output_type": "stream",
          "name": "stdout",
          "text": [
            "<u1, u2> = 0.0\n",
            "<u1, u3> = 0.0\n",
            "<u2, u3> = 0.0\n"
          ]
        }
      ]
    },
    {
      "cell_type": "markdown",
      "source": [
        "## Questão 4"
      ],
      "metadata": {
        "id": "Ly85NjngetYR"
      }
    },
    {
      "cell_type": "code",
      "source": [
        "epsilon = 1e-5\n",
        "\n",
        "vectors2 = [[1, epsilon, 0, 0], [1, 0, epsilon, 0], [1, 0, 0, epsilon]]\n",
        "vectors_result2 = gram_schmidt(vectors2)\n",
        "\n",
        "for (i, u) in enumerate(vectors_result2)\n",
        "  println(\"u$i:\")\n",
        "  print_matrix(u, 8)\n",
        "  println(\"\")\n",
        "end"
      ],
      "metadata": {
        "colab": {
          "base_uri": "https://localhost:8080/"
        },
        "id": "LcVQU3XGevEw",
        "outputId": "dc50091a-8e61-41ae-8500-1691ddb9ce98"
      },
      "execution_count": 23,
      "outputs": [
        {
          "output_type": "stream",
          "name": "stdout",
          "text": [
            "u1:\n",
            "1.00000000 \n",
            "0.00001000 \n",
            "0.00000000 \n",
            "0.00000000 \n",
            "\n",
            "u2:\n",
            "0.00000707 \n",
            "-0.70710678 \n",
            "0.70710678 \n",
            "0.00000000 \n",
            "\n",
            "u3:\n",
            "0.00000408 \n",
            "-0.40824826 \n",
            "-0.40824832 \n",
            "0.81649658 \n",
            "\n"
          ]
        }
      ]
    },
    {
      "cell_type": "markdown",
      "source": [
        "Veja que $\\langle u_2, u_3 \\rangle \\neq 0$, embora resulte em um número muito pequeno."
      ],
      "metadata": {
        "id": "zoImDixYfeAt"
      }
    },
    {
      "cell_type": "code",
      "source": [
        "product2 = dot(vectors_result2[2], vectors_result2[3])\n",
        "println(\"<u2, u3> = \", product2)"
      ],
      "metadata": {
        "id": "chrAP6IxfQV3",
        "outputId": "86208dce-cc32-4c68-8cab-ae7d86885d66",
        "colab": {
          "base_uri": "https://localhost:8080/"
        }
      },
      "execution_count": 18,
      "outputs": [
        {
          "output_type": "stream",
          "name": "stdout",
          "text": [
            "<u2, u3> = -4.782791046542556e-8\n"
          ]
        }
      ]
    },
    {
      "cell_type": "markdown",
      "source": [
        "## Questão 5"
      ],
      "metadata": {
        "id": "xTqFGi5pfzLu"
      }
    },
    {
      "cell_type": "code",
      "source": [
        "function gram_schmidt_2(a::Vector{Vector{Float64}})\n",
        "  n = length(a)\n",
        "  m = length(a[1])\n",
        "\n",
        "  r = zeros(Float64, n, n)\n",
        "  q = zeros(Float64, n, m)\n",
        "\n",
        "  v = [copy(a[i]) for i in 1:n]\n",
        "\n",
        "  for i in 1:n\n",
        "    r[i, i] = norm(v[i])\n",
        "    q[i, :] = v[i] / r[i, i]\n",
        "\n",
        "    for j in (i + 1):n\n",
        "      r[i, j] = dot(q[i, :], v[j])\n",
        "      v[j] = v[j] - r[i, j] * q[i, :]\n",
        "    end\n",
        "  end\n",
        "\n",
        "  return q\n",
        "end"
      ],
      "metadata": {
        "id": "SPePxDd-f6Yj",
        "outputId": "93b3446b-971a-42f4-de2d-04a9f55b6622",
        "colab": {
          "base_uri": "https://localhost:8080/"
        }
      },
      "execution_count": 19,
      "outputs": [
        {
          "output_type": "execute_result",
          "data": {
            "text/plain": [
              "gram_schmidt_2 (generic function with 1 method)"
            ]
          },
          "metadata": {},
          "execution_count": 19
        }
      ]
    },
    {
      "cell_type": "markdown",
      "source": [
        "Note que o novo algoritmo é muito mais preciso. Enquanto o anterior obteve erro na 8° casa decimal, este obteve erro na 11° casa. Logo, a versão modificada é mais estável numericamente, principalmente nesse contexto em que os vetores $x_1$, $x_2$ e $x_3$ são quase linearmente dependentes."
      ],
      "metadata": {
        "id": "B-FtSOlqjNXe"
      }
    },
    {
      "cell_type": "code",
      "source": [
        "vectors_result3 = gram_schmidt_2(vectors2)\n",
        "\n",
        "product3 = dot(vectors_result3[2], vectors_result3[3])\n",
        "println(\"<u2, u3> = \", product3)"
      ],
      "metadata": {
        "id": "LmB92qzdgQH0",
        "outputId": "66c49163-28ba-44f9-b6f1-cd97cfd387a4",
        "colab": {
          "base_uri": "https://localhost:8080/"
        }
      },
      "execution_count": 20,
      "outputs": [
        {
          "output_type": "stream",
          "name": "stdout",
          "text": [
            "<u2, u3> = 2.8867518238904655e-11\n"
          ]
        }
      ]
    }
  ],
  "metadata": {
    "kernelspec": {
      "display_name": "Julia",
      "name": "julia"
    },
    "language_info": {
      "name": "julia"
    },
    "colab": {
      "provenance": [],
      "include_colab_link": true
    }
  },
  "nbformat": 4,
  "nbformat_minor": 0
}