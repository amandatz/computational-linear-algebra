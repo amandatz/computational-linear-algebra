{
  "cells": [
    {
      "cell_type": "markdown",
      "metadata": {
        "id": "view-in-github",
        "colab_type": "text"
      },
      "source": [
        "<a href=\"https://colab.research.google.com/github/amandatz/computational-linear-algebra/blob/main/Atividade3.ipynb\" target=\"_parent\"><img src=\"https://colab.research.google.com/assets/colab-badge.svg\" alt=\"Open In Colab\"/></a>"
      ]
    },
    {
      "cell_type": "markdown",
      "metadata": {
        "id": "SMHYfR51WZiE"
      },
      "source": [
        "# Atividade 3"
      ]
    },
    {
      "cell_type": "markdown",
      "source": [
        "Amanda Topanotti Zanette (22100776)"
      ],
      "metadata": {
        "id": "UwGD4oehWlgq"
      }
    },
    {
      "cell_type": "markdown",
      "source": [
        "**Importações e funções auxiliares**"
      ],
      "metadata": {
        "id": "3-z_izZMWmgI"
      }
    },
    {
      "cell_type": "code",
      "source": [
        "using LinearAlgebra"
      ],
      "metadata": {
        "id": "DF-oJnMYWbQz"
      },
      "execution_count": 26,
      "outputs": []
    },
    {
      "cell_type": "code",
      "source": [
        "using Printf\n",
        "\n",
        "function print_matrix(M, decimals::Int=4)\n",
        "  for i in 1:size(M, 1)\n",
        "    for j in 1:size(M, 2)\n",
        "      @printf(\"%*.*f \", 10, decimals, M[i, j])\n",
        "    end\n",
        "    println()\n",
        "  end\n",
        "end\n"
      ],
      "metadata": {
        "colab": {
          "base_uri": "https://localhost:8080/"
        },
        "id": "5gMJixlLb_6C",
        "outputId": "7750dc46-4c10-446c-90f0-906e66ddef6d"
      },
      "execution_count": 49,
      "outputs": [
        {
          "output_type": "execute_result",
          "data": {
            "text/plain": [
              "print_matrix (generic function with 2 methods)"
            ]
          },
          "metadata": {},
          "execution_count": 49
        }
      ]
    },
    {
      "cell_type": "markdown",
      "source": [
        "## Questão 1"
      ],
      "metadata": {
        "id": "jM_DrvNaWtP-"
      }
    },
    {
      "cell_type": "code",
      "source": [
        "function gram_schmidt(vectors::Vector{Vector{Float64}})\n",
        "  n = length(vectors)\n",
        "  u = Vector{Vector{Float64}}(undef, n)\n",
        "  u[1] = vectors[1]\n",
        "\n",
        "  for i in 2:n\n",
        "    projection = sum((dot(vectors[i], u[k]) / dot(u[k], u[k])) * u[k] for k in 1:i-1)\n",
        "\n",
        "    u[i] = vectors[i] - projection\n",
        "    u[i] /= norm(u[i])\n",
        "  end\n",
        "\n",
        "  return u\n",
        "end"
      ],
      "metadata": {
        "colab": {
          "base_uri": "https://localhost:8080/"
        },
        "id": "gol1RLq9WvTR",
        "outputId": "95ac265c-1d8e-435a-c78e-e375300390a2"
      },
      "execution_count": 45,
      "outputs": [
        {
          "output_type": "execute_result",
          "data": {
            "text/plain": [
              "gram_schmidt (generic function with 1 method)"
            ]
          },
          "metadata": {},
          "execution_count": 45
        }
      ]
    },
    {
      "cell_type": "markdown",
      "source": [
        "## Questão 2"
      ],
      "metadata": {
        "id": "7CVP26tqXQ4-"
      }
    },
    {
      "cell_type": "code",
      "source": [
        "vectors1 = [[1.0, 0.0, 0.0, -1.0], [1.0, 2.0, 0.0, -1.0], [3.0, 1.0, 1.0, -1.0]]\n",
        "vectors_result1 = gram_schmidt(vectors1)\n",
        "\n",
        "for (i, u) in enumerate(vectors_result1)\n",
        "    println(\"u$i:\")\n",
        "    print_matrix(u)\n",
        "end"
      ],
      "metadata": {
        "colab": {
          "base_uri": "https://localhost:8080/"
        },
        "id": "gFu4MCbRXSrL",
        "outputId": "c15a975e-dc4a-49d3-843c-772194ac2459"
      },
      "execution_count": 57,
      "outputs": [
        {
          "output_type": "stream",
          "name": "stdout",
          "text": [
            "u1:\n",
            "    1.0000 \n",
            "    0.0000 \n",
            "    0.0000 \n",
            "   -1.0000 \n",
            "u2:\n",
            "    0.0000 \n",
            "    1.0000 \n",
            "    0.0000 \n",
            "    0.0000 \n",
            "u3:\n",
            "    0.5774 \n",
            "    0.0000 \n",
            "    0.5774 \n",
            "    0.5774 \n"
          ]
        }
      ]
    },
    {
      "cell_type": "markdown",
      "source": [
        "## Questão 3\n",
        "\n",
        "Dois vetores $u_1$ e $u_2$ são ortogonais se $\\langle u_1, u_2 \\rangle = 0$."
      ],
      "metadata": {
        "id": "l-mikRo4c1cV"
      }
    },
    {
      "cell_type": "code",
      "source": [
        "n = length(vectors_result1)\n",
        "\n",
        "for i in 1:n\n",
        "  for j in i+1:n\n",
        "    product = dot(vectors_result1[i], vectors_result1[j])\n",
        "    println(\"<u\", i, \", u\", j, \"> = \", product)\n",
        "  end\n",
        "end"
      ],
      "metadata": {
        "colab": {
          "base_uri": "https://localhost:8080/"
        },
        "id": "QLDGAxiGc3Vx",
        "outputId": "0683cc47-2802-498c-ff61-60ad90b6639a"
      },
      "execution_count": 58,
      "outputs": [
        {
          "output_type": "stream",
          "name": "stdout",
          "text": [
            "<u1, u2> = 0.0\n",
            "<u1, u3> = 0.0\n",
            "<u2, u3> = 0.0\n"
          ]
        }
      ]
    },
    {
      "cell_type": "markdown",
      "source": [
        "## Questão 4"
      ],
      "metadata": {
        "id": "Ly85NjngetYR"
      }
    },
    {
      "cell_type": "code",
      "source": [
        "epsilon = 1e-5\n",
        "\n",
        "vectors2 = [[1, epsilon, 0, 0], [1, 0, epsilon, 0], [1, 0, 0, epsilon]]\n",
        "vectors_result2 = gram_schmidt(vectors2)\n",
        "\n",
        "for (i, u) in enumerate(vectors_result2)\n",
        "    println(\"u$i:\")\n",
        "    print_matrix(u, 8)\n",
        "end"
      ],
      "metadata": {
        "colab": {
          "base_uri": "https://localhost:8080/"
        },
        "id": "LcVQU3XGevEw",
        "outputId": "19d37266-8286-4cca-8721-8a6b1f2e9b20"
      },
      "execution_count": 59,
      "outputs": [
        {
          "output_type": "stream",
          "name": "stdout",
          "text": [
            "u1:\n",
            "1.00000000 \n",
            "0.00001000 \n",
            "0.00000000 \n",
            "0.00000000 \n",
            "u2:\n",
            "0.00000707 \n",
            "-0.70710678 \n",
            "0.70710678 \n",
            "0.00000000 \n",
            "u3:\n",
            "0.00000408 \n",
            "-0.40824826 \n",
            "-0.40824832 \n",
            "0.81649658 \n"
          ]
        }
      ]
    },
    {
      "cell_type": "markdown",
      "source": [
        "Veja que $\\langle u_2, u_3 \\rangle \\neq 0$, embora resulte em um número muito pequeno."
      ],
      "metadata": {
        "id": "zoImDixYfeAt"
      }
    },
    {
      "cell_type": "code",
      "source": [
        "product2 = dot(vectors_result2[2], vectors_result2[3])\n",
        "println(\"<u2, u3> = \", product2)"
      ],
      "metadata": {
        "id": "chrAP6IxfQV3",
        "outputId": "e0cb0aeb-2853-4fee-f3a9-2305ec24b7b5",
        "colab": {
          "base_uri": "https://localhost:8080/"
        }
      },
      "execution_count": 60,
      "outputs": [
        {
          "output_type": "stream",
          "name": "stdout",
          "text": [
            "<u2, u3> = -4.782791046542556e-8\n"
          ]
        }
      ]
    },
    {
      "cell_type": "markdown",
      "source": [
        "## Questão 5"
      ],
      "metadata": {
        "id": "xTqFGi5pfzLu"
      }
    },
    {
      "cell_type": "code",
      "source": [
        "function gram_schmidt_2(a::Vector{Vector{Float64}})\n",
        "  n = length(a)\n",
        "  m = length(a[1])\n",
        "\n",
        " v = [copy(a[i]) for i in 1:n]\n",
        "  r = zeros(Float64, n, n)\n",
        "  q = zeros(Float64, n, m)\n",
        "\n",
        "  for i in 1:n\n",
        "    r[i, i] = norm(v[i])\n",
        "    q[i, :] = v[i] / r[i, i]\n",
        "\n",
        "    for j in (i + 1):n\n",
        "      r[i, j] = dot(q[i, :], v[j])\n",
        "      v[j] = v[j] - r[i, j] * q[i, :]\n",
        "    end\n",
        "  end\n",
        "\n",
        "  return q\n",
        "end"
      ],
      "metadata": {
        "id": "SPePxDd-f6Yj",
        "outputId": "841f2e59-6095-4674-8941-0088731ad99c",
        "colab": {
          "base_uri": "https://localhost:8080/"
        }
      },
      "execution_count": 68,
      "outputs": [
        {
          "output_type": "execute_result",
          "data": {
            "text/plain": [
              "gram_schmidt_2 (generic function with 1 method)"
            ]
          },
          "metadata": {},
          "execution_count": 68
        }
      ]
    },
    {
      "cell_type": "markdown",
      "source": [
        "Observe que o novo algoritmo é muito mais preciso que o anterior."
      ],
      "metadata": {
        "id": "B-FtSOlqjNXe"
      }
    },
    {
      "cell_type": "code",
      "source": [
        "vectors3 = [[1, epsilon, 0, 0], [1, 0, epsilon, 0], [1, 0, 0, epsilon]]\n",
        "vectors_result3 = gram_schmidt_2(vectors3)\n",
        "\n",
        "product3 = dot(vectors_result3[2], vectors_result3[3])\n",
        "println(\"<u2, u3> = \", product3)"
      ],
      "metadata": {
        "id": "LmB92qzdgQH0",
        "outputId": "e0696706-56d2-4590-d681-af6283585217",
        "colab": {
          "base_uri": "https://localhost:8080/"
        }
      },
      "execution_count": 69,
      "outputs": [
        {
          "output_type": "stream",
          "name": "stdout",
          "text": [
            "<u2, u3> = 2.8867518238904655e-11\n"
          ]
        }
      ]
    }
  ],
  "metadata": {
    "kernelspec": {
      "display_name": "Julia",
      "name": "julia"
    },
    "language_info": {
      "name": "julia"
    },
    "colab": {
      "provenance": [],
      "include_colab_link": true
    }
  },
  "nbformat": 4,
  "nbformat_minor": 0
}