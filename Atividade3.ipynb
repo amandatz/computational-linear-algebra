{
  "cells": [
    {
      "cell_type": "markdown",
      "metadata": {
        "id": "view-in-github",
        "colab_type": "text"
      },
      "source": [
        "<a href=\"https://colab.research.google.com/github/amandatz/computational-linear-algebra/blob/main/Atividade3.ipynb\" target=\"_parent\"><img src=\"https://colab.research.google.com/assets/colab-badge.svg\" alt=\"Open In Colab\"/></a>"
      ]
    },
    {
      "cell_type": "markdown",
      "metadata": {
        "id": "SMHYfR51WZiE"
      },
      "source": [
        "# Atividade 3"
      ]
    },
    {
      "cell_type": "markdown",
      "source": [
        "Amanda Topanotti Zanette (22100776)"
      ],
      "metadata": {
        "id": "UwGD4oehWlgq"
      }
    },
    {
      "cell_type": "markdown",
      "source": [
        "**Importações e funções auxiliares**"
      ],
      "metadata": {
        "id": "3-z_izZMWmgI"
      }
    },
    {
      "cell_type": "code",
      "source": [
        "using LinearAlgebra"
      ],
      "metadata": {
        "id": "DF-oJnMYWbQz"
      },
      "execution_count": 26,
      "outputs": []
    },
    {
      "cell_type": "code",
      "source": [
        "using Printf\n",
        "\n",
        "function print_matrix(M)\n",
        "  for i in 1:size(M, 1)\n",
        "    for j in 1:size(M, 2)\n",
        "      @printf(\"%10.4f \", M[i, j])\n",
        "    end\n",
        "    println()\n",
        "  end\n",
        "end\n"
      ],
      "metadata": {
        "id": "5gMJixlLb_6C",
        "outputId": "7392c50e-5ac6-4fc9-909f-574e33697351",
        "colab": {
          "base_uri": "https://localhost:8080/"
        }
      },
      "execution_count": 33,
      "outputs": [
        {
          "output_type": "execute_result",
          "data": {
            "text/plain": [
              "print_matrix (generic function with 1 method)"
            ]
          },
          "metadata": {},
          "execution_count": 33
        }
      ]
    },
    {
      "cell_type": "markdown",
      "source": [
        "## Questão 1"
      ],
      "metadata": {
        "id": "jM_DrvNaWtP-"
      }
    },
    {
      "cell_type": "code",
      "source": [
        "function gram_schmidt(vectors::Vector{Vector{Float64}})\n",
        "  n = length(vectors)\n",
        "  u = Vector{Vector{Float64}}(undef, n)\n",
        "  u[1] = vectors[1]\n",
        "\n",
        "  for i in 2:n\n",
        "    projection = sum((dot(vectors[i], u[k]) / dot(u[k], u[k])) * u[k] for k in 1:i-1)\n",
        "\n",
        "    u[i] = vectors[i] - projection\n",
        "    u[i] /= norm(u[i])\n",
        "  end\n",
        "\n",
        "  return u\n",
        "end"
      ],
      "metadata": {
        "id": "gol1RLq9WvTR",
        "outputId": "95ac265c-1d8e-435a-c78e-e375300390a2",
        "colab": {
          "base_uri": "https://localhost:8080/"
        }
      },
      "execution_count": 45,
      "outputs": [
        {
          "output_type": "execute_result",
          "data": {
            "text/plain": [
              "gram_schmidt (generic function with 1 method)"
            ]
          },
          "metadata": {},
          "execution_count": 45
        }
      ]
    },
    {
      "cell_type": "markdown",
      "source": [
        "## Questão 2"
      ],
      "metadata": {
        "id": "7CVP26tqXQ4-"
      }
    },
    {
      "cell_type": "code",
      "source": [
        "vectors = [[1.0, 0.0, 0.0, -1.0], [1.0, 2.0, 0.0, -1.0], [3.0, 1.0, 1.0, -1.0]]\n",
        "vectors_result = gram_schmidt(vectors)\n",
        "\n",
        "for (i, u) in enumerate(vectors_result)\n",
        "    println(\"u$i:\")\n",
        "    print_matrix(u)\n",
        "end"
      ],
      "metadata": {
        "colab": {
          "base_uri": "https://localhost:8080/"
        },
        "id": "gFu4MCbRXSrL",
        "outputId": "f1229469-e3ad-4f4c-c455-bc2c19548632"
      },
      "execution_count": 46,
      "outputs": [
        {
          "output_type": "stream",
          "name": "stdout",
          "text": [
            "u1:\n",
            "    1.0000 \n",
            "    0.0000 \n",
            "    0.0000 \n",
            "   -1.0000 \n",
            "u2:\n",
            "    0.0000 \n",
            "    1.0000 \n",
            "    0.0000 \n",
            "    0.0000 \n",
            "u3:\n",
            "    0.5774 \n",
            "    0.0000 \n",
            "    0.5774 \n",
            "    0.5774 \n"
          ]
        }
      ]
    },
    {
      "cell_type": "markdown",
      "source": [
        "## Questão 3\n",
        "\n",
        "Dois vetores $u_1$ e $u_2$ são ortogonais se $\\langle u_1, u_2 \\rangle = 0$."
      ],
      "metadata": {
        "id": "l-mikRo4c1cV"
      }
    },
    {
      "cell_type": "code",
      "source": [
        "n = length(vectors_result)\n",
        "\n",
        "for i in 1:n\n",
        "  for j in i+1:n\n",
        "    product = dot(vectors_result[i], vectors_result[j])\n",
        "    println(\"<u\", i, \", u\", j, \"> = \", product)\n",
        "  end\n",
        "end"
      ],
      "metadata": {
        "id": "QLDGAxiGc3Vx",
        "outputId": "5a38b02f-7b30-45e8-bf87-753ed8a784b9",
        "colab": {
          "base_uri": "https://localhost:8080/"
        }
      },
      "execution_count": 47,
      "outputs": [
        {
          "output_type": "stream",
          "name": "stdout",
          "text": [
            "<u1, u2> = 0.0\n",
            "<u1, u3> = 0.0\n",
            "<u2, u3> = 0.0\n"
          ]
        }
      ]
    }
  ],
  "metadata": {
    "kernelspec": {
      "display_name": "Julia",
      "name": "julia"
    },
    "language_info": {
      "name": "julia"
    },
    "colab": {
      "provenance": [],
      "include_colab_link": true
    }
  },
  "nbformat": 4,
  "nbformat_minor": 0
}