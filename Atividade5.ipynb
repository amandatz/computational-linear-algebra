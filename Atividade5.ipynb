{
  "cells": [
    {
      "cell_type": "markdown",
      "metadata": {
        "id": "view-in-github",
        "colab_type": "text"
      },
      "source": [
        "<a href=\"https://colab.research.google.com/github/amandatz/computational-linear-algebra/blob/main/Atividade5.ipynb\" target=\"_parent\"><img src=\"https://colab.research.google.com/assets/colab-badge.svg\" alt=\"Open In Colab\"/></a>"
      ]
    },
    {
      "cell_type": "markdown",
      "metadata": {
        "id": "blYaG25Sn3Rh"
      },
      "source": [
        "# Atividade 5"
      ]
    },
    {
      "cell_type": "markdown",
      "source": [
        "Amanda Topanotti Zanette (22100776)"
      ],
      "metadata": {
        "id": "PkwBFJBBn_WN"
      }
    },
    {
      "cell_type": "markdown",
      "source": [
        "**Importações e funções auxiliares**"
      ],
      "metadata": {
        "id": "ZVHrqEtXoAwP"
      }
    },
    {
      "cell_type": "code",
      "source": [
        "using LinearAlgebra\n",
        "using Plots, Printf\n",
        "\n",
        "function print_matrix(M, decimals::Int=4)\n",
        "  for i in 1:size(M, 1)\n",
        "    for j in 1:size(M, 2)\n",
        "      @printf(\"%*.*f \", 10, decimals, M[i, j])\n",
        "    end\n",
        "    println()\n",
        "  end\n",
        "end"
      ],
      "metadata": {
        "colab": {
          "base_uri": "https://localhost:8080/"
        },
        "id": "kSDpt86JoC9C",
        "outputId": "050ff16a-b9e5-4191-94d3-4e056a1fa855"
      },
      "execution_count": 1,
      "outputs": [
        {
          "output_type": "execute_result",
          "data": {
            "text/plain": [
              "print_matrix (generic function with 2 methods)"
            ]
          },
          "metadata": {},
          "execution_count": 1
        }
      ]
    },
    {
      "cell_type": "markdown",
      "source": [
        "Esse trecho de código é usado apenas para garantir a repetibilidade dos números aleatórios gerados."
      ],
      "metadata": {
        "id": "bFte9ic0pshR"
      }
    },
    {
      "cell_type": "code",
      "source": [
        "using Random\n",
        "Random.seed!(123)"
      ],
      "metadata": {
        "id": "KDc8trPepowI",
        "outputId": "b0b504c7-23ba-4b4e-fd06-d05631eb9302",
        "colab": {
          "base_uri": "https://localhost:8080/"
        }
      },
      "execution_count": 2,
      "outputs": [
        {
          "output_type": "execute_result",
          "data": {
            "text/plain": [
              "TaskLocalRNG()"
            ]
          },
          "metadata": {},
          "execution_count": 2
        }
      ]
    },
    {
      "cell_type": "markdown",
      "source": [
        "### Questão 1"
      ],
      "metadata": {
        "id": "jJR0etyLoUFs"
      }
    },
    {
      "cell_type": "markdown",
      "source": [
        "Primeiro iremos gerar os 100 pontos aleatórios $x_i$ e construir $X$."
      ],
      "metadata": {
        "id": "R5Hx3LXjgKVA"
      }
    },
    {
      "cell_type": "code",
      "source": [
        "n = 100\n",
        "X = rand(2, n)"
      ],
      "metadata": {
        "id": "B1LGfq5_dfRZ",
        "outputId": "0e36ac2c-fa8f-4f35-b920-644e50c6af2d",
        "colab": {
          "base_uri": "https://localhost:8080/"
        }
      },
      "execution_count": 3,
      "outputs": [
        {
          "output_type": "execute_result",
          "data": {
            "text/plain": [
              "2×100 Matrix{Float64}:\n",
              " 0.9063    0.745673  0.253849  0.427328  …  0.31068   0.93875   0.0904866\n",
              " 0.443494  0.512083  0.334152  0.867547     0.786312  0.918775  0.688171"
            ]
          },
          "metadata": {},
          "execution_count": 3
        }
      ]
    },
    {
      "cell_type": "markdown",
      "source": [
        "Sabemos que\n",
        "$$\n",
        "\\|x_i - x_j\\|^2 = \\|x_i\\|^2 + \\|x_j\\|^2 - 2 x_i^\\top x_j.\n",
        "$$\n",
        "Logo, pode-se construir a matriz $D$ da seguinte forma:"
      ],
      "metadata": {
        "id": "4Ngm1ylKkzpp"
      }
    },
    {
      "cell_type": "code",
      "source": [
        "XT = transpose(X)\n",
        "norms_squared = sum(XT.^2, dims=2)\n",
        "D = norms_squared .+ norms_squared' .- 2 .* (XT * X)"
      ],
      "metadata": {
        "id": "eSzh9lCFjJ4I",
        "outputId": "e95a5250-fe1b-419a-b3ba-989598701769",
        "colab": {
          "base_uri": "https://localhost:8080/"
        }
      },
      "execution_count": 8,
      "outputs": [
        {
          "output_type": "execute_result",
          "data": {
            "text/plain": [
              "100×100 Matrix{Float64}:\n",
              " 0.0         0.0305053   0.437647     …   0.472287     0.226945    0.725418\n",
              " 0.0305053   0.0         0.273551         0.26442      0.202677    0.460277\n",
              " 0.437647    0.273551   -5.55112e-17      0.207679     0.810874    0.152017\n",
              " 0.409235    0.227699    0.314606         0.0202057    0.264177    0.145638\n",
              " 0.752772    0.567625    0.0675611        0.481706     1.33458     0.316912\n",
              " 0.140048    0.143882    0.231205     …   0.567753     0.672656    0.666353\n",
              " 0.77287     0.535286    0.0494429        0.267501     1.14491     0.1174\n",
              " 0.266772    0.234221    0.848607         0.41394      0.00172399  0.778925\n",
              " 0.0850472   0.108738    0.293332         0.578067     0.567661    0.721953\n",
              " 0.457266    0.332279    0.0357187        0.404883     1.00259     0.332118\n",
              " 0.00801747  0.0465803   0.40963      …   0.525866     0.320036    0.755981\n",
              " 0.847497    0.560927    0.383323         0.0559683    0.651672    0.0656967\n",
              " 0.760282    0.54512     0.0465427        0.356619     1.2304      0.196939\n",
              " ⋮                                    ⋱                            \n",
              " 0.591799    0.386068    0.0143038        0.200768     0.936533    0.10253\n",
              " 0.13192     0.17497     0.351679         0.712041     0.6953      0.849198\n",
              " 0.036607    0.0374862   0.502137     …   0.365231     0.0826544   0.65117\n",
              " 0.105682    0.060804    0.129397         0.323009     0.483688    0.419437\n",
              " 0.315275    0.192277    0.0138958        0.244704     0.718873    0.230188\n",
              " 0.11848     0.0781284   0.131686         0.359184     0.532005    0.447503\n",
              " 0.504343    0.355105    0.019414         0.354023     1.01028     0.265413\n",
              " 0.0780311   0.0826932   0.625456     …   0.405509     0.0394312   0.729588\n",
              " 0.808504    0.535527    0.112786         0.132788     0.971493    0.0191064\n",
              " 0.472287    0.26442     0.207679        -2.22045e-16  0.412018    0.0581171\n",
              " 0.226945    0.202677    0.810874         0.412018     0.0         0.77273\n",
              " 0.725418    0.460277    0.152017         0.0581171    0.77273     0.0"
            ]
          },
          "metadata": {},
          "execution_count": 8
        }
      ]
    },
    {
      "cell_type": "markdown",
      "source": [
        "### Questão 2"
      ],
      "metadata": {
        "id": "-FhpJuhcoV0p"
      }
    },
    {
      "cell_type": "markdown",
      "source": [
        "Primeiro iremos construir a matriz $J = I - \\frac{1}{n} e e^T$"
      ],
      "metadata": {
        "id": "lDSuh1aO39xr"
      }
    },
    {
      "cell_type": "code",
      "source": [
        "I_n = Matrix{Float64}(I, n, n)\n",
        "e = ones(n)\n",
        "eeT = e * e'\n",
        "J = I_n - (1/n) * eeT;"
      ],
      "metadata": {
        "id": "AceFxiIZ39DH"
      },
      "execution_count": 11,
      "outputs": []
    },
    {
      "cell_type": "markdown",
      "source": [
        "Agora, calculemos $G= -\\frac{1}{2}JDJ$"
      ],
      "metadata": {
        "id": "zFtx39O443aM"
      }
    },
    {
      "cell_type": "code",
      "source": [
        "G = -0.5 * J * D * J;"
      ],
      "metadata": {
        "id": "3AFsA0D_43Dw"
      },
      "execution_count": 18,
      "outputs": []
    },
    {
      "cell_type": "markdown",
      "source": [
        "A matriz $G$ contém erros de ponto flutuante. Portanto, estarei forçando que a matriz seja real e simétrica para eliminar pequenas partes imaginárias que prejudicam a decomposição espectral."
      ],
      "metadata": {
        "id": "5AYz_NlFBL6k"
      }
    },
    {
      "cell_type": "code",
      "source": [
        "G = real.(G)\n",
        "G = (G + G') / 2;"
      ],
      "metadata": {
        "id": "4EYgRcfyBGZr"
      },
      "execution_count": 22,
      "outputs": []
    },
    {
      "cell_type": "markdown",
      "source": [
        "Para obter $Y=\\sqrt\\Lambda_rQ_r^T$, precisamos encontrar a decomposição espectral $G=Q \\Lambda Q^T$."
      ],
      "metadata": {
        "id": "vLm9Ph9e99Kz"
      }
    },
    {
      "cell_type": "code",
      "source": [
        "function decomposicao_espectral(G::AbstractMatrix; tol=1e-10)\n",
        "    # Decomposição espectral\n",
        "    eig = eigen(G)\n",
        "    lamb = eig.values\n",
        "    Q = eig.vectors\n",
        "\n",
        "    # Ordena autovalores em ordem decrescente\n",
        "    idxs = sortperm(lamb, rev=true)\n",
        "    lamb_sorted = lamb[idxs]\n",
        "    Q_sorted = Q[:, idxs]\n",
        "\n",
        "    # Seleciona autovalores positivos\n",
        "    inds_pos = findall(lamb_sorted .> tol)\n",
        "    Lambda_r = Diagonal(lamb_sorted[inds_pos])\n",
        "    Q_r = Q_sorted[:, inds_pos]\n",
        "\n",
        "    return Q_r, Lambda_r\n",
        "end"
      ],
      "metadata": {
        "colab": {
          "base_uri": "https://localhost:8080/"
        },
        "id": "wSKao0Wo_DxD",
        "outputId": "526a0246-3612-4ed5-84ce-e1e6ce011ed8"
      },
      "execution_count": 28,
      "outputs": [
        {
          "output_type": "execute_result",
          "data": {
            "text/plain": [
              "decomposicao_espectral (generic function with 1 method)"
            ]
          },
          "metadata": {},
          "execution_count": 28
        }
      ]
    },
    {
      "cell_type": "code",
      "source": [
        "Q_r, Lambda_r = decomposicao_espectral(G)\n",
        "Y = sqrt.(Lambda_r) * Q_r'"
      ],
      "metadata": {
        "colab": {
          "base_uri": "https://localhost:8080/"
        },
        "id": "FXgUj-X4_RDE",
        "outputId": "37a41879-e3d1-404c-ef57-a7fdc59df48f"
      },
      "execution_count": 32,
      "outputs": [
        {
          "output_type": "execute_result",
          "data": {
            "text/plain": [
              "2×100 Matrix{Float64}:\n",
              " -0.37341   -0.23282   0.286717  …   0.1276    -0.514105   0.364444\n",
              "  0.146956   0.043323  0.103594     -0.323444  -0.308182  -0.278473"
            ]
          },
          "metadata": {},
          "execution_count": 32
        }
      ]
    },
    {
      "cell_type": "markdown",
      "source": [
        "### Questão 3"
      ],
      "metadata": {
        "id": "gtU-A-fGoXzH"
      }
    },
    {
      "cell_type": "code",
      "source": [
        "Xc = X*J\n",
        "Yc = Y*J"
      ],
      "metadata": {
        "id": "ZKy3j1HMFKWh",
        "outputId": "8614d655-e1d0-43df-a82f-1cc920d32142",
        "colab": {
          "base_uri": "https://localhost:8080/"
        }
      },
      "execution_count": 37,
      "outputs": [
        {
          "output_type": "execute_result",
          "data": {
            "text/plain": [
              "2×100 Matrix{Float64}:\n",
              " -0.37341   -0.23282   0.286717  …   0.1276    -0.514105   0.364444\n",
              "  0.146956   0.043323  0.103594     -0.323444  -0.308182  -0.278473"
            ]
          },
          "metadata": {},
          "execution_count": 37
        }
      ]
    },
    {
      "cell_type": "markdown",
      "source": [
        "Veja que esse é um problema de Procrustes Ortogonal cuja solução é dada ao calcular a SVD de $Y_c X_c^T = W \\Sigma V^T$ e a matriz ótima $U=WV^T$."
      ],
      "metadata": {
        "id": "wvPcTOZ2HmBD"
      }
    },
    {
      "cell_type": "code",
      "source": [
        "F = svd(Yc * Xc')\n",
        "U = F.U * F.Vt\n",
        "residual = norm(U * Yc - Xc, 2)"
      ],
      "metadata": {
        "id": "jM9qBQFKGJzz",
        "outputId": "a20e645f-5b26-4e0a-cdbd-feb33ad103e8",
        "colab": {
          "base_uri": "https://localhost:8080/"
        }
      },
      "execution_count": 40,
      "outputs": [
        {
          "output_type": "execute_result",
          "data": {
            "text/plain": [
              "1.8447334060791967"
            ]
          },
          "metadata": {},
          "execution_count": 40
        }
      ]
    },
    {
      "cell_type": "markdown",
      "source": [
        "Observe que, de fato, o a matriz $U$ é ortogonal com excessão de algum resíduo."
      ],
      "metadata": {
        "id": "f_kOoCE6H8Ua"
      }
    },
    {
      "cell_type": "code",
      "source": [
        "U*U'"
      ],
      "metadata": {
        "id": "3vHJz4LMH4UP",
        "outputId": "1cc2b5e0-ccb6-46c1-ff47-087c24e07dd6",
        "colab": {
          "base_uri": "https://localhost:8080/"
        }
      },
      "execution_count": 43,
      "outputs": [
        {
          "output_type": "execute_result",
          "data": {
            "text/plain": [
              "2×2 Matrix{Float64}:\n",
              " 1.0          2.77556e-17\n",
              " 2.77556e-17  1.0"
            ]
          },
          "metadata": {},
          "execution_count": 43
        }
      ]
    },
    {
      "cell_type": "markdown",
      "source": [
        "### Questão 4"
      ],
      "metadata": {
        "id": "HOk4ZOnpoYcl"
      }
    }
  ],
  "metadata": {
    "language_info": {
      "name": "julia"
    },
    "colab": {
      "provenance": [],
      "include_colab_link": true
    },
    "kernelspec": {
      "name": "julia",
      "display_name": "Julia"
    }
  },
  "nbformat": 4,
  "nbformat_minor": 0
}