{
  "cells": [
    {
      "cell_type": "markdown",
      "metadata": {
        "id": "view-in-github",
        "colab_type": "text"
      },
      "source": [
        "<a href=\"https://colab.research.google.com/github/amandatz/computational-linear-algebra/blob/main/Atividade5.ipynb\" target=\"_parent\"><img src=\"https://colab.research.google.com/assets/colab-badge.svg\" alt=\"Open In Colab\"/></a>"
      ]
    },
    {
      "cell_type": "markdown",
      "metadata": {
        "id": "blYaG25Sn3Rh"
      },
      "source": [
        "# Atividade 5"
      ]
    },
    {
      "cell_type": "markdown",
      "source": [
        "Amanda Topanotti Zanette (22100776)"
      ],
      "metadata": {
        "id": "PkwBFJBBn_WN"
      }
    },
    {
      "cell_type": "markdown",
      "source": [
        "**Importações e funções auxiliares**"
      ],
      "metadata": {
        "id": "ZVHrqEtXoAwP"
      }
    },
    {
      "cell_type": "code",
      "source": [
        "using LinearAlgebra\n",
        "using Plots, Printf\n",
        "\n",
        "function print_matrix(M, decimals::Int=4)\n",
        "  for i in 1:size(M, 1)\n",
        "    for j in 1:size(M, 2)\n",
        "      @printf(\"%*.*f \", 10, decimals, M[i, j])\n",
        "    end\n",
        "    println()\n",
        "  end\n",
        "end"
      ],
      "metadata": {
        "colab": {
          "base_uri": "https://localhost:8080/"
        },
        "id": "kSDpt86JoC9C",
        "outputId": "050ff16a-b9e5-4191-94d3-4e056a1fa855"
      },
      "execution_count": 1,
      "outputs": [
        {
          "output_type": "execute_result",
          "data": {
            "text/plain": [
              "print_matrix (generic function with 2 methods)"
            ]
          },
          "metadata": {},
          "execution_count": 1
        }
      ]
    },
    {
      "cell_type": "markdown",
      "source": [
        "Esse trecho de código é usado apenas para garantir a repetibilidade dos números aleatórios gerados."
      ],
      "metadata": {
        "id": "bFte9ic0pshR"
      }
    },
    {
      "cell_type": "code",
      "source": [
        "using Random\n",
        "Random.seed!(123)"
      ],
      "metadata": {
        "id": "KDc8trPepowI",
        "outputId": "b0b504c7-23ba-4b4e-fd06-d05631eb9302",
        "colab": {
          "base_uri": "https://localhost:8080/"
        }
      },
      "execution_count": 2,
      "outputs": [
        {
          "output_type": "execute_result",
          "data": {
            "text/plain": [
              "TaskLocalRNG()"
            ]
          },
          "metadata": {},
          "execution_count": 2
        }
      ]
    },
    {
      "cell_type": "markdown",
      "source": [
        "### Questão 1"
      ],
      "metadata": {
        "id": "jJR0etyLoUFs"
      }
    },
    {
      "cell_type": "markdown",
      "source": [
        "Primeiro iremos gerar os 100 pontos aleatórios $x_i$ e construir $X$."
      ],
      "metadata": {
        "id": "R5Hx3LXjgKVA"
      }
    },
    {
      "cell_type": "code",
      "source": [
        "n = 100\n",
        "X = rand(2, n)"
      ],
      "metadata": {
        "id": "B1LGfq5_dfRZ",
        "outputId": "0e36ac2c-fa8f-4f35-b920-644e50c6af2d",
        "colab": {
          "base_uri": "https://localhost:8080/"
        }
      },
      "execution_count": 3,
      "outputs": [
        {
          "output_type": "execute_result",
          "data": {
            "text/plain": [
              "2×100 Matrix{Float64}:\n",
              " 0.9063    0.745673  0.253849  0.427328  …  0.31068   0.93875   0.0904866\n",
              " 0.443494  0.512083  0.334152  0.867547     0.786312  0.918775  0.688171"
            ]
          },
          "metadata": {},
          "execution_count": 3
        }
      ]
    },
    {
      "cell_type": "markdown",
      "source": [
        "Sabemos que\n",
        "$$\n",
        "\\|x_i - x_j\\|^2 = \\|x_i\\|^2 + \\|x_j\\|^2 - 2 x_i^\\top x_j.\n",
        "$$\n",
        "Logo, pode-se construir a matriz $D$ da seguinte forma:"
      ],
      "metadata": {
        "id": "4Ngm1ylKkzpp"
      }
    },
    {
      "cell_type": "code",
      "source": [
        "XT = transpose(X)\n",
        "norms_squared = sum(XT.^2, dims=2)\n",
        "D = norms_squared .+ norms_squared' .- 2 .* (XT * X)"
      ],
      "metadata": {
        "id": "eSzh9lCFjJ4I",
        "outputId": "e95a5250-fe1b-419a-b3ba-989598701769",
        "colab": {
          "base_uri": "https://localhost:8080/"
        }
      },
      "execution_count": 8,
      "outputs": [
        {
          "output_type": "execute_result",
          "data": {
            "text/plain": [
              "100×100 Matrix{Float64}:\n",
              " 0.0         0.0305053   0.437647     …   0.472287     0.226945    0.725418\n",
              " 0.0305053   0.0         0.273551         0.26442      0.202677    0.460277\n",
              " 0.437647    0.273551   -5.55112e-17      0.207679     0.810874    0.152017\n",
              " 0.409235    0.227699    0.314606         0.0202057    0.264177    0.145638\n",
              " 0.752772    0.567625    0.0675611        0.481706     1.33458     0.316912\n",
              " 0.140048    0.143882    0.231205     …   0.567753     0.672656    0.666353\n",
              " 0.77287     0.535286    0.0494429        0.267501     1.14491     0.1174\n",
              " 0.266772    0.234221    0.848607         0.41394      0.00172399  0.778925\n",
              " 0.0850472   0.108738    0.293332         0.578067     0.567661    0.721953\n",
              " 0.457266    0.332279    0.0357187        0.404883     1.00259     0.332118\n",
              " 0.00801747  0.0465803   0.40963      …   0.525866     0.320036    0.755981\n",
              " 0.847497    0.560927    0.383323         0.0559683    0.651672    0.0656967\n",
              " 0.760282    0.54512     0.0465427        0.356619     1.2304      0.196939\n",
              " ⋮                                    ⋱                            \n",
              " 0.591799    0.386068    0.0143038        0.200768     0.936533    0.10253\n",
              " 0.13192     0.17497     0.351679         0.712041     0.6953      0.849198\n",
              " 0.036607    0.0374862   0.502137     …   0.365231     0.0826544   0.65117\n",
              " 0.105682    0.060804    0.129397         0.323009     0.483688    0.419437\n",
              " 0.315275    0.192277    0.0138958        0.244704     0.718873    0.230188\n",
              " 0.11848     0.0781284   0.131686         0.359184     0.532005    0.447503\n",
              " 0.504343    0.355105    0.019414         0.354023     1.01028     0.265413\n",
              " 0.0780311   0.0826932   0.625456     …   0.405509     0.0394312   0.729588\n",
              " 0.808504    0.535527    0.112786         0.132788     0.971493    0.0191064\n",
              " 0.472287    0.26442     0.207679        -2.22045e-16  0.412018    0.0581171\n",
              " 0.226945    0.202677    0.810874         0.412018     0.0         0.77273\n",
              " 0.725418    0.460277    0.152017         0.0581171    0.77273     0.0"
            ]
          },
          "metadata": {},
          "execution_count": 8
        }
      ]
    },
    {
      "cell_type": "markdown",
      "source": [
        "### Questão 2"
      ],
      "metadata": {
        "id": "-FhpJuhcoV0p"
      }
    },
    {
      "cell_type": "markdown",
      "source": [
        "Primeiro iremos construir a matriz $J = I - \\frac{1}{n} e e^T$"
      ],
      "metadata": {
        "id": "lDSuh1aO39xr"
      }
    },
    {
      "cell_type": "code",
      "source": [
        "I_n = Matrix{Float64}(I, n, n)\n",
        "e = ones(n)\n",
        "eeT = e * e'\n",
        "J = I_n - (1/n) * eeT"
      ],
      "metadata": {
        "id": "AceFxiIZ39DH",
        "outputId": "5841c1d7-1b84-41ee-f9d6-f826b85e5089",
        "colab": {
          "base_uri": "https://localhost:8080/"
        }
      },
      "execution_count": 7,
      "outputs": [
        {
          "output_type": "execute_result",
          "data": {
            "text/plain": [
              "100×100 Matrix{Float64}:\n",
              "  0.99  -0.01  -0.01  -0.01  -0.01  …  -0.01  -0.01  -0.01  -0.01  -0.01\n",
              " -0.01   0.99  -0.01  -0.01  -0.01     -0.01  -0.01  -0.01  -0.01  -0.01\n",
              " -0.01  -0.01   0.99  -0.01  -0.01     -0.01  -0.01  -0.01  -0.01  -0.01\n",
              " -0.01  -0.01  -0.01   0.99  -0.01     -0.01  -0.01  -0.01  -0.01  -0.01\n",
              " -0.01  -0.01  -0.01  -0.01   0.99     -0.01  -0.01  -0.01  -0.01  -0.01\n",
              " -0.01  -0.01  -0.01  -0.01  -0.01  …  -0.01  -0.01  -0.01  -0.01  -0.01\n",
              " -0.01  -0.01  -0.01  -0.01  -0.01     -0.01  -0.01  -0.01  -0.01  -0.01\n",
              " -0.01  -0.01  -0.01  -0.01  -0.01     -0.01  -0.01  -0.01  -0.01  -0.01\n",
              " -0.01  -0.01  -0.01  -0.01  -0.01     -0.01  -0.01  -0.01  -0.01  -0.01\n",
              " -0.01  -0.01  -0.01  -0.01  -0.01     -0.01  -0.01  -0.01  -0.01  -0.01\n",
              " -0.01  -0.01  -0.01  -0.01  -0.01  …  -0.01  -0.01  -0.01  -0.01  -0.01\n",
              " -0.01  -0.01  -0.01  -0.01  -0.01     -0.01  -0.01  -0.01  -0.01  -0.01\n",
              " -0.01  -0.01  -0.01  -0.01  -0.01     -0.01  -0.01  -0.01  -0.01  -0.01\n",
              "  ⋮                                 ⋱   ⋮                          \n",
              " -0.01  -0.01  -0.01  -0.01  -0.01     -0.01  -0.01  -0.01  -0.01  -0.01\n",
              " -0.01  -0.01  -0.01  -0.01  -0.01     -0.01  -0.01  -0.01  -0.01  -0.01\n",
              " -0.01  -0.01  -0.01  -0.01  -0.01  …  -0.01  -0.01  -0.01  -0.01  -0.01\n",
              " -0.01  -0.01  -0.01  -0.01  -0.01     -0.01  -0.01  -0.01  -0.01  -0.01\n",
              " -0.01  -0.01  -0.01  -0.01  -0.01     -0.01  -0.01  -0.01  -0.01  -0.01\n",
              " -0.01  -0.01  -0.01  -0.01  -0.01     -0.01  -0.01  -0.01  -0.01  -0.01\n",
              " -0.01  -0.01  -0.01  -0.01  -0.01     -0.01  -0.01  -0.01  -0.01  -0.01\n",
              " -0.01  -0.01  -0.01  -0.01  -0.01  …   0.99  -0.01  -0.01  -0.01  -0.01\n",
              " -0.01  -0.01  -0.01  -0.01  -0.01     -0.01   0.99  -0.01  -0.01  -0.01\n",
              " -0.01  -0.01  -0.01  -0.01  -0.01     -0.01  -0.01   0.99  -0.01  -0.01\n",
              " -0.01  -0.01  -0.01  -0.01  -0.01     -0.01  -0.01  -0.01   0.99  -0.01\n",
              " -0.01  -0.01  -0.01  -0.01  -0.01     -0.01  -0.01  -0.01  -0.01   0.99"
            ]
          },
          "metadata": {},
          "execution_count": 7
        }
      ]
    },
    {
      "cell_type": "markdown",
      "source": [
        "Agora, calculemos $G= -\\frac{1}{2}JDJ$"
      ],
      "metadata": {
        "id": "zFtx39O443aM"
      }
    },
    {
      "cell_type": "code",
      "source": [
        "G = -1/2 * J * D * J"
      ],
      "metadata": {
        "id": "3AFsA0D_43Dw",
        "outputId": "36674b71-2b82-4f7d-dab0-0473be2715af",
        "colab": {
          "base_uri": "https://localhost:8080/"
        }
      },
      "execution_count": 10,
      "outputs": [
        {
          "output_type": "execute_result",
          "data": {
            "text/plain": [
              "100×100 Matrix{Float64}:\n",
              "  0.161031    0.0933039  -0.0918391   …  -0.095179     0.146683   -0.17701\n",
              "  0.0933039   0.056082   -0.0622653      -0.0437204    0.106342   -0.0969141\n",
              " -0.0918391  -0.0622653   0.0929381       0.00307828  -0.179328    0.0756439\n",
              " -0.0535051  -0.0152112  -0.0402368       0.120943     0.118148    0.102961\n",
              " -0.141319   -0.101219    0.16724        -0.0258523   -0.333098    0.101279\n",
              "  0.0935896   0.0391981   0.0139649   …  -0.140329    -0.0735899  -0.144895\n",
              " -0.180853   -0.114535    0.146814        0.0517648   -0.267746    0.17155\n",
              "  0.141009    0.10481    -0.183955        0.0473587    0.372658   -0.0903994\n",
              "  0.123418    0.0590976  -0.014771       -0.143159    -0.0187648  -0.170367\n",
              " -0.0641474  -0.0541286   0.11258        -0.0580226   -0.237686    0.0230942\n",
              "  0.161041    0.089285   -0.0738117   …  -0.11795      0.104156   -0.188273\n",
              " -0.175099   -0.0842878   0.022942        0.200599     0.0219387   0.240469\n",
              " -0.164911   -0.109804    0.157912        0.0168539   -0.300848    0.141428\n",
              "  ⋮                                   ⋱                           \n",
              " -0.139078   -0.0886863   0.115624        0.0363711   -0.21232     0.130225\n",
              "  0.137632    0.0636324  -0.00629414     -0.172495    -0.0449334  -0.19634\n",
              "  0.145855    0.0929407  -0.120957    …  -0.0385239    0.221956   -0.136759\n",
              "  0.0522406   0.0222053   0.00633701     -0.0764895   -0.0376379  -0.0799689\n",
              " -0.045466   -0.0364419   0.0711769      -0.0302472   -0.148141    0.021745\n",
              "  0.0536553   0.0213566   0.013006       -0.0867633   -0.0539828  -0.0861887\n",
              " -0.0890464  -0.0669021   0.119372       -0.0339533   -0.242891    0.0550865\n",
              "  0.16016     0.105355   -0.147599    …  -0.0236453    0.278585   -0.140951\n",
              " -0.199793   -0.11578     0.114019        0.117998    -0.182163    0.219573\n",
              " -0.095179   -0.0437204   0.00307828      0.120898     0.0340796   0.136573\n",
              "  0.146683    0.106342   -0.179328        0.0340796    0.35928    -0.101542\n",
              " -0.17701    -0.0969141   0.0756439       0.136573    -0.101542    0.210366"
            ]
          },
          "metadata": {},
          "execution_count": 10
        }
      ]
    },
    {
      "cell_type": "markdown",
      "source": [
        "### Questão 3"
      ],
      "metadata": {
        "id": "gtU-A-fGoXzH"
      }
    },
    {
      "cell_type": "markdown",
      "source": [
        "### Questão 4"
      ],
      "metadata": {
        "id": "HOk4ZOnpoYcl"
      }
    }
  ],
  "metadata": {
    "language_info": {
      "name": "julia"
    },
    "colab": {
      "provenance": [],
      "include_colab_link": true
    },
    "kernelspec": {
      "name": "julia",
      "display_name": "Julia"
    }
  },
  "nbformat": 4,
  "nbformat_minor": 0
}