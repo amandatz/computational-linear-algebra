{
  "cells": [
    {
      "cell_type": "markdown",
      "metadata": {
        "id": "view-in-github",
        "colab_type": "text"
      },
      "source": [
        "<a href=\"https://colab.research.google.com/github/amandatz/computational-linear-algebra/blob/main/Atividade5.ipynb\" target=\"_parent\"><img src=\"https://colab.research.google.com/assets/colab-badge.svg\" alt=\"Open In Colab\"/></a>"
      ]
    },
    {
      "cell_type": "markdown",
      "metadata": {
        "id": "blYaG25Sn3Rh"
      },
      "source": [
        "# Atividade 5"
      ]
    },
    {
      "cell_type": "markdown",
      "source": [
        "Amanda Topanotti Zanette (22100776)"
      ],
      "metadata": {
        "id": "PkwBFJBBn_WN"
      }
    },
    {
      "cell_type": "markdown",
      "source": [
        "**Importações e funções auxiliares**"
      ],
      "metadata": {
        "id": "ZVHrqEtXoAwP"
      }
    },
    {
      "cell_type": "code",
      "source": [
        "using LinearAlgebra\n",
        "using Plots, Printf\n",
        "\n",
        "function print_matrix(M, decimals::Int=4)\n",
        "  for i in 1:size(M, 1)\n",
        "    for j in 1:size(M, 2)\n",
        "      @printf(\"%*.*f \", 10, decimals, M[i, j])\n",
        "    end\n",
        "    println()\n",
        "  end\n",
        "end"
      ],
      "metadata": {
        "colab": {
          "base_uri": "https://localhost:8080/"
        },
        "id": "kSDpt86JoC9C",
        "outputId": "e838faf9-49c4-43ee-9bde-674308c4382c"
      },
      "execution_count": null,
      "outputs": [
        {
          "output_type": "execute_result",
          "data": {
            "text/plain": [
              "print_matrix (generic function with 2 methods)"
            ]
          },
          "metadata": {},
          "execution_count": 1
        }
      ]
    },
    {
      "cell_type": "markdown",
      "source": [
        "Esse trecho de código é usado apenas para garantir a repetibilidade dos números aleatórios gerados."
      ],
      "metadata": {
        "id": "bFte9ic0pshR"
      }
    },
    {
      "cell_type": "code",
      "source": [
        "using Random\n",
        "Random.seed!(123)"
      ],
      "metadata": {
        "id": "KDc8trPepowI",
        "outputId": "20c1e2ae-ac30-41a6-a298-140b1743dedf",
        "colab": {
          "base_uri": "https://localhost:8080/"
        }
      },
      "execution_count": null,
      "outputs": [
        {
          "output_type": "execute_result",
          "data": {
            "text/plain": [
              "TaskLocalRNG()"
            ]
          },
          "metadata": {},
          "execution_count": 2
        }
      ]
    },
    {
      "cell_type": "markdown",
      "source": [
        "### Questão 1"
      ],
      "metadata": {
        "id": "jJR0etyLoUFs"
      }
    },
    {
      "cell_type": "markdown",
      "source": [
        "### Questão 2"
      ],
      "metadata": {
        "id": "-FhpJuhcoV0p"
      }
    },
    {
      "cell_type": "markdown",
      "source": [
        "### Questão 3"
      ],
      "metadata": {
        "id": "gtU-A-fGoXzH"
      }
    },
    {
      "cell_type": "markdown",
      "source": [
        "### Questão 4"
      ],
      "metadata": {
        "id": "HOk4ZOnpoYcl"
      }
    }
  ],
  "metadata": {
    "language_info": {
      "name": "julia"
    },
    "colab": {
      "provenance": [],
      "include_colab_link": true
    },
    "kernelspec": {
      "name": "julia",
      "display_name": "Julia"
    }
  },
  "nbformat": 4,
  "nbformat_minor": 0
}