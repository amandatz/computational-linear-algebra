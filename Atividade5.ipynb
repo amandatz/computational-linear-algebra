{
  "cells": [
    {
      "cell_type": "markdown",
      "metadata": {
        "id": "view-in-github",
        "colab_type": "text"
      },
      "source": [
        "<a href=\"https://colab.research.google.com/github/amandatz/computational-linear-algebra/blob/main/Atividade5.ipynb\" target=\"_parent\"><img src=\"https://colab.research.google.com/assets/colab-badge.svg\" alt=\"Open In Colab\"/></a>"
      ]
    },
    {
      "cell_type": "markdown",
      "metadata": {
        "id": "blYaG25Sn3Rh"
      },
      "source": [
        "# Atividade 5"
      ]
    },
    {
      "cell_type": "markdown",
      "source": [
        "Amanda Topanotti Zanette (22100776)"
      ],
      "metadata": {
        "id": "PkwBFJBBn_WN"
      }
    },
    {
      "cell_type": "markdown",
      "source": [
        "**Importações e funções auxiliares**"
      ],
      "metadata": {
        "id": "ZVHrqEtXoAwP"
      }
    },
    {
      "cell_type": "code",
      "source": [
        "using LinearAlgebra\n",
        "using Plots, Printf\n",
        "\n",
        "function print_matrix(M, decimals::Int=4)\n",
        "  for i in 1:size(M, 1)\n",
        "    for j in 1:size(M, 2)\n",
        "      @printf(\"%*.*f \", 10, decimals, M[i, j])\n",
        "    end\n",
        "    println()\n",
        "  end\n",
        "end"
      ],
      "metadata": {
        "colab": {
          "base_uri": "https://localhost:8080/"
        },
        "id": "kSDpt86JoC9C",
        "outputId": "9fecedd8-4b24-4b6b-d14d-c0522854e91d"
      },
      "execution_count": 1,
      "outputs": [
        {
          "output_type": "execute_result",
          "data": {
            "text/plain": [
              "print_matrix (generic function with 2 methods)"
            ]
          },
          "metadata": {},
          "execution_count": 1
        }
      ]
    },
    {
      "cell_type": "markdown",
      "source": [
        "Esse trecho de código é usado apenas para garantir a repetibilidade dos números aleatórios gerados."
      ],
      "metadata": {
        "id": "bFte9ic0pshR"
      }
    },
    {
      "cell_type": "code",
      "source": [
        "using Random\n",
        "Random.seed!(123)"
      ],
      "metadata": {
        "id": "KDc8trPepowI",
        "outputId": "20c1e2ae-ac30-41a6-a298-140b1743dedf",
        "colab": {
          "base_uri": "https://localhost:8080/"
        }
      },
      "execution_count": null,
      "outputs": [
        {
          "output_type": "execute_result",
          "data": {
            "text/plain": [
              "TaskLocalRNG()"
            ]
          },
          "metadata": {},
          "execution_count": 2
        }
      ]
    },
    {
      "cell_type": "markdown",
      "source": [
        "### Questão 1"
      ],
      "metadata": {
        "id": "jJR0etyLoUFs"
      }
    },
    {
      "cell_type": "markdown",
      "source": [
        "Primeiro iremos gerar os 100 pontos aleatórios $x_i$ e construir $X$."
      ],
      "metadata": {
        "id": "R5Hx3LXjgKVA"
      }
    },
    {
      "cell_type": "code",
      "source": [
        "n = 100\n",
        "X = rand(2, n)"
      ],
      "metadata": {
        "id": "B1LGfq5_dfRZ",
        "outputId": "f6f64a63-41f7-4522-a66a-a8f0130ed1c8",
        "colab": {
          "base_uri": "https://localhost:8080/"
        }
      },
      "execution_count": 2,
      "outputs": [
        {
          "output_type": "execute_result",
          "data": {
            "text/plain": [
              "2×100 Matrix{Float64}:\n",
              " 0.303934  0.434515  0.147928  0.630688  …  0.880991  0.996845  0.529361\n",
              " 0.507062  0.989803  0.887454  0.764198     0.891542  0.140355  0.847452"
            ]
          },
          "metadata": {},
          "execution_count": 2
        }
      ]
    },
    {
      "cell_type": "markdown",
      "source": [
        "Sabemos que\n",
        "$$\n",
        "\\|x_i - x_j\\|^2 = \\|x_i\\|^2 + \\|x_j\\|^2 - 2 x_i^\\top x_j.\n",
        "$$\n",
        "Assim,"
      ],
      "metadata": {
        "id": "4Ngm1ylKkzpp"
      }
    },
    {
      "cell_type": "code",
      "source": [
        "XT = transpose(X)\n",
        "norms_squared = sum(XT.^2, dims=2)\n",
        "D_squared = norms_squared .+ norms_squared' .- 2 .* (XT * X)"
      ],
      "metadata": {
        "id": "eSzh9lCFjJ4I",
        "outputId": "34918d05-8f5e-4e55-84f5-158df08912f9",
        "colab": {
          "base_uri": "https://localhost:8080/"
        }
      },
      "execution_count": 5,
      "outputs": [
        {
          "output_type": "execute_result",
          "data": {
            "text/plain": [
              "100×100 Matrix{Float64}:\n",
              " 0.0        0.250091   0.169036    …   0.48082      0.614599   0.166683\n",
              " 0.250091   0.0        0.0926076       0.208996     1.03778    0.0292597\n",
              " 0.169036   0.0926076  0.0             0.537398     1.27882    0.147091\n",
              " 0.172887   0.0893818  0.248249        0.078868     0.523251   0.0171985\n",
              " 0.176645   0.768224   0.691115        0.789944     0.298255   0.544794\n",
              " 0.136608   0.18413    0.0188691   …   0.688422     1.29411    0.225948\n",
              " 0.126519   0.658434   0.588034        0.703154     0.311628   0.455658\n",
              " 0.0262208  0.12122    0.0706957       0.387814     0.765827   0.0847568\n",
              " 0.249166   0.997583   0.728282        1.27779      0.737911   0.809769\n",
              " 0.272758   0.144017   0.374223        0.0298868    0.468568   0.0533682\n",
              " 0.196243   0.163253   0.0101434   …   0.692921     1.42995    0.231347\n",
              " 0.291511   0.41472    0.640035        0.16064      0.147464   0.224781\n",
              " 0.161261   0.699696   0.658259        0.687643     0.248576   0.479367\n",
              " ⋮                                 ⋱                           \n",
              " 0.141186   0.154395   0.00977827      0.641245     1.28385    0.199447\n",
              " 0.258679   0.0124456  0.159443        0.119784     0.874531   0.0121324\n",
              " 0.429115   0.192646   0.499806    …   0.00157136   0.541202   0.105893\n",
              " 0.135848   0.102388   0.00205251      0.535906     1.20876    0.143489\n",
              " 0.64874    1.20362    1.38941         0.766677     0.0177033  0.859613\n",
              " 0.0851555  0.257541   0.344061        0.228002     0.296494   0.11922\n",
              " 0.584584   1.13185    1.29975         0.732097     0.0190099  0.800135\n",
              " 0.142625   0.656832   0.619026    …   0.652461     0.25295    0.444423\n",
              " 0.218342   0.906137   0.754978        1.0063       0.431003   0.681968\n",
              " 0.48082    0.208996   0.537398       -4.44089e-16  0.577704   0.125587\n",
              " 0.614599   1.03778    1.27882         0.577704     0.0        0.718528\n",
              " 0.166683   0.0292597  0.147091        0.125587     0.718528   0.0"
            ]
          },
          "metadata": {},
          "execution_count": 5
        }
      ]
    },
    {
      "cell_type": "markdown",
      "source": [
        "### Questão 2"
      ],
      "metadata": {
        "id": "-FhpJuhcoV0p"
      }
    },
    {
      "cell_type": "markdown",
      "source": [
        "### Questão 3"
      ],
      "metadata": {
        "id": "gtU-A-fGoXzH"
      }
    },
    {
      "cell_type": "markdown",
      "source": [
        "### Questão 4"
      ],
      "metadata": {
        "id": "HOk4ZOnpoYcl"
      }
    }
  ],
  "metadata": {
    "language_info": {
      "name": "julia"
    },
    "colab": {
      "provenance": [],
      "include_colab_link": true
    },
    "kernelspec": {
      "name": "julia",
      "display_name": "Julia"
    }
  },
  "nbformat": 4,
  "nbformat_minor": 0
}