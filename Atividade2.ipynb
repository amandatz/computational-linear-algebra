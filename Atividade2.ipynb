{
  "nbformat": 4,
  "nbformat_minor": 0,
  "metadata": {
    "colab": {
      "provenance": [],
      "authorship_tag": "ABX9TyOQbtPtxDZviuDuSopVvujL",
      "include_colab_link": true
    },
    "kernelspec": {
      "name": "julia",
      "display_name": "Julia"
    },
    "language_info": {
      "name": "julia"
    }
  },
  "cells": [
    {
      "cell_type": "markdown",
      "metadata": {
        "id": "view-in-github",
        "colab_type": "text"
      },
      "source": [
        "<a href=\"https://colab.research.google.com/github/amandatz/computational-linear-algebra/blob/main/Atividade2.ipynb\" target=\"_parent\"><img src=\"https://colab.research.google.com/assets/colab-badge.svg\" alt=\"Open In Colab\"/></a>"
      ]
    },
    {
      "cell_type": "markdown",
      "source": [
        "# Atividade 2"
      ],
      "metadata": {
        "id": "Zmb3QMu5w2LT"
      }
    },
    {
      "cell_type": "markdown",
      "source": [
        "Amanda Topanotti Zanette (22100776)"
      ],
      "metadata": {
        "id": "89qEeqCvQARR"
      }
    },
    {
      "cell_type": "markdown",
      "source": [
        "**Importações e funções auxiliares**"
      ],
      "metadata": {
        "id": "9nQVK6hfQKr8"
      }
    },
    {
      "cell_type": "code",
      "source": [
        "using LinearAlgebra"
      ],
      "metadata": {
        "id": "i47hAtqfC51c"
      },
      "execution_count": 1,
      "outputs": []
    },
    {
      "cell_type": "code",
      "source": [
        "using Printf\n",
        "\n",
        "function print_matrix(M)\n",
        "  for i in 1:size(M, 1)\n",
        "    for j in 1:size(M, 2)\n",
        "      @printf(\"%10.4f \", M[i, j])\n",
        "    end\n",
        "    println()\n",
        "  end\n",
        "end\n"
      ],
      "metadata": {
        "id": "GReGDY8sw5v8",
        "outputId": "934ffb48-e36c-493c-efe7-7f8f760f1907",
        "colab": {
          "base_uri": "https://localhost:8080/"
        }
      },
      "execution_count": 2,
      "outputs": [
        {
          "output_type": "execute_result",
          "data": {
            "text/plain": [
              "print_matrix (generic function with 1 method)"
            ]
          },
          "metadata": {},
          "execution_count": 2
        }
      ]
    },
    {
      "cell_type": "markdown",
      "source": [
        "## Questão 1\n",
        "\n",
        "**Substituição regressiva**"
      ],
      "metadata": {
        "id": "09GDk6pLw6FH"
      }
    },
    {
      "cell_type": "code",
      "execution_count": 3,
      "metadata": {
        "id": "0wyJNit4vsbc",
        "outputId": "8d50f9c9-4e33-4365-c1d4-ee6ad0f64427",
        "colab": {
          "base_uri": "https://localhost:8080/"
        }
      },
      "outputs": [
        {
          "output_type": "execute_result",
          "data": {
            "text/plain": [
              "back_substitution (generic function with 1 method)"
            ]
          },
          "metadata": {},
          "execution_count": 3
        }
      ],
      "source": [
        "function back_substitution(U, b)\n",
        "  n = length(b)\n",
        "  x = zeros(n)\n",
        "\n",
        "  for i = n:-1:1\n",
        "    x[i] = b[i]\n",
        "    for j = i+1:n\n",
        "      x[i] = x[i] - U[i,j] * x[j]\n",
        "    end\n",
        "    x[i] = x[i] / U[i,i]\n",
        "  end\n",
        "\n",
        "  return x\n",
        "end"
      ]
    },
    {
      "cell_type": "markdown",
      "source": [
        "**Substituição direta**"
      ],
      "metadata": {
        "id": "NvVSm-I4NT93"
      }
    },
    {
      "cell_type": "code",
      "source": [
        "function forward_substitution(L, b)\n",
        "  n = length(b)\n",
        "  x= zeros(n)\n",
        "\n",
        "  for i=1:n\n",
        "    x[i] = b[i]\n",
        "    for j=1:i-1\n",
        "      x[i] = x[i] - L[i,j]*x[j]\n",
        "    end\n",
        "    x[i] = x[i]/L[i,i]\n",
        "  end\n",
        "\n",
        "  return x\n",
        "end"
      ],
      "metadata": {
        "id": "TJ5k5ehzxg9A",
        "outputId": "7cfda29f-6e7d-47b6-8cb7-b58abbc81d2f",
        "colab": {
          "base_uri": "https://localhost:8080/"
        }
      },
      "execution_count": 4,
      "outputs": [
        {
          "output_type": "execute_result",
          "data": {
            "text/plain": [
              "forward_substitution (generic function with 1 method)"
            ]
          },
          "metadata": {},
          "execution_count": 4
        }
      ]
    },
    {
      "cell_type": "code",
      "source": [
        "n = 4\n",
        "U = triu(rand(n, n))\n",
        "L = tril(rand(n, n))\n",
        "b = rand(n)\n",
        "\n",
        "x_back = back_substitution(U, b)\n",
        "x_forward = forward_substitution(L, b)\n",
        "\n",
        "println(\"U = \")\n",
        "print_matrix(U)\n",
        "println(\"Solução (back-substitution):\")\n",
        "print_matrix(x_back)\n",
        "\n",
        "println(\"\\nL = \")\n",
        "print_matrix(L)\n",
        "println(\"Solução (forward-substitution):\")\n",
        "print_matrix(x_forward)\n"
      ],
      "metadata": {
        "id": "2CHjubSkxrfH",
        "outputId": "4bc5e87a-af76-4dab-ca09-5464106e4281",
        "colab": {
          "base_uri": "https://localhost:8080/"
        }
      },
      "execution_count": 5,
      "outputs": [
        {
          "output_type": "stream",
          "name": "stdout",
          "text": [
            "U = \n",
            "    0.2946     0.0319     0.0875     0.3126 \n",
            "    0.0000     0.1845     0.9318     0.4884 \n",
            "    0.0000     0.0000     0.8128     0.0300 \n",
            "    0.0000     0.0000     0.0000     0.3367 \n",
            "Solução (back-substitution):\n",
            "    2.7104 \n",
            "   -6.8197 \n",
            "    1.1917 \n",
            "    0.3961 \n",
            "\n",
            "L = \n",
            "    0.7364     0.0000     0.0000     0.0000 \n",
            "    0.6320     0.1888     0.0000     0.0000 \n",
            "    0.6927     0.6363     0.4645     0.0000 \n",
            "    0.4712     0.5287     0.7022     0.6613 \n",
            "Solução (forward-substitution):\n",
            "    1.0985 \n",
            "   -3.4339 \n",
            "    5.1770 \n",
            "   -3.3322 \n"
          ]
        }
      ]
    },
    {
      "cell_type": "markdown",
      "source": [
        "## Questão 2\n",
        "\n",
        "**Fatoração LU (sem pivoteamento)**"
      ],
      "metadata": {
        "id": "HvF1tODXw7On"
      }
    },
    {
      "cell_type": "code",
      "source": [
        "function flu(A)\n",
        "  n = size(A, 1)\n",
        "  L = Matrix{Float64}(I, n, n)\n",
        "  U = copy(A)\n",
        "\n",
        "  for k in 1:n-1\n",
        "    for i in k+1:n\n",
        "      L[i, k] = U[i, k] / U[k, k]\n",
        "      U[i, k:n] -= L[i, k] * U[k, k:n]\n",
        "    end\n",
        "  end\n",
        "\n",
        "  return L, U\n",
        "end\n"
      ],
      "metadata": {
        "id": "SnUbllqsxBu-",
        "outputId": "cb06886d-8eef-4460-eae5-71a51040246c",
        "colab": {
          "base_uri": "https://localhost:8080/"
        }
      },
      "execution_count": 6,
      "outputs": [
        {
          "output_type": "execute_result",
          "data": {
            "text/plain": [
              "flu (generic function with 1 method)"
            ]
          },
          "metadata": {},
          "execution_count": 6
        }
      ]
    },
    {
      "cell_type": "markdown",
      "source": [
        "**Fatoração de Cholesky**"
      ],
      "metadata": {
        "id": "lOPiBo_VB8sG"
      }
    },
    {
      "cell_type": "code",
      "source": [
        "function fchol(A)\n",
        "  n = size(A, 1)\n",
        "  L = zeros(n, n)\n",
        "\n",
        "  for i in 1:n\n",
        "    for j in 1:i\n",
        "      sum_k = dot(L[i, 1:j-1], L[j, 1:j-1])\n",
        "        if i == j\n",
        "          L[i, j] = sqrt(A[i, i] - sum_k)\n",
        "        else\n",
        "          L[i, j] = (A[i, j] - sum_k) / L[j, j]\n",
        "        end\n",
        "    end\n",
        "  end\n",
        "\n",
        "  return L\n",
        "end"
      ],
      "metadata": {
        "id": "-RO66Z34B6Zw",
        "outputId": "69214388-8fc0-4f1f-e323-248f0adf878b",
        "colab": {
          "base_uri": "https://localhost:8080/"
        }
      },
      "execution_count": 7,
      "outputs": [
        {
          "output_type": "execute_result",
          "data": {
            "text/plain": [
              "fchol (generic function with 1 method)"
            ]
          },
          "metadata": {},
          "execution_count": 7
        }
      ]
    },
    {
      "cell_type": "code",
      "source": [
        "function solve_system(n)\n",
        "  A = diagm(0 => fill(4.0, n),\n",
        "            1 => fill(-1.0, n-1), -1 => fill(-1.0, n-1),\n",
        "            2 => fill(-1.0, n-2), -2 => fill(-1.0, n-2))\n",
        "  b = A[:, n]\n",
        "\n",
        "  println(\"\\n============================\")\n",
        "  println(\"n = $n\")\n",
        "\n",
        "  t_lu = @elapsed begin\n",
        "    L, U = flu(A)# explicar pq admite\n",
        "    y = forward_substitution(L,b)\n",
        "    x_lu = back_substitution(U,y)\n",
        "  end\n",
        "\n",
        "  t_chol = @elapsed begin\n",
        "    L = fchol(A)# explicar pq admite\n",
        "    y = forward_substitution(L,b)\n",
        "    x_chol = back_substitution(L',y)\n",
        "  end\n",
        "\n",
        "  x_true = zeros(n)\n",
        "  x_true[end] = 1 # por que??? explicar\n",
        "  err_lu = norm(x_lu - x_true) / norm(x_true)\n",
        "  err_chol = norm(x_chol - x_true) / norm(x_true)\n",
        "\n",
        "  println(\"== Fatoração LU ==\")\n",
        "  println(\"Tempo: \", t_lu, \" segundos\")\n",
        "  println(\"Erro relativo: \", err_lu)\n",
        "\n",
        "  println(\"\\n== Fatoração de Cholesky ==\")\n",
        "  println(\"Tempo: \", t_chol, \" segundos\")\n",
        "  println(\"Erro relativo: \", err_chol)\n",
        "end"
      ],
      "metadata": {
        "id": "dfzoS1STCzkF",
        "outputId": "57a3bd27-46cc-4313-f652-969afcd3bfb2",
        "colab": {
          "base_uri": "https://localhost:8080/"
        }
      },
      "execution_count": 8,
      "outputs": [
        {
          "output_type": "execute_result",
          "data": {
            "text/plain": [
              "solve_system (generic function with 1 method)"
            ]
          },
          "metadata": {},
          "execution_count": 8
        }
      ]
    },
    {
      "cell_type": "code",
      "source": [
        "for n in [10, 100, 200, 400]\n",
        "    solve_system(n)\n",
        "end"
      ],
      "metadata": {
        "id": "7UXu_qCdDi3B",
        "outputId": "88ede8fe-536a-4bd3-d4ea-cbf4bea31842",
        "colab": {
          "base_uri": "https://localhost:8080/"
        }
      },
      "execution_count": 9,
      "outputs": [
        {
          "output_type": "stream",
          "name": "stdout",
          "text": [
            "\n",
            "============================\n",
            "n = 10\n",
            "== Fatoração LU ==\n",
            "Tempo: 6.6145e-5 segundos\n",
            "Erro relativo: 0.0\n",
            "\n",
            "== Fatoração de Cholesky ==\n",
            "Tempo: 2.3431e-5 segundos\n",
            "Erro relativo: 2.4317759426983836e-16\n",
            "\n",
            "============================\n",
            "n = 100\n",
            "== Fatoração LU ==\n",
            "Tempo: 0.010296549 segundos\n",
            "Erro relativo: 0.0\n",
            "\n",
            "== Fatoração de Cholesky ==\n",
            "Tempo: 0.003158518 segundos\n",
            "Erro relativo: 8.274363007295436e-16\n",
            "\n",
            "============================\n",
            "n = 200\n",
            "== Fatoração LU ==\n",
            "Tempo: 0.171408424 segundos\n",
            "Erro relativo: 0.0\n",
            "\n",
            "== Fatoração de Cholesky ==\n",
            "Tempo: 0.010449267 segundos\n",
            "Erro relativo: 9.720503087223581e-16\n",
            "\n",
            "============================\n",
            "n = 400\n",
            "== Fatoração LU ==\n",
            "Tempo: 0.389887224 segundos\n",
            "Erro relativo: 0.0\n",
            "\n",
            "== Fatoração de Cholesky ==\n",
            "Tempo: 0.111483929 segundos\n",
            "Erro relativo: 1.3701608414352226e-15\n"
          ]
        }
      ]
    },
    {
      "cell_type": "markdown",
      "source": [
        "## Questão 3"
      ],
      "metadata": {
        "id": "g2h6uO_rxB97"
      }
    },
    {
      "cell_type": "code",
      "source": [],
      "metadata": {
        "id": "pawsajQDxDot"
      },
      "execution_count": 10,
      "outputs": []
    },
    {
      "cell_type": "markdown",
      "source": [
        "## Questão 4\n",
        "\n",
        "Note que a matriz $A$ é simétrica e diagonalmente dominante com elementos positivos na diagonal. Logo, é simétrica positiva definida e admite fatoração de Cholesky."
      ],
      "metadata": {
        "id": "ixUeqxlPxD5S"
      }
    },
    {
      "cell_type": "code",
      "source": [
        "n=6\n",
        "\n",
        "A = Matrix{Float64}(I, n, n)\n",
        "A[1,2:n] .= 0.1\n",
        "A[2:n,1] .= 0.1\n",
        "\n",
        "G = fchol(A)\n",
        "println(\"Matriz G:\")\n",
        "print_matrix(G)"
      ],
      "metadata": {
        "id": "MLFbPCS6xIRl",
        "outputId": "f7b80be2-3ae6-4896-82a7-b0daa8c9b220",
        "colab": {
          "base_uri": "https://localhost:8080/"
        }
      },
      "execution_count": 13,
      "outputs": [
        {
          "output_type": "stream",
          "name": "stdout",
          "text": [
            "Matriz G:\n",
            "    1.0000     0.0000     0.0000     0.0000     0.0000     0.0000 \n",
            "    0.1000     0.9950     0.0000     0.0000     0.0000     0.0000 \n",
            "    0.1000    -0.0101     0.9949     0.0000     0.0000     0.0000 \n",
            "    0.1000    -0.0101    -0.0102     0.9949     0.0000     0.0000 \n",
            "    0.1000    -0.0101    -0.0102    -0.0103     0.9948     0.0000 \n",
            "    0.1000    -0.0101    -0.0102    -0.0103    -0.0104     0.9948 \n"
          ]
        }
      ]
    },
    {
      "cell_type": "markdown",
      "source": [
        "Observe que a esparsidade de $A$ não é preservada em $G$ devido à natureza da fatoração de Cholesky. Isso porque os elementos da 1° linha \"contaminam\" as próximas linhas.\n",
        "\n",
        "Para resolver esse problema, podemos encontrar uma matriz de permutação $P$ que transfere a primeira linha/coluna de $A$ para a última linha/coluna."
      ],
      "metadata": {
        "id": "LP4fAlGj_rrv"
      }
    },
    {
      "cell_type": "code",
      "source": [
        "I6 = Matrix(I, n, n)\n",
        "P = I6[[2, 3, 4, 5, 6, 1], :]"
      ],
      "metadata": {
        "colab": {
          "base_uri": "https://localhost:8080/"
        },
        "id": "SU8fCTfJBwN5",
        "outputId": "560341aa-5a71-4ab1-a170-09d4d1819326"
      },
      "execution_count": 14,
      "outputs": [
        {
          "output_type": "execute_result",
          "data": {
            "text/plain": [
              "6×6 Matrix{Bool}:\n",
              " 0  1  0  0  0  0\n",
              " 0  0  1  0  0  0\n",
              " 0  0  0  1  0  0\n",
              " 0  0  0  0  1  0\n",
              " 0  0  0  0  0  1\n",
              " 1  0  0  0  0  0"
            ]
          },
          "metadata": {},
          "execution_count": 14
        }
      ]
    },
    {
      "cell_type": "markdown",
      "source": [
        "Observe $PAP^{-1}=PAP^T$"
      ],
      "metadata": {
        "id": "vSfGfflDCNR2"
      }
    },
    {
      "cell_type": "code",
      "source": [
        "PAPt = P*A*P'"
      ],
      "metadata": {
        "colab": {
          "base_uri": "https://localhost:8080/"
        },
        "id": "huW3EuytCSsh",
        "outputId": "fc7d433b-8e61-4bfc-a8a4-458e8cb0d19b"
      },
      "execution_count": 16,
      "outputs": [
        {
          "output_type": "execute_result",
          "data": {
            "text/plain": [
              "6×6 Matrix{Float64}:\n",
              " 1.0  0.0  0.0  0.0  0.0  0.1\n",
              " 0.0  1.0  0.0  0.0  0.0  0.1\n",
              " 0.0  0.0  1.0  0.0  0.0  0.1\n",
              " 0.0  0.0  0.0  1.0  0.0  0.1\n",
              " 0.0  0.0  0.0  0.0  1.0  0.1\n",
              " 0.1  0.1  0.1  0.1  0.1  1.0"
            ]
          },
          "metadata": {},
          "execution_count": 16
        }
      ]
    },
    {
      "cell_type": "markdown",
      "source": [
        "Assim, calculando o seu fator de Cholesky, temos"
      ],
      "metadata": {
        "id": "phEFwNCQCEw2"
      }
    },
    {
      "cell_type": "code",
      "source": [
        "G = fchol(PAPt)\n",
        "println(\"Matriz G:\")\n",
        "print_matrix(G)"
      ],
      "metadata": {
        "colab": {
          "base_uri": "https://localhost:8080/"
        },
        "id": "uiKVmcIwChwd",
        "outputId": "b8e1f62a-1185-4763-811b-9fd826c0cf16"
      },
      "execution_count": 17,
      "outputs": [
        {
          "output_type": "stream",
          "name": "stdout",
          "text": [
            "Matriz G:\n",
            "    1.0000     0.0000     0.0000     0.0000     0.0000     0.0000 \n",
            "    0.0000     1.0000     0.0000     0.0000     0.0000     0.0000 \n",
            "    0.0000     0.0000     1.0000     0.0000     0.0000     0.0000 \n",
            "    0.0000     0.0000     0.0000     1.0000     0.0000     0.0000 \n",
            "    0.0000     0.0000     0.0000     0.0000     1.0000     0.0000 \n",
            "    0.1000     0.1000     0.1000     0.1000     0.1000     0.9747 \n"
          ]
        }
      ]
    },
    {
      "cell_type": "markdown",
      "source": [
        "Note que $G$ preserva a esparsidade da matriz."
      ],
      "metadata": {
        "id": "o7M0yAxUCoc0"
      }
    }
  ]
}