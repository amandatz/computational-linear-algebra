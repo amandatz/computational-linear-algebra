{
  "nbformat": 4,
  "nbformat_minor": 0,
  "metadata": {
    "colab": {
      "provenance": [],
      "authorship_tag": "ABX9TyO67Y2DLHW/p54eG/FhHR4Y",
      "include_colab_link": true
    },
    "kernelspec": {
      "name": "julia",
      "display_name": "Julia"
    },
    "language_info": {
      "name": "julia"
    }
  },
  "cells": [
    {
      "cell_type": "markdown",
      "metadata": {
        "id": "view-in-github",
        "colab_type": "text"
      },
      "source": [
        "<a href=\"https://colab.research.google.com/github/amandatz/computational-linear-algebra/blob/main/Atividade2.ipynb\" target=\"_parent\"><img src=\"https://colab.research.google.com/assets/colab-badge.svg\" alt=\"Open In Colab\"/></a>"
      ]
    },
    {
      "cell_type": "markdown",
      "source": [
        "# Atividade 2"
      ],
      "metadata": {
        "id": "Zmb3QMu5w2LT"
      }
    },
    {
      "cell_type": "code",
      "source": [
        "using LinearAlgebra"
      ],
      "metadata": {
        "id": "i47hAtqfC51c"
      },
      "execution_count": 1,
      "outputs": []
    },
    {
      "cell_type": "code",
      "source": [
        "using Printf\n",
        "\n",
        "function print_matrix(M)\n",
        "  for i in 1:size(M, 1)\n",
        "    for j in 1:size(M, 2)\n",
        "      @printf(\"%10.4f \", M[i, j])\n",
        "    end\n",
        "    println()\n",
        "  end\n",
        "end\n"
      ],
      "metadata": {
        "id": "GReGDY8sw5v8",
        "outputId": "0edd8918-6a2c-4871-a2cb-f71cc866a636",
        "colab": {
          "base_uri": "https://localhost:8080/"
        }
      },
      "execution_count": 2,
      "outputs": [
        {
          "output_type": "execute_result",
          "data": {
            "text/plain": [
              "print_matrix (generic function with 1 method)"
            ]
          },
          "metadata": {},
          "execution_count": 2
        }
      ]
    },
    {
      "cell_type": "markdown",
      "source": [
        "## Questão 1\n",
        "\n",
        "**Substituição regressiva**"
      ],
      "metadata": {
        "id": "09GDk6pLw6FH"
      }
    },
    {
      "cell_type": "code",
      "execution_count": 13,
      "metadata": {
        "id": "0wyJNit4vsbc",
        "outputId": "e69ce6dc-899e-4073-e09a-56e4c6225fec",
        "colab": {
          "base_uri": "https://localhost:8080/"
        }
      },
      "outputs": [
        {
          "output_type": "execute_result",
          "data": {
            "text/plain": [
              "back_substitution (generic function with 1 method)"
            ]
          },
          "metadata": {},
          "execution_count": 13
        }
      ],
      "source": [
        "function back_substitution(U, b)\n",
        "  n = length(b)\n",
        "  x = zeros(n)\n",
        "\n",
        "  for i = n:-1:1\n",
        "    x[i] = b[i]\n",
        "    for j = i+1:n\n",
        "      x[i] = x[i] - U[i,j] * x[j]\n",
        "    end\n",
        "    x[i] = x[i] / U[i,i]\n",
        "  end\n",
        "\n",
        "  return x\n",
        "end"
      ]
    },
    {
      "cell_type": "markdown",
      "source": [
        "**Substituição direta**"
      ],
      "metadata": {
        "id": "NvVSm-I4NT93"
      }
    },
    {
      "cell_type": "code",
      "source": [
        "function forward_substitution(L, b)\n",
        "  n = length(b)\n",
        "  x= zeros(n)\n",
        "\n",
        "  for i=1:n\n",
        "    x[i] = b[i]\n",
        "    for j=1:i-1\n",
        "      x[i] = x[i] - L[i,j]*x[j]\n",
        "    end\n",
        "    x[i] = x[i]/L[i,i]\n",
        "  end\n",
        "\n",
        "  return x\n",
        "end"
      ],
      "metadata": {
        "id": "TJ5k5ehzxg9A",
        "outputId": "47b6e51d-41e0-476a-8739-010b1eae6881",
        "colab": {
          "base_uri": "https://localhost:8080/"
        }
      },
      "execution_count": 14,
      "outputs": [
        {
          "output_type": "execute_result",
          "data": {
            "text/plain": [
              "forward_substitution (generic function with 1 method)"
            ]
          },
          "metadata": {},
          "execution_count": 14
        }
      ]
    },
    {
      "cell_type": "code",
      "source": [
        "n = 4\n",
        "U = triu(rand(n, n))\n",
        "L = tril(rand(n, n))\n",
        "b = rand(n)\n",
        "\n",
        "x_back = back_substitution(U, b)\n",
        "x_forward = forward_substitution(L, b)\n",
        "\n",
        "println(\"U = \")\n",
        "print_matrix(U)\n",
        "println(\"Solução (back-substitution):\")\n",
        "print_matrix(x_back)\n",
        "\n",
        "println(\"\\nL = \")\n",
        "print_matrix(L)\n",
        "println(\"Solução (forward-substitution):\")\n",
        "print_matrix(x_forward)\n"
      ],
      "metadata": {
        "id": "2CHjubSkxrfH",
        "outputId": "2748c657-d305-4d7e-c913-b409592cdd16",
        "colab": {
          "base_uri": "https://localhost:8080/"
        }
      },
      "execution_count": 5,
      "outputs": [
        {
          "output_type": "stream",
          "name": "stdout",
          "text": [
            "U = \n",
            "    0.3984     0.7366     0.1383     0.1343 \n",
            "    0.0000     0.6482     0.4737     0.3036 \n",
            "    0.0000     0.0000     0.7426     0.8089 \n",
            "    0.0000     0.0000     0.0000     0.3691 \n",
            "Solução (back-substitution):\n",
            "   -0.5580 \n",
            "    0.7292 \n",
            "    0.3551 \n",
            "    0.5403 \n",
            "\n",
            "L = \n",
            "    0.6708     0.0000     0.0000     0.0000 \n",
            "    0.9446     0.7536     0.0000     0.0000 \n",
            "    0.8472     0.2038     0.4667     0.0000 \n",
            "    0.8445     0.1911     0.0043     0.1028 \n",
            "Solução (forward-substitution):\n",
            "    0.6508 \n",
            "    0.2524 \n",
            "    0.2099 \n",
            "   -3.8848 \n"
          ]
        }
      ]
    },
    {
      "cell_type": "markdown",
      "source": [
        "## Questão 2\n",
        "\n",
        "**Fatoração LU**"
      ],
      "metadata": {
        "id": "HvF1tODXw7On"
      }
    },
    {
      "cell_type": "code",
      "source": [
        "function flu(A)\n",
        "  n = size(A, 1)\n",
        "  L = Matrix{Float64}(I, n, n)\n",
        "  U = copy(A)\n",
        "\n",
        "  for k in 1:n-1\n",
        "    for i in k+1:n\n",
        "      L[i, k] = U[i, k] / U[k, k]\n",
        "      U[i, k:n] -= L[i, k] * U[k, k:n]\n",
        "    end\n",
        "  end\n",
        "\n",
        "  return L, U\n",
        "end\n"
      ],
      "metadata": {
        "id": "SnUbllqsxBu-",
        "outputId": "74d97d93-5f76-4e01-83d5-7252fed19cb9",
        "colab": {
          "base_uri": "https://localhost:8080/"
        }
      },
      "execution_count": 15,
      "outputs": [
        {
          "output_type": "execute_result",
          "data": {
            "text/plain": [
              "flu (generic function with 1 method)"
            ]
          },
          "metadata": {},
          "execution_count": 15
        }
      ]
    },
    {
      "cell_type": "markdown",
      "source": [
        "**Fatoração de Cholesky**"
      ],
      "metadata": {
        "id": "lOPiBo_VB8sG"
      }
    },
    {
      "cell_type": "code",
      "source": [
        "function fchol(A)\n",
        "  n = size(A, 1)\n",
        "  L = zeros(n, n)\n",
        "\n",
        "  for i in 1:n\n",
        "    for j in 1:i\n",
        "      sum_k = dot(L[i, 1:j-1], L[j, 1:j-1])\n",
        "        if i == j\n",
        "          L[i, j] = sqrt(A[i, i] - sum_k)\n",
        "        else\n",
        "          L[i, j] = (A[i, j] - sum_k) / L[j, j]\n",
        "        end\n",
        "    end\n",
        "  end\n",
        "\n",
        "  return L\n",
        "end"
      ],
      "metadata": {
        "id": "-RO66Z34B6Zw",
        "outputId": "80efabea-096b-4e41-c8fb-6648c0787463",
        "colab": {
          "base_uri": "https://localhost:8080/"
        }
      },
      "execution_count": 16,
      "outputs": [
        {
          "output_type": "execute_result",
          "data": {
            "text/plain": [
              "fchol (generic function with 1 method)"
            ]
          },
          "metadata": {},
          "execution_count": 16
        }
      ]
    },
    {
      "cell_type": "code",
      "source": [
        "function solve_system(n)\n",
        "  A = diagm(0 => fill(4.0, n),\n",
        "            1 => fill(-1.0, n-1), -1 => fill(-1.0, n-1),\n",
        "            2 => fill(-1.0, n-2), -2 => fill(-1.0, n-2))\n",
        "  b = A[:, n]\n",
        "\n",
        "  println(\"\\n============================\")\n",
        "  println(\"n = $n\")\n",
        "\n",
        "  t_lu = @elapsed begin\n",
        "    L, U = flu(A)# explicar pq admite\n",
        "    y = forward_substitution(L,b)\n",
        "    x_lu = back_substitution(U,y)\n",
        "  end\n",
        "\n",
        "  t_chol = @elapsed begin\n",
        "    L = fchol(A)# explicar pq admite\n",
        "    y = forward_substitution(L,b)\n",
        "    x_chol = back_substitution(L',y)\n",
        "  end\n",
        "\n",
        "  x_true = zeros(n)\n",
        "  x_true[end] = 1 # por que??? explicar\n",
        "  err_lu = norm(x_lu - x_true) / norm(x_true)\n",
        "  err_chol = norm(x_chol - x_true) / norm(x_true)\n",
        "\n",
        "  println(\"== Fatoração LU ==\")\n",
        "  println(\"Tempo: \", t_lu, \" segundos\")\n",
        "  println(\"Erro relativo: \", err_lu)\n",
        "\n",
        "  println(\"\\n== Fatoração de Cholesky ==\")\n",
        "  println(\"Tempo: \", t_chol, \" segundos\")\n",
        "  println(\"Erro relativo: \", err_chol)\n",
        "end"
      ],
      "metadata": {
        "id": "dfzoS1STCzkF",
        "outputId": "78fde698-dcb7-45ec-f98d-d248628f4fab",
        "colab": {
          "base_uri": "https://localhost:8080/"
        }
      },
      "execution_count": 8,
      "outputs": [
        {
          "output_type": "execute_result",
          "data": {
            "text/plain": [
              "solve_system (generic function with 1 method)"
            ]
          },
          "metadata": {},
          "execution_count": 8
        }
      ]
    },
    {
      "cell_type": "code",
      "source": [
        "for n in [10, 100, 200, 400]\n",
        "    solve_system(n)\n",
        "end"
      ],
      "metadata": {
        "id": "7UXu_qCdDi3B",
        "outputId": "825902cc-29bc-46b8-e8c1-0b70b6791b3d",
        "colab": {
          "base_uri": "https://localhost:8080/"
        }
      },
      "execution_count": 9,
      "outputs": [
        {
          "output_type": "stream",
          "name": "stdout",
          "text": [
            "\n",
            "============================\n",
            "n = 10\n",
            "== Fatoração LU ==\n",
            "Tempo: 6.4449e-5 segundos\n",
            "Erro relativo: 0.0\n",
            "\n",
            "== Fatoração de Cholesky ==\n",
            "Tempo: 3.7707e-5 segundos\n",
            "Erro relativo: 2.4317759426983836e-16\n",
            "\n",
            "============================\n",
            "n = 100\n",
            "== Fatoração LU ==\n",
            "Tempo: 0.013044541 segundos\n",
            "Erro relativo: 0.0\n",
            "\n",
            "== Fatoração de Cholesky ==\n",
            "Tempo: 0.003510056 segundos\n",
            "Erro relativo: 8.274363007295436e-16\n",
            "\n",
            "============================\n",
            "n = 200\n",
            "== Fatoração LU ==\n",
            "Tempo: 0.211402081 segundos\n",
            "Erro relativo: 0.0\n",
            "\n",
            "== Fatoração de Cholesky ==\n",
            "Tempo: 0.011230167 segundos\n",
            "Erro relativo: 9.720503087223581e-16\n",
            "\n",
            "============================\n",
            "n = 400\n",
            "== Fatoração LU ==\n",
            "Tempo: 0.404008713 segundos\n",
            "Erro relativo: 0.0\n",
            "\n",
            "== Fatoração de Cholesky ==\n",
            "Tempo: 0.117709844 segundos\n",
            "Erro relativo: 1.3701608414352226e-15\n"
          ]
        }
      ]
    },
    {
      "cell_type": "markdown",
      "source": [
        "## Questão 3"
      ],
      "metadata": {
        "id": "g2h6uO_rxB97"
      }
    },
    {
      "cell_type": "code",
      "source": [],
      "metadata": {
        "id": "pawsajQDxDot"
      },
      "execution_count": 10,
      "outputs": []
    },
    {
      "cell_type": "markdown",
      "source": [
        "## Questão 4\n",
        "\n",
        "A matriz $A$ é diagonalmente dominante e, portanto, simétrica positiva definida. Nesse caso, pode-se utilizar a fatoração de Cholesky."
      ],
      "metadata": {
        "id": "ixUeqxlPxD5S"
      }
    },
    {
      "cell_type": "code",
      "source": [
        "n=6\n",
        "\n",
        "A = Matrix{Float64}(I, n, n)\n",
        "A[1,2:n] .= 0.1\n",
        "A[2:n,1] .= 0.1\n",
        "\n",
        "L = fchol(A)\n",
        "println(\"Matriz L:\")\n",
        "print_matrix(L)"
      ],
      "metadata": {
        "id": "MLFbPCS6xIRl",
        "outputId": "2c5d905f-7827-4ae8-b950-383a719e585a",
        "colab": {
          "base_uri": "https://localhost:8080/"
        }
      },
      "execution_count": 18,
      "outputs": [
        {
          "output_type": "stream",
          "name": "stdout",
          "text": [
            "Matriz L:\n",
            "    1.0000     0.0000     0.0000     0.0000     0.0000     0.0000 \n",
            "    0.1000     0.9950     0.0000     0.0000     0.0000     0.0000 \n",
            "    0.1000    -0.0101     0.9949     0.0000     0.0000     0.0000 \n",
            "    0.1000    -0.0101    -0.0102     0.9949     0.0000     0.0000 \n",
            "    0.1000    -0.0101    -0.0102    -0.0103     0.9948     0.0000 \n",
            "    0.1000    -0.0101    -0.0102    -0.0103    -0.0104     0.9948 \n"
          ]
        }
      ]
    },
    {
      "cell_type": "code",
      "source": [
        "A"
      ],
      "metadata": {
        "colab": {
          "base_uri": "https://localhost:8080/"
        },
        "id": "jcMUYkUqMfJf",
        "outputId": "7dd8b3b8-b5a3-4e09-fa33-d20afef80880"
      },
      "execution_count": 12,
      "outputs": [
        {
          "output_type": "execute_result",
          "data": {
            "text/plain": [
              "6×6 Matrix{Float64}:\n",
              " 1.0  0.1  0.1  0.1  0.1  0.1\n",
              " 0.1  1.0  0.0  0.0  0.0  0.0\n",
              " 0.1  0.0  1.0  0.0  0.0  0.0\n",
              " 0.1  0.0  0.0  1.0  0.0  0.0\n",
              " 0.1  0.0  0.0  0.0  1.0  0.0\n",
              " 0.1  0.0  0.0  0.0  0.0  1.0"
            ]
          },
          "metadata": {},
          "execution_count": 12
        }
      ]
    }
  ]
}