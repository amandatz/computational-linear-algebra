{
  "nbformat": 4,
  "nbformat_minor": 0,
  "metadata": {
    "colab": {
      "provenance": [],
      "authorship_tag": "ABX9TyOlRC1GKy/wKovQauyVJXdj",
      "include_colab_link": true
    },
    "kernelspec": {
      "name": "julia",
      "display_name": "Julia"
    },
    "language_info": {
      "name": "julia"
    }
  },
  "cells": [
    {
      "cell_type": "markdown",
      "metadata": {
        "id": "view-in-github",
        "colab_type": "text"
      },
      "source": [
        "<a href=\"https://colab.research.google.com/github/amandatz/computational-linear-algebra/blob/main/Atividade2.ipynb\" target=\"_parent\"><img src=\"https://colab.research.google.com/assets/colab-badge.svg\" alt=\"Open In Colab\"/></a>"
      ]
    },
    {
      "cell_type": "markdown",
      "source": [
        "# Atividade 2"
      ],
      "metadata": {
        "id": "Zmb3QMu5w2LT"
      }
    },
    {
      "cell_type": "code",
      "source": [
        "using LinearAlgebra"
      ],
      "metadata": {
        "id": "i47hAtqfC51c"
      },
      "execution_count": 11,
      "outputs": []
    },
    {
      "cell_type": "code",
      "source": [
        "using Printf\n",
        "\n",
        "function print_matrix(M)\n",
        "    for i in 1:size(M, 1)\n",
        "        for j in 1:size(M, 2)\n",
        "            @printf(\"%10.4f \", M[i, j])\n",
        "        end\n",
        "        println()\n",
        "    end\n",
        "end\n"
      ],
      "metadata": {
        "id": "GReGDY8sw5v8",
        "outputId": "b448c29e-3d95-464c-f9e5-5cc2955ac3b7",
        "colab": {
          "base_uri": "https://localhost:8080/"
        }
      },
      "execution_count": 12,
      "outputs": [
        {
          "output_type": "execute_result",
          "data": {
            "text/plain": [
              "print_matrix (generic function with 1 method)"
            ]
          },
          "metadata": {},
          "execution_count": 12
        }
      ]
    },
    {
      "cell_type": "markdown",
      "source": [
        "## Questão 1"
      ],
      "metadata": {
        "id": "09GDk6pLw6FH"
      }
    },
    {
      "cell_type": "code",
      "execution_count": 13,
      "metadata": {
        "id": "0wyJNit4vsbc",
        "outputId": "03cc238a-e48b-451b-afef-e89b62ac562b",
        "colab": {
          "base_uri": "https://localhost:8080/"
        }
      },
      "outputs": [
        {
          "output_type": "execute_result",
          "data": {
            "text/plain": [
              "back_substitution (generic function with 1 method)"
            ]
          },
          "metadata": {},
          "execution_count": 13
        }
      ],
      "source": [
        "function back_substitution(U, b)\n",
        "    n = length(b)\n",
        "    x = zeros(n)\n",
        "\n",
        "    for i in n:-1:1\n",
        "        sum_term = sum(U[i, j] * x[j] for j in i+1:n; init=0.0)\n",
        "        x[i] = (b[i] - sum_term) / U[i, i]\n",
        "    end\n",
        "\n",
        "    return x\n",
        "end"
      ]
    },
    {
      "cell_type": "code",
      "source": [
        "function forward_substitution(L, b)\n",
        "    n = length(b)\n",
        "    x = zeros(n)\n",
        "\n",
        "    for i in 1:n\n",
        "        sum_term = sum(L[i, j] * x[j] for j in 1:i-1; init=0.0)\n",
        "        x[i] = (b[i] - sum_term) / L[i, i]\n",
        "    end\n",
        "\n",
        "    return x\n",
        "end\n"
      ],
      "metadata": {
        "id": "TJ5k5ehzxg9A",
        "outputId": "6b58551d-cd04-4f66-fad0-89268e2095fd",
        "colab": {
          "base_uri": "https://localhost:8080/"
        }
      },
      "execution_count": 14,
      "outputs": [
        {
          "output_type": "execute_result",
          "data": {
            "text/plain": [
              "forward_substitution (generic function with 1 method)"
            ]
          },
          "metadata": {},
          "execution_count": 14
        }
      ]
    },
    {
      "cell_type": "code",
      "source": [
        "n = 4\n",
        "U = triu(rand(n, n))\n",
        "L = tril(rand(n, n))\n",
        "b = rand(n)\n",
        "\n",
        "x_back = back_substitution(U, b)\n",
        "x_forward = forward_substitution(L, b)\n",
        "\n",
        "println(\"U = \")\n",
        "print_matrix(U)\n",
        "println(\"Solução (back-substitution):\")\n",
        "print_matrix(x_back)\n",
        "\n",
        "println(\"\\nL = \")\n",
        "print_matrix(L)\n",
        "println(\"Solução (forward-substitution):\")\n",
        "print_matrix(x_forward)\n"
      ],
      "metadata": {
        "id": "2CHjubSkxrfH",
        "outputId": "4fedcbfb-840b-4267-b4d4-28e617bee21c",
        "colab": {
          "base_uri": "https://localhost:8080/"
        }
      },
      "execution_count": 15,
      "outputs": [
        {
          "output_type": "stream",
          "name": "stdout",
          "text": [
            "U = \n",
            "    0.8477     0.0749     0.4431     0.5266 \n",
            "    0.0000     0.3182     0.7747     0.7619 \n",
            "    0.0000     0.0000     0.5532     0.2620 \n",
            "    0.0000     0.0000     0.0000     0.9160 \n",
            "Solução (back-substitution):\n",
            "   -0.2915 \n",
            "   -2.8283 \n",
            "    1.3685 \n",
            "    0.8845 \n",
            "\n",
            "L = \n",
            "    0.1441     0.0000     0.0000     0.0000 \n",
            "    0.1023     0.7242     0.0000     0.0000 \n",
            "    0.6931     0.0534     0.0383     0.0000 \n",
            "    0.2166     0.3333     0.4533     0.9798 \n",
            "Solução (forward-substitution):\n",
            "    4.2546 \n",
            "    0.5506 \n",
            "  -51.9738 \n",
            "   23.7461 \n"
          ]
        }
      ]
    },
    {
      "cell_type": "markdown",
      "source": [
        "## Questão 2\n",
        "\n",
        "**Fatoração LU**"
      ],
      "metadata": {
        "id": "HvF1tODXw7On"
      }
    },
    {
      "cell_type": "code",
      "source": [
        "function flu(A)\n",
        "    n = size(A, 1)\n",
        "    L = Matrix{Float64}(I, n, n)\n",
        "    U = copy(A)\n",
        "\n",
        "    for k in 1:n-1\n",
        "        for i in k+1:n\n",
        "            L[i, k] = U[i, k] / U[k, k]\n",
        "            U[i, k:n] -= L[i, k] * U[k, k:n]\n",
        "        end\n",
        "    end\n",
        "\n",
        "    return L, U\n",
        "end\n"
      ],
      "metadata": {
        "id": "SnUbllqsxBu-",
        "outputId": "6bb00b28-55fa-4a36-9de4-00b9b77986d4",
        "colab": {
          "base_uri": "https://localhost:8080/"
        }
      },
      "execution_count": 16,
      "outputs": [
        {
          "output_type": "execute_result",
          "data": {
            "text/plain": [
              "flu (generic function with 1 method)"
            ]
          },
          "metadata": {},
          "execution_count": 16
        }
      ]
    },
    {
      "cell_type": "markdown",
      "source": [
        "**Fatoração de Cholesky**"
      ],
      "metadata": {
        "id": "lOPiBo_VB8sG"
      }
    },
    {
      "cell_type": "code",
      "source": [
        "function fchol(A)\n",
        "    n = size(A, 1)\n",
        "    L = zeros(n, n)\n",
        "\n",
        "    for i in 1:n\n",
        "        for j in 1:i\n",
        "            sum_k = dot(L[i, 1:j-1], L[j, 1:j-1])\n",
        "            if i == j\n",
        "                L[i, j] = sqrt(A[i, i] - sum_k)\n",
        "            else\n",
        "                L[i, j] = (A[i, j] - sum_k) / L[j, j]\n",
        "            end\n",
        "        end\n",
        "    end\n",
        "\n",
        "    return L\n",
        "end"
      ],
      "metadata": {
        "id": "-RO66Z34B6Zw",
        "outputId": "771bf789-21b0-479e-81d7-a6f33b354d0d",
        "colab": {
          "base_uri": "https://localhost:8080/"
        }
      },
      "execution_count": 17,
      "outputs": [
        {
          "output_type": "execute_result",
          "data": {
            "text/plain": [
              "fchol (generic function with 1 method)"
            ]
          },
          "metadata": {},
          "execution_count": 17
        }
      ]
    },
    {
      "cell_type": "code",
      "source": [
        "function solve_system(n)\n",
        "    A = diagm(0 => fill(4.0, n),\n",
        "              1 => fill(-1.0, n-1), -1 => fill(-1.0, n-1),\n",
        "              2 => fill(-1.0, n-2), -2 => fill(-1.0, n-2))\n",
        "    b = A[:, n]\n",
        "\n",
        "    println(\"\\n============================\")\n",
        "    println(\"n = $n\")\n",
        "\n",
        "    t_lu = @elapsed begin\n",
        "        L, U = flu(A)\n",
        "        y = forward_substitution(L,b)\n",
        "        x_lu = back_substitution(U,y)\n",
        "    end\n",
        "\n",
        "    t_chol = @elapsed begin\n",
        "        L = fchol(A)\n",
        "        y = forward_substitution(L,b)\n",
        "        x_chol = back_substitution(L',y)\n",
        "    end\n",
        "\n",
        "    x_true = zeros(n)\n",
        "    x_true[end] = 1 # por que??? explicar\n",
        "    err_lu = norm(x_lu - x_true) / norm(x_true)\n",
        "    err_chol = norm(x_chol - x_true) / norm(x_true)\n",
        "\n",
        "    println(\"== Fatoração LU ==\")\n",
        "    println(\"Tempo: \", t_lu, \" segundos\")\n",
        "    println(\"Erro relativo: \", err_lu)\n",
        "\n",
        "    println(\"\\n== Fatoração de Cholesky ==\")\n",
        "    println(\"Tempo: \", t_chol, \" segundos\")\n",
        "    println(\"Erro relativo: \", err_chol)\n",
        "end"
      ],
      "metadata": {
        "id": "dfzoS1STCzkF",
        "outputId": "5bc4f54d-5a66-48ee-e7d7-964bab5c5a0c",
        "colab": {
          "base_uri": "https://localhost:8080/"
        }
      },
      "execution_count": 38,
      "outputs": [
        {
          "output_type": "execute_result",
          "data": {
            "text/plain": [
              "solve_system (generic function with 1 method)"
            ]
          },
          "metadata": {},
          "execution_count": 38
        }
      ]
    },
    {
      "cell_type": "code",
      "source": [
        "for n in [10, 100, 200, 400]\n",
        "    solve_system(n)\n",
        "end"
      ],
      "metadata": {
        "id": "7UXu_qCdDi3B",
        "outputId": "7b0d853b-604a-4529-9f84-b4ff91e34691",
        "colab": {
          "base_uri": "https://localhost:8080/"
        }
      },
      "execution_count": 39,
      "outputs": [
        {
          "output_type": "stream",
          "name": "stdout",
          "text": [
            "\n",
            "============================\n",
            "n = 10\n",
            "== Fatoração LU ==\n",
            "Tempo: 1.9234e-5 segundos\n",
            "Erro relativo: 0.0\n",
            "\n",
            "== Fatoração de Cholesky ==\n",
            "Tempo: 1.1387e-5 segundos\n",
            "Erro relativo: 0.0\n",
            "\n",
            "============================\n",
            "n = 100\n",
            "== Fatoração LU ==\n",
            "Tempo: 0.00315154 segundos\n",
            "Erro relativo: 0.0\n",
            "\n",
            "== Fatoração de Cholesky ==\n",
            "Tempo: 0.001265525 segundos\n",
            "Erro relativo: 0.0\n",
            "\n",
            "============================\n",
            "n = 200\n",
            "== Fatoração LU ==\n",
            "Tempo: 0.028548265 segundos\n",
            "Erro relativo: 0.0\n",
            "\n",
            "== Fatoração de Cholesky ==\n",
            "Tempo: 0.008029958 segundos\n",
            "Erro relativo: 9.720503087223581e-16\n",
            "\n",
            "============================\n",
            "n = 400\n",
            "== Fatoração LU ==\n",
            "Tempo: 0.34887259 segundos\n",
            "Erro relativo: 0.0\n",
            "\n",
            "== Fatoração de Cholesky ==\n",
            "Tempo: 0.079356894 segundos\n",
            "Erro relativo: 1.6024819772089442e-15\n"
          ]
        }
      ]
    },
    {
      "cell_type": "markdown",
      "source": [
        "## Questão 3"
      ],
      "metadata": {
        "id": "g2h6uO_rxB97"
      }
    },
    {
      "cell_type": "code",
      "source": [],
      "metadata": {
        "id": "pawsajQDxDot"
      },
      "execution_count": 20,
      "outputs": []
    },
    {
      "cell_type": "markdown",
      "source": [
        "## Questão 4"
      ],
      "metadata": {
        "id": "ixUeqxlPxD5S"
      }
    },
    {
      "cell_type": "code",
      "source": [
        "n= 6\n",
        "\n",
        "A = 0.1 * ones(n, n)\n",
        "for i in 1:n\n",
        "    A[i, i] = 1\n",
        "end\n",
        "\n",
        "L = fchol(A)\n",
        "println(\"Matriz L (Fator de Cholesky):\")\n",
        "print_matrix(L)"
      ],
      "metadata": {
        "id": "MLFbPCS6xIRl",
        "outputId": "fafc3bd6-c843-48e1-9993-671821d9ba7c",
        "colab": {
          "base_uri": "https://localhost:8080/"
        }
      },
      "execution_count": 21,
      "outputs": [
        {
          "output_type": "stream",
          "name": "stdout",
          "text": [
            "Matriz L (Fator de Cholesky):\n",
            "    1.0000     0.0000     0.0000     0.0000     0.0000     0.0000 \n",
            "    0.1000     0.9950     0.0000     0.0000     0.0000     0.0000 \n",
            "    0.1000     0.0905     0.9909     0.0000     0.0000     0.0000 \n",
            "    0.1000     0.0905     0.0826     0.9874     0.0000     0.0000 \n",
            "    0.1000     0.0905     0.0826     0.0760     0.9845     0.0000 \n",
            "    0.1000     0.0905     0.0826     0.0760     0.0703     0.9820 \n"
          ]
        }
      ]
    },
    {
      "cell_type": "code",
      "source": [],
      "metadata": {
        "id": "jcMUYkUqMfJf"
      },
      "execution_count": 22,
      "outputs": []
    }
  ]
}