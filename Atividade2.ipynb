{
  "nbformat": 4,
  "nbformat_minor": 0,
  "metadata": {
    "colab": {
      "provenance": [],
      "authorship_tag": "ABX9TyPOUT/H6pI4jNSbbtdW4tLG",
      "include_colab_link": true
    },
    "kernelspec": {
      "name": "julia",
      "display_name": "Julia"
    },
    "language_info": {
      "name": "julia"
    }
  },
  "cells": [
    {
      "cell_type": "markdown",
      "metadata": {
        "id": "view-in-github",
        "colab_type": "text"
      },
      "source": [
        "<a href=\"https://colab.research.google.com/github/amandatz/computational-linear-algebra/blob/main/Atividade2.ipynb\" target=\"_parent\"><img src=\"https://colab.research.google.com/assets/colab-badge.svg\" alt=\"Open In Colab\"/></a>"
      ]
    },
    {
      "cell_type": "markdown",
      "source": [
        "# Atividade 2"
      ],
      "metadata": {
        "id": "Zmb3QMu5w2LT"
      }
    },
    {
      "cell_type": "code",
      "source": [
        "using LinearAlgebra\n",
        "\n",
        "using Printf\n",
        "\n",
        "function print_matrix(M)\n",
        "    for i in 1:size(M, 1)\n",
        "        for j in 1:size(M, 2)\n",
        "            @printf(\"%10.4f \", M[i, j])\n",
        "        end\n",
        "        println()\n",
        "    end\n",
        "end\n"
      ],
      "metadata": {
        "id": "GReGDY8sw5v8",
        "outputId": "532f2cb3-5701-4a4b-8cdf-e6c89a4dbe23",
        "colab": {
          "base_uri": "https://localhost:8080/"
        }
      },
      "execution_count": 15,
      "outputs": [
        {
          "output_type": "execute_result",
          "data": {
            "text/plain": [
              "print_matrix (generic function with 1 method)"
            ]
          },
          "metadata": {},
          "execution_count": 15
        }
      ]
    },
    {
      "cell_type": "markdown",
      "source": [
        "## Questão 1"
      ],
      "metadata": {
        "id": "09GDk6pLw6FH"
      }
    },
    {
      "cell_type": "code",
      "execution_count": 8,
      "metadata": {
        "id": "0wyJNit4vsbc",
        "outputId": "0e262293-224e-400c-9e40-9ff45e841faa",
        "colab": {
          "base_uri": "https://localhost:8080/"
        }
      },
      "outputs": [
        {
          "output_type": "execute_result",
          "data": {
            "text/plain": [
              "back_substitution (generic function with 1 method)"
            ]
          },
          "metadata": {},
          "execution_count": 8
        }
      ],
      "source": [
        "function back_substitution(U, b)\n",
        "    n = length(b)\n",
        "    x = zeros(n)\n",
        "\n",
        "    for i in n:-1:1\n",
        "        sum_term = sum(U[i, j] * x[j] for j in i+1:n; init=0.0)\n",
        "        x[i] = (b[i] - sum_term) / U[i, i]\n",
        "    end\n",
        "\n",
        "    return x\n",
        "end"
      ]
    },
    {
      "cell_type": "code",
      "source": [
        "function forward_substitution(L, b)\n",
        "    n = length(b)\n",
        "    x = zeros(n)\n",
        "\n",
        "    for i in 1:n\n",
        "        sum_term = sum(L[i, j] * x[j] for j in 1:i-1; init=0.0)\n",
        "        x[i] = (b[i] - sum_term) / L[i, i]\n",
        "    end\n",
        "\n",
        "    return x\n",
        "end\n"
      ],
      "metadata": {
        "id": "TJ5k5ehzxg9A",
        "outputId": "91b305b2-586e-42f7-cc6a-f6f5b59ac9c9",
        "colab": {
          "base_uri": "https://localhost:8080/"
        }
      },
      "execution_count": 9,
      "outputs": [
        {
          "output_type": "execute_result",
          "data": {
            "text/plain": [
              "forward_substitution (generic function with 1 method)"
            ]
          },
          "metadata": {},
          "execution_count": 9
        }
      ]
    },
    {
      "cell_type": "code",
      "source": [
        "n = 4\n",
        "U = triu(rand(n, n))\n",
        "L = tril(rand(n, n))\n",
        "b = rand(n)\n",
        "\n",
        "x_back = back_substitution(U, b)\n",
        "x_forward = forward_substitution(L, b)\n",
        "\n",
        "println(\"Upper Triangular Matrix U:\")\n",
        "print_matrix(U)\n",
        "println(\"Solução (back-substitution):\")\n",
        "print_matrix(x_back)\n",
        "\n",
        "println(\"\\nLower Triangular Matrix L:\")\n",
        "print_matrix(L)\n",
        "println(\"Solução (forward-substitution):\")\n",
        "print_matrix(x_forward)\n"
      ],
      "metadata": {
        "id": "2CHjubSkxrfH",
        "outputId": "e866d09f-1820-4c6b-f489-776d2f1c22a7",
        "colab": {
          "base_uri": "https://localhost:8080/"
        }
      },
      "execution_count": 19,
      "outputs": [
        {
          "output_type": "stream",
          "name": "stdout",
          "text": [
            "Upper Triangular Matrix U:\n",
            "    0.5951     0.6238     0.1677     0.7195 \n",
            "    0.0000     0.8411     0.6168     0.3838 \n",
            "    0.0000     0.0000     0.4039     0.7787 \n",
            "    0.0000     0.0000     0.0000     0.5427 \n",
            "Solução (back-substitution):\n",
            "   -1.6888 \n",
            "    1.0156 \n",
            "   -0.8490 \n",
            "    0.9189 \n",
            "\n",
            "Lower Triangular Matrix L:\n",
            "    0.1366     0.0000     0.0000     0.0000 \n",
            "    0.0872     0.0762     0.0000     0.0000 \n",
            "    0.7903     0.8308     0.1244     0.0000 \n",
            "    0.4685     0.4529     0.7464     0.6596 \n",
            "Solução (forward-substitution):\n",
            "    1.0783 \n",
            "    7.7392 \n",
            "  -55.5392 \n",
            "   57.5278 \n"
          ]
        }
      ]
    },
    {
      "cell_type": "markdown",
      "source": [
        "## Questão 2"
      ],
      "metadata": {
        "id": "HvF1tODXw7On"
      }
    },
    {
      "cell_type": "code",
      "source": [],
      "metadata": {
        "id": "SnUbllqsxBu-"
      },
      "execution_count": 3,
      "outputs": []
    },
    {
      "cell_type": "markdown",
      "source": [
        "## Questão 3"
      ],
      "metadata": {
        "id": "g2h6uO_rxB97"
      }
    },
    {
      "cell_type": "code",
      "source": [],
      "metadata": {
        "id": "pawsajQDxDot"
      },
      "execution_count": 4,
      "outputs": []
    },
    {
      "cell_type": "markdown",
      "source": [
        "## Questão 4"
      ],
      "metadata": {
        "id": "ixUeqxlPxD5S"
      }
    },
    {
      "cell_type": "code",
      "source": [],
      "metadata": {
        "id": "MLFbPCS6xIRl"
      },
      "execution_count": 5,
      "outputs": []
    }
  ]
}