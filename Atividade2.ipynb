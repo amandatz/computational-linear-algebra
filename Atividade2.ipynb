{
  "nbformat": 4,
  "nbformat_minor": 0,
  "metadata": {
    "colab": {
      "provenance": [],
      "authorship_tag": "ABX9TyPAOk35v3r2jDR0qyqY+76X",
      "include_colab_link": true
    },
    "kernelspec": {
      "name": "julia",
      "display_name": "Julia"
    },
    "language_info": {
      "name": "julia"
    }
  },
  "cells": [
    {
      "cell_type": "markdown",
      "metadata": {
        "id": "view-in-github",
        "colab_type": "text"
      },
      "source": [
        "<a href=\"https://colab.research.google.com/github/amandatz/computational-linear-algebra/blob/main/Atividade2.ipynb\" target=\"_parent\"><img src=\"https://colab.research.google.com/assets/colab-badge.svg\" alt=\"Open In Colab\"/></a>"
      ]
    },
    {
      "cell_type": "markdown",
      "source": [
        "# Atividade 2"
      ],
      "metadata": {
        "id": "Zmb3QMu5w2LT"
      }
    },
    {
      "cell_type": "code",
      "source": [
        "using LinearAlgebra"
      ],
      "metadata": {
        "id": "GReGDY8sw5v8"
      },
      "execution_count": 1,
      "outputs": []
    },
    {
      "cell_type": "markdown",
      "source": [
        "## Questão 1"
      ],
      "metadata": {
        "id": "09GDk6pLw6FH"
      }
    },
    {
      "cell_type": "code",
      "execution_count": null,
      "metadata": {
        "id": "0wyJNit4vsbc"
      },
      "outputs": [],
      "source": []
    },
    {
      "cell_type": "markdown",
      "source": [
        "## Questão 2"
      ],
      "metadata": {
        "id": "HvF1tODXw7On"
      }
    },
    {
      "cell_type": "code",
      "source": [],
      "metadata": {
        "id": "SnUbllqsxBu-"
      },
      "execution_count": null,
      "outputs": []
    },
    {
      "cell_type": "markdown",
      "source": [
        "## Questão 3"
      ],
      "metadata": {
        "id": "g2h6uO_rxB97"
      }
    },
    {
      "cell_type": "code",
      "source": [],
      "metadata": {
        "id": "pawsajQDxDot"
      },
      "execution_count": null,
      "outputs": []
    },
    {
      "cell_type": "markdown",
      "source": [
        "## Questão 4"
      ],
      "metadata": {
        "id": "ixUeqxlPxD5S"
      }
    },
    {
      "cell_type": "code",
      "source": [],
      "metadata": {
        "id": "MLFbPCS6xIRl"
      },
      "execution_count": null,
      "outputs": []
    }
  ]
}