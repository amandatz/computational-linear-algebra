{
  "nbformat": 4,
  "nbformat_minor": 0,
  "metadata": {
    "colab": {
      "provenance": [],
      "authorship_tag": "ABX9TyOtOnuQ98SyseHAvDO5j5L7",
      "include_colab_link": true
    },
    "kernelspec": {
      "name": "julia",
      "display_name": "Julia"
    },
    "language_info": {
      "name": "julia"
    }
  },
  "cells": [
    {
      "cell_type": "markdown",
      "metadata": {
        "id": "view-in-github",
        "colab_type": "text"
      },
      "source": [
        "<a href=\"https://colab.research.google.com/github/amandatz/computational-linear-algebra/blob/main/Atividade2.ipynb\" target=\"_parent\"><img src=\"https://colab.research.google.com/assets/colab-badge.svg\" alt=\"Open In Colab\"/></a>"
      ]
    },
    {
      "cell_type": "markdown",
      "source": [
        "# Atividade 2"
      ],
      "metadata": {
        "id": "Zmb3QMu5w2LT"
      }
    },
    {
      "cell_type": "code",
      "source": [
        "using LinearAlgebra"
      ],
      "metadata": {
        "id": "i47hAtqfC51c"
      },
      "execution_count": 11,
      "outputs": []
    },
    {
      "cell_type": "code",
      "source": [
        "using Printf\n",
        "\n",
        "function print_matrix(M)\n",
        "    for i in 1:size(M, 1)\n",
        "        for j in 1:size(M, 2)\n",
        "            @printf(\"%10.4f \", M[i, j])\n",
        "        end\n",
        "        println()\n",
        "    end\n",
        "end\n"
      ],
      "metadata": {
        "id": "GReGDY8sw5v8",
        "outputId": "ce39e9ca-d114-4cd9-bdee-86a2c23a139f",
        "colab": {
          "base_uri": "https://localhost:8080/"
        }
      },
      "execution_count": 12,
      "outputs": [
        {
          "output_type": "execute_result",
          "data": {
            "text/plain": [
              "print_matrix (generic function with 1 method)"
            ]
          },
          "metadata": {},
          "execution_count": 12
        }
      ]
    },
    {
      "cell_type": "markdown",
      "source": [
        "## Questão 1"
      ],
      "metadata": {
        "id": "09GDk6pLw6FH"
      }
    },
    {
      "cell_type": "code",
      "execution_count": 3,
      "metadata": {
        "id": "0wyJNit4vsbc",
        "outputId": "5ebb8b37-aee0-4761-b1ed-412db87e5bb7",
        "colab": {
          "base_uri": "https://localhost:8080/"
        }
      },
      "outputs": [
        {
          "output_type": "execute_result",
          "data": {
            "text/plain": [
              "back_substitution (generic function with 1 method)"
            ]
          },
          "metadata": {},
          "execution_count": 3
        }
      ],
      "source": [
        "function back_substitution(U, b)\n",
        "    n = length(b)\n",
        "    x = zeros(n)\n",
        "\n",
        "    for i in n:-1:1\n",
        "        sum_term = sum(U[i, j] * x[j] for j in i+1:n; init=0.0)\n",
        "        x[i] = (b[i] - sum_term) / U[i, i]\n",
        "    end\n",
        "\n",
        "    return x\n",
        "end"
      ]
    },
    {
      "cell_type": "code",
      "source": [
        "function forward_substitution(L, b)\n",
        "    n = length(b)\n",
        "    x = zeros(n)\n",
        "\n",
        "    for i in 1:n\n",
        "        sum_term = sum(L[i, j] * x[j] for j in 1:i-1; init=0.0)\n",
        "        x[i] = (b[i] - sum_term) / L[i, i]\n",
        "    end\n",
        "\n",
        "    return x\n",
        "end\n"
      ],
      "metadata": {
        "id": "TJ5k5ehzxg9A",
        "outputId": "822dabe0-32cc-4fea-9e36-d2f57868bad5",
        "colab": {
          "base_uri": "https://localhost:8080/"
        }
      },
      "execution_count": 4,
      "outputs": [
        {
          "output_type": "execute_result",
          "data": {
            "text/plain": [
              "forward_substitution (generic function with 1 method)"
            ]
          },
          "metadata": {},
          "execution_count": 4
        }
      ]
    },
    {
      "cell_type": "code",
      "source": [
        "n = 4\n",
        "U = triu(rand(n, n))\n",
        "L = tril(rand(n, n))\n",
        "b = rand(n)\n",
        "\n",
        "x_back = back_substitution(U, b)\n",
        "x_forward = forward_substitution(L, b)\n",
        "\n",
        "println(\"U = \")\n",
        "print_matrix(U)\n",
        "println(\"Solução (back-substitution):\")\n",
        "print_matrix(x_back)\n",
        "\n",
        "println(\"\\nL = \")\n",
        "print_matrix(L)\n",
        "println(\"Solução (forward-substitution):\")\n",
        "print_matrix(x_forward)\n"
      ],
      "metadata": {
        "id": "2CHjubSkxrfH",
        "outputId": "6ef435b5-061f-41fe-e078-9abdb63e4d3f",
        "colab": {
          "base_uri": "https://localhost:8080/"
        }
      },
      "execution_count": 5,
      "outputs": [
        {
          "output_type": "stream",
          "name": "stdout",
          "text": [
            "U = \n",
            "    0.6387     0.3941     0.9860     0.9985 \n",
            "    0.0000     0.6069     0.7701     0.0724 \n",
            "    0.0000     0.0000     0.8102     0.9313 \n",
            "    0.0000     0.0000     0.0000     0.2949 \n",
            "Solução (back-substitution):\n",
            "   -2.1552 \n",
            "    3.6263 \n",
            "   -2.5720 \n",
            "    2.6552 \n",
            "\n",
            "L = \n",
            "    0.7593     0.0000     0.0000     0.0000 \n",
            "    0.2773     0.1867     0.0000     0.0000 \n",
            "    0.7395     0.8421     0.4980     0.0000 \n",
            "    0.9707     0.1830     0.4367     0.4420 \n",
            "Solução (forward-substitution):\n",
            "    0.2211 \n",
            "    1.8803 \n",
            "   -2.7264 \n",
            "    3.2014 \n"
          ]
        }
      ]
    },
    {
      "cell_type": "markdown",
      "source": [
        "## Questão 2\n",
        "\n",
        "**Fatoração LU**"
      ],
      "metadata": {
        "id": "HvF1tODXw7On"
      }
    },
    {
      "cell_type": "code",
      "source": [
        "function flu(A)\n",
        "    n = size(A, 1)\n",
        "    L = Matrix{Float64}(I, n, n)\n",
        "    U = copy(A)\n",
        "\n",
        "    for k in 1:n-1\n",
        "        for i in k+1:n\n",
        "            L[i, k] = U[i, k] / U[k, k]\n",
        "            U[i, k:n] -= L[i, k] * U[k, k:n]\n",
        "        end\n",
        "    end\n",
        "\n",
        "    return L, U\n",
        "end\n"
      ],
      "metadata": {
        "id": "SnUbllqsxBu-",
        "outputId": "f92298e8-cb8a-4301-c8c5-5b7d998395d9",
        "colab": {
          "base_uri": "https://localhost:8080/"
        }
      },
      "execution_count": 19,
      "outputs": [
        {
          "output_type": "execute_result",
          "data": {
            "text/plain": [
              "flu (generic function with 1 method)"
            ]
          },
          "metadata": {},
          "execution_count": 19
        }
      ]
    },
    {
      "cell_type": "markdown",
      "source": [
        "**Fatoração de Cholesky**"
      ],
      "metadata": {
        "id": "lOPiBo_VB8sG"
      }
    },
    {
      "cell_type": "code",
      "source": [
        "function fchol(A)\n",
        "    n = size(A, 1)\n",
        "    L = zeros(n, n)\n",
        "\n",
        "    for i in 1:n\n",
        "        for j in 1:i\n",
        "            sum_k = dot(L[i, 1:j-1], L[j, 1:j-1])\n",
        "            if i == j\n",
        "                L[i, j] = sqrt(A[i, i] - sum_k)\n",
        "            else\n",
        "                L[i, j] = (A[i, j] - sum_k) / L[j, j]\n",
        "            end\n",
        "        end\n",
        "    end\n",
        "\n",
        "    return L\n",
        "end"
      ],
      "metadata": {
        "id": "-RO66Z34B6Zw",
        "outputId": "3f2897c5-4228-40a8-acbe-30cc6e28e3de",
        "colab": {
          "base_uri": "https://localhost:8080/"
        }
      },
      "execution_count": 1,
      "outputs": [
        {
          "output_type": "execute_result",
          "data": {
            "text/plain": [
              "fchol (generic function with 1 method)"
            ]
          },
          "metadata": {},
          "execution_count": 1
        }
      ]
    },
    {
      "cell_type": "code",
      "source": [
        "function solve_system(n)\n",
        "    A = diagm(0 => fill(4.0, n), 1 => fill(-1.0, n-1), -1 => fill(-1.0, n-1))\n",
        "    b = A[:, n]\n",
        "\n",
        "    println(\"\\nn = $n\")\n",
        "\n",
        "    t_lu = @elapsed begin\n",
        "        L, U = flu(A)\n",
        "        y = L \\ b\n",
        "        x_lu = U \\ y\n",
        "    end\n",
        "\n",
        "    t_chol = @elapsed begin\n",
        "        L = fchol(A)\n",
        "        y = L \\ b\n",
        "        x_chol = L' \\ y\n",
        "    end\n",
        "\n",
        "    x_true = A \\ b\n",
        "    err_lu = norm(x_lu - x_true) / norm(x_true)\n",
        "    err_chol = norm(x_chol - x_true) / norm(x_true)\n",
        "\n",
        "    println(\"== Fatoração LU ==\")\n",
        "    println(\"Tempo: \", t_lu, \" segundos\")\n",
        "    println(\"Erro relativo: \", err_lu)\n",
        "\n",
        "    println(\"\\n== Fatoração de Cholesky ==\")\n",
        "    println(\"Tempo: \", t_chol, \" segundos\")\n",
        "    println(\"Erro relativo: \", err_chol)\n",
        "end"
      ],
      "metadata": {
        "id": "dfzoS1STCzkF",
        "outputId": "539f0a36-1e87-4d10-81d7-269a8ee0cdd7",
        "colab": {
          "base_uri": "https://localhost:8080/"
        }
      },
      "execution_count": 21,
      "outputs": [
        {
          "output_type": "execute_result",
          "data": {
            "text/plain": [
              "solve_system (generic function with 1 method)"
            ]
          },
          "metadata": {},
          "execution_count": 21
        }
      ]
    },
    {
      "cell_type": "code",
      "source": [
        "for n in [10, 100, 200, 400]\n",
        "    solve_system(n)\n",
        "end"
      ],
      "metadata": {
        "id": "7UXu_qCdDi3B",
        "outputId": "5f06f6ac-16c4-4758-acaa-9040fbcee398",
        "colab": {
          "base_uri": "https://localhost:8080/"
        }
      },
      "execution_count": 22,
      "outputs": [
        {
          "output_type": "stream",
          "name": "stdout",
          "text": [
            "\n",
            "n = 10\n",
            "== Fatoração LU ==\n",
            "Tempo: 0.001372729 segundos\n",
            "Erro relativo: 0.0\n",
            "\n",
            "== Fatoração de Cholesky ==\n",
            "Tempo: 5.9697e-5 segundos\n",
            "Erro relativo: 0.0\n",
            "\n",
            "n = 100\n",
            "== Fatoração LU ==\n",
            "Tempo: 0.032382605 segundos\n",
            "Erro relativo: 0.0\n",
            "\n",
            "== Fatoração de Cholesky ==\n",
            "Tempo: 0.002471021 segundos\n",
            "Erro relativo: 1.2603232678143242e-16\n",
            "\n",
            "n = 200\n",
            "== Fatoração LU ==\n",
            "Tempo: 0.097098074 segundos\n",
            "Erro relativo: 0.0\n",
            "\n",
            "== Fatoração de Cholesky ==\n",
            "Tempo: 0.014529949 segundos\n",
            "Erro relativo: 1.2603232678143242e-16\n",
            "\n",
            "n = 400\n",
            "== Fatoração LU ==\n",
            "Tempo: 0.559602245 segundos\n",
            "Erro relativo: 0.0\n",
            "\n",
            "== Fatoração de Cholesky ==\n",
            "Tempo: 0.103113404 segundos\n",
            "Erro relativo: 1.2603232678143242e-16\n"
          ]
        }
      ]
    },
    {
      "cell_type": "markdown",
      "source": [
        "## Questão 3"
      ],
      "metadata": {
        "id": "g2h6uO_rxB97"
      }
    },
    {
      "cell_type": "code",
      "source": [],
      "metadata": {
        "id": "pawsajQDxDot"
      },
      "execution_count": 7,
      "outputs": []
    },
    {
      "cell_type": "markdown",
      "source": [
        "## Questão 4"
      ],
      "metadata": {
        "id": "ixUeqxlPxD5S"
      }
    },
    {
      "cell_type": "code",
      "source": [
        "n= 6\n",
        "\n",
        "A = 0.1 * ones(n, n)\n",
        "for i in 1:n\n",
        "    A[i, i] = 1\n",
        "end\n",
        "\n",
        "\n",
        "L = fchol(A)\n",
        "println(\"Matriz L (Fator de Cholesky):\")\n",
        "print_matrix(L)"
      ],
      "metadata": {
        "id": "MLFbPCS6xIRl",
        "outputId": "77e4ccd9-b4fc-47de-a7fa-4779c99ab18e",
        "colab": {
          "base_uri": "https://localhost:8080/"
        }
      },
      "execution_count": 27,
      "outputs": [
        {
          "output_type": "stream",
          "name": "stdout",
          "text": [
            "Matriz L (Fator de Cholesky):\n",
            "    1.0000     0.0000     0.0000     0.0000     0.0000     0.0000 \n",
            "    0.1000     0.9950     0.0000     0.0000     0.0000     0.0000 \n",
            "    0.1000     0.0905     0.9909     0.0000     0.0000     0.0000 \n",
            "    0.1000     0.0905     0.0826     0.9874     0.0000     0.0000 \n",
            "    0.1000     0.0905     0.0826     0.0760     0.9845     0.0000 \n",
            "    0.1000     0.0905     0.0826     0.0760     0.0703     0.9820 \n"
          ]
        }
      ]
    }
  ]
}